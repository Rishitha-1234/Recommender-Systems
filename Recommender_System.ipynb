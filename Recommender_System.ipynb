{
  "nbformat": 4,
  "nbformat_minor": 0,
  "metadata": {
    "colab": {
      "provenance": [],
      "toc_visible": true,
      "include_colab_link": true
    },
    "kernelspec": {
      "name": "python3",
      "display_name": "Python 3"
    },
    "language_info": {
      "name": "python"
    }
  },
  "cells": [
    {
      "cell_type": "markdown",
      "metadata": {
        "id": "view-in-github",
        "colab_type": "text"
      },
      "source": [
        "<a href=\"https://colab.research.google.com/github/rishithapallala/datascience-mining/blob/main/Recommender_System.ipynb\" target=\"_parent\"><img src=\"https://colab.research.google.com/assets/colab-badge.svg\" alt=\"Open In Colab\"/></a>"
      ]
    },
    {
      "cell_type": "markdown",
      "source": [
        "# Data Science and Data Mining session on Recommenders system using Singular Value Decomposition."
      ],
      "metadata": {
        "id": "yMSG2ottfw4A"
      }
    },
    {
      "cell_type": "markdown",
      "source": [
        "Imagine you're at a film festival where each movie has different aspects like genres, actors, directors, and reviews that all come together to create the full picture. Just like in a movie, where each scene is well scripted and shot, in coding, each snippet of code plays a crucial role in the overall functionality. In this cinematic journey, we'll look at the code like the script of a film, with each part contributing to the storytelling."
      ],
      "metadata": {
        "id": "KqHskGBGEha7"
      }
    },
    {
      "cell_type": "markdown",
      "source": [
        "## Basic Matrices\n",
        "\n",
        "This film festival isn't just about the glitz and glamour; it's about understanding the core elements that make up a great cinematic experience. Here, we're talking about the fundamental operations with matrices, the building blocks of linear algebra just like the crew behind the scenes that make a movie possible."
      ],
      "metadata": {
        "id": "dtYrJ9FNntu-"
      }
    },
    {
      "cell_type": "code",
      "execution_count": null,
      "metadata": {
        "id": "LVjrtoa29dDv",
        "colab": {
          "base_uri": "https://localhost:8080/"
        },
        "outputId": "048f6990-372e-4a0c-983e-0087196cdf98"
      },
      "outputs": [
        {
          "output_type": "execute_result",
          "data": {
            "text/plain": [
              "(array([[1, 2],\n",
              "        [3, 4]]),\n",
              " array([[2, 2],\n",
              "        [2, 2]]))"
            ]
          },
          "metadata": {},
          "execution_count": 1
        }
      ],
      "source": [
        "import numpy as np\n",
        "\n",
        "# Define two 2x2 matrices for basic operations.\n",
        "matrix_a = np.array([[1, 2],\n",
        "                    [3, 4]])\n",
        "matrix_b = np.array([[2, 2],\n",
        "                    [2, 2]])\n",
        "# Display the matrices.\n",
        "matrix_a, matrix_b"
      ]
    },
    {
      "cell_type": "code",
      "source": [
        "# Perform matrix addition.\n",
        "added_matrix = matrix_a + matrix_b\n",
        "added_matrix"
      ],
      "metadata": {
        "id": "-d8bwPPlnq1E",
        "colab": {
          "base_uri": "https://localhost:8080/"
        },
        "outputId": "0c2bad66-bb5c-4135-c640-a8a88704c2c9"
      },
      "execution_count": null,
      "outputs": [
        {
          "output_type": "execute_result",
          "data": {
            "text/plain": [
              "array([[3, 4],\n",
              "       [5, 6]])"
            ]
          },
          "metadata": {},
          "execution_count": 2
        }
      ]
    },
    {
      "cell_type": "code",
      "source": [
        "# Perform matrix subtraction.\n",
        "subtracted_matrix = matrix_a - matrix_b\n",
        "subtracted_matrix"
      ],
      "metadata": {
        "id": "5OJh9Iv0n0qy",
        "colab": {
          "base_uri": "https://localhost:8080/"
        },
        "outputId": "ab057a0e-7c25-4010-b2d4-9c7b11433b46"
      },
      "execution_count": null,
      "outputs": [
        {
          "output_type": "execute_result",
          "data": {
            "text/plain": [
              "array([[-1,  0],\n",
              "       [ 1,  2]])"
            ]
          },
          "metadata": {},
          "execution_count": 3
        }
      ]
    },
    {
      "cell_type": "code",
      "source": [
        "# Scale matrix A by a factor of 3.\n",
        "scaled_matrix = 3 * matrix_a\n",
        "scaled_matrix"
      ],
      "metadata": {
        "id": "bw1WfVSBoGT0",
        "colab": {
          "base_uri": "https://localhost:8080/"
        },
        "outputId": "2dc70a3f-6380-4429-b693-c84f8f44ea56"
      },
      "execution_count": null,
      "outputs": [
        {
          "output_type": "execute_result",
          "data": {
            "text/plain": [
              "array([[ 3,  6],\n",
              "       [ 9, 12]])"
            ]
          },
          "metadata": {},
          "execution_count": 4
        }
      ]
    },
    {
      "cell_type": "code",
      "source": [
        "# Transpose matrix A.\n",
        "transposed_a = matrix_a.T\n",
        "transposed_a"
      ],
      "metadata": {
        "id": "nepRt9RkoH75",
        "colab": {
          "base_uri": "https://localhost:8080/"
        },
        "outputId": "4979c396-a3bb-4d5c-90dd-a9a0822204a7"
      },
      "execution_count": null,
      "outputs": [
        {
          "output_type": "execute_result",
          "data": {
            "text/plain": [
              "array([[1, 3],\n",
              "       [2, 4]])"
            ]
          },
          "metadata": {},
          "execution_count": 5
        }
      ]
    },
    {
      "cell_type": "code",
      "source": [
        "# Perform matrix multiplication.\n",
        "multiplied_matrix = np.dot(matrix_a, matrix_b)\n",
        "multiplied_matrix"
      ],
      "metadata": {
        "id": "sjgtK-QIoJot",
        "colab": {
          "base_uri": "https://localhost:8080/"
        },
        "outputId": "d91ef0b0-1575-4056-f44c-1e5f6edab263"
      },
      "execution_count": null,
      "outputs": [
        {
          "output_type": "execute_result",
          "data": {
            "text/plain": [
              "array([[ 6,  6],\n",
              "       [14, 14]])"
            ]
          },
          "metadata": {},
          "execution_count": 6
        }
      ]
    },
    {
      "cell_type": "code",
      "source": [
        "# Generate an identity matrix of size 2x2.\n",
        "identity_matrix = np.eye(2)\n",
        "identity_matrix"
      ],
      "metadata": {
        "id": "rolu7EqgoL4d",
        "colab": {
          "base_uri": "https://localhost:8080/"
        },
        "outputId": "0a6cea77-89b8-4501-daa0-9df88488ec43"
      },
      "execution_count": null,
      "outputs": [
        {
          "output_type": "execute_result",
          "data": {
            "text/plain": [
              "array([[1., 0.],\n",
              "       [0., 1.]])"
            ]
          },
          "metadata": {},
          "execution_count": 7
        }
      ]
    },
    {
      "cell_type": "code",
      "source": [
        "# Calculate the inverse of matrix A.\n",
        "inverse_matrix = np.linalg.inv(matrix_a)\n",
        "inverse_matrix"
      ],
      "metadata": {
        "id": "kJUvqdoVoOT-",
        "colab": {
          "base_uri": "https://localhost:8080/"
        },
        "outputId": "f1bb8abc-2369-46de-b26f-d63c51a930e4"
      },
      "execution_count": null,
      "outputs": [
        {
          "output_type": "execute_result",
          "data": {
            "text/plain": [
              "array([[-2. ,  1. ],\n",
              "       [ 1.5, -0.5]])"
            ]
          },
          "metadata": {},
          "execution_count": 8
        }
      ]
    },
    {
      "cell_type": "code",
      "source": [
        "# Calculate the determinant of matrix A.\n",
        "determinant = np.linalg.det(matrix_a)\n",
        "determinant"
      ],
      "metadata": {
        "id": "VTtT4npsoQ8o",
        "colab": {
          "base_uri": "https://localhost:8080/"
        },
        "outputId": "bc848fb1-120e-41c4-b25b-e20ff11c58ab"
      },
      "execution_count": null,
      "outputs": [
        {
          "output_type": "execute_result",
          "data": {
            "text/plain": [
              "-2.0000000000000004"
            ]
          },
          "metadata": {},
          "execution_count": 9
        }
      ]
    },
    {
      "cell_type": "code",
      "source": [
        "# Create a larger 3x3 matrix.\n",
        "large_matrix = np.array([[1, 2, 3],\n",
        "                        [4, 5, 6],\n",
        "                        [7, 8, 9]])\n",
        "large_matrix"
      ],
      "metadata": {
        "id": "4qChCvBOoS9s",
        "colab": {
          "base_uri": "https://localhost:8080/"
        },
        "outputId": "99bbed08-4d44-4fd3-a32b-b10f9d35efc3"
      },
      "execution_count": null,
      "outputs": [
        {
          "output_type": "execute_result",
          "data": {
            "text/plain": [
              "array([[1, 2, 3],\n",
              "       [4, 5, 6],\n",
              "       [7, 8, 9]])"
            ]
          },
          "metadata": {},
          "execution_count": 10
        }
      ]
    },
    {
      "cell_type": "code",
      "source": [
        "# Extract upper and lower triangular parts of the large matrix.\n",
        "upper_triangle = np.triu(large_matrix)\n",
        "lower_triangle = np.tril(large_matrix)\n",
        "\n",
        "upper_triangle, lower_triangle"
      ],
      "metadata": {
        "id": "a0xqw3iAoZDz",
        "colab": {
          "base_uri": "https://localhost:8080/"
        },
        "outputId": "d4e6623c-ec67-4382-8a19-0315eb376c3b"
      },
      "execution_count": null,
      "outputs": [
        {
          "output_type": "execute_result",
          "data": {
            "text/plain": [
              "(array([[1, 2, 3],\n",
              "        [0, 5, 6],\n",
              "        [0, 0, 9]]),\n",
              " array([[1, 0, 0],\n",
              "        [4, 5, 0],\n",
              "        [7, 8, 9]]))"
            ]
          },
          "metadata": {},
          "execution_count": 11
        }
      ]
    },
    {
      "cell_type": "code",
      "source": [
        "# Flatten the large matrix into a 1D array.\n",
        "flattened = large_matrix.flatten()\n",
        "\n",
        "flattened"
      ],
      "metadata": {
        "id": "64f7Bsbvot6T",
        "colab": {
          "base_uri": "https://localhost:8080/"
        },
        "outputId": "40895fd5-8a6b-44bf-ea12-b620081a030a"
      },
      "execution_count": null,
      "outputs": [
        {
          "output_type": "execute_result",
          "data": {
            "text/plain": [
              "array([1, 2, 3, 4, 5, 6, 7, 8, 9])"
            ]
          },
          "metadata": {},
          "execution_count": 12
        }
      ]
    },
    {
      "cell_type": "code",
      "source": [
        "# Reshape the large matrix to a different size.\n",
        "reshaped_matrix = large_matrix.reshape(9, 1)\n",
        "\n",
        "reshaped_matrix"
      ],
      "metadata": {
        "id": "PGMYgaqxoxrF",
        "colab": {
          "base_uri": "https://localhost:8080/"
        },
        "outputId": "47681d29-e96b-4b7e-c0f1-1c991fd0413f"
      },
      "execution_count": null,
      "outputs": [
        {
          "output_type": "execute_result",
          "data": {
            "text/plain": [
              "array([[1],\n",
              "       [2],\n",
              "       [3],\n",
              "       [4],\n",
              "       [5],\n",
              "       [6],\n",
              "       [7],\n",
              "       [8],\n",
              "       [9]])"
            ]
          },
          "metadata": {},
          "execution_count": 13
        }
      ]
    },
    {
      "cell_type": "code",
      "source": [
        "# Create a matrix with random values.\n",
        "random_matrix = np.random.rand(3, 3)\n",
        "\n",
        "random_matrix"
      ],
      "metadata": {
        "id": "XR6g4Cqvozku",
        "colab": {
          "base_uri": "https://localhost:8080/"
        },
        "outputId": "ac13f4dc-5926-4620-dd9d-b8f28a3cb241"
      },
      "execution_count": null,
      "outputs": [
        {
          "output_type": "execute_result",
          "data": {
            "text/plain": [
              "array([[0.6612828 , 0.82200057, 0.75362148],\n",
              "       [0.09918166, 0.56808065, 0.91645611],\n",
              "       [0.60203817, 0.42609144, 0.18556591]])"
            ]
          },
          "metadata": {},
          "execution_count": 14
        }
      ]
    },
    {
      "cell_type": "code",
      "source": [
        "# Determine the rank of matrix A.\n",
        "rank_matrix_a = np.linalg.matrix_rank(matrix_a)\n",
        "\n",
        "f\"Rank of matrix_a: {rank_matrix_a}\""
      ],
      "metadata": {
        "id": "Gv9KVQnP0KDT",
        "colab": {
          "base_uri": "https://localhost:8080/",
          "height": 36
        },
        "outputId": "ec101add-9aa8-4168-8827-f3d076773a50"
      },
      "execution_count": null,
      "outputs": [
        {
          "output_type": "execute_result",
          "data": {
            "text/plain": [
              "'Rank of matrix_a: 2'"
            ],
            "application/vnd.google.colaboratory.intrinsic+json": {
              "type": "string"
            }
          },
          "metadata": {},
          "execution_count": 15
        }
      ]
    },
    {
      "cell_type": "code",
      "source": [
        "# Calculate the trace of matrix A.\n",
        "# Sum of the elements on the main diagonal of matrix A.\n",
        "trace_matrix_a = np.trace(matrix_a)\n",
        "f\"Trace of matrix_a: {trace_matrix_a}\""
      ],
      "metadata": {
        "id": "taUJyqFb273a",
        "colab": {
          "base_uri": "https://localhost:8080/",
          "height": 36
        },
        "outputId": "57d75754-dfa4-4c8b-9497-6a4438eec81b"
      },
      "execution_count": null,
      "outputs": [
        {
          "output_type": "execute_result",
          "data": {
            "text/plain": [
              "'Trace of matrix_a: 5'"
            ],
            "application/vnd.google.colaboratory.intrinsic+json": {
              "type": "string"
            }
          },
          "metadata": {},
          "execution_count": 16
        }
      ]
    },
    {
      "cell_type": "code",
      "source": [
        "# Compute the norm of matrix A.\n",
        "norm_matrix_a = np.linalg.norm(matrix_a) # Euclidean norm (or Frobenius norm for matrices) of matrix A.\n",
        "f\"Norm of matrix_a: {norm_matrix_a}\""
      ],
      "metadata": {
        "id": "qy_L13cN3Npf",
        "colab": {
          "base_uri": "https://localhost:8080/",
          "height": 36
        },
        "outputId": "be73b624-b381-4820-bfab-b32142a0c506"
      },
      "execution_count": null,
      "outputs": [
        {
          "output_type": "execute_result",
          "data": {
            "text/plain": [
              "'Norm of matrix_a: 5.477225575051661'"
            ],
            "application/vnd.google.colaboratory.intrinsic+json": {
              "type": "string"
            }
          },
          "metadata": {},
          "execution_count": 17
        }
      ]
    },
    {
      "cell_type": "code",
      "source": [
        "# Multiply matrix A by -1 to get the negative matrix.\n",
        "negative_matrix = -matrix_a\n",
        "negative_matrix"
      ],
      "metadata": {
        "id": "v_0Ft5dh3Q7j",
        "colab": {
          "base_uri": "https://localhost:8080/"
        },
        "outputId": "3f675bfb-f829-499a-8313-f259259c4b65"
      },
      "execution_count": null,
      "outputs": [
        {
          "output_type": "execute_result",
          "data": {
            "text/plain": [
              "array([[-1, -2],\n",
              "       [-3, -4]])"
            ]
          },
          "metadata": {},
          "execution_count": 18
        }
      ]
    },
    {
      "cell_type": "code",
      "source": [
        "# Define two vectors.\n",
        "vector_x = np.array([1, 2])\n",
        "vector_y = np.array([3, 4])\n",
        "\n",
        "# Compute the outer product of the two vectors.\n",
        "outer_product = np.outer(vector_x, vector_y)\n",
        "outer_product"
      ],
      "metadata": {
        "id": "ICPUp9kV3Uy5",
        "colab": {
          "base_uri": "https://localhost:8080/"
        },
        "outputId": "fd8365af-65c2-4021-a0c0-116c5a67bdf4"
      },
      "execution_count": null,
      "outputs": [
        {
          "output_type": "execute_result",
          "data": {
            "text/plain": [
              "array([[3, 4],\n",
              "       [6, 8]])"
            ]
          },
          "metadata": {},
          "execution_count": 19
        }
      ]
    },
    {
      "cell_type": "code",
      "source": [
        "# Calculate eigenvalues and eigenvectors of matrix A.\n",
        "eigenvalues, eigenvectors = np.linalg.eig(matrix_a)\n",
        "eigenvalues, eigenvectors"
      ],
      "metadata": {
        "id": "Cd24R9Vxo2bM",
        "colab": {
          "base_uri": "https://localhost:8080/"
        },
        "outputId": "2560f859-b536-4923-e591-c5eee8c7d8c1"
      },
      "execution_count": null,
      "outputs": [
        {
          "output_type": "execute_result",
          "data": {
            "text/plain": [
              "(array([-0.37228132,  5.37228132]),\n",
              " array([[-0.82456484, -0.41597356],\n",
              "        [ 0.56576746, -0.90937671]]))"
            ]
          },
          "metadata": {},
          "execution_count": 20
        }
      ]
    },
    {
      "cell_type": "markdown",
      "source": [
        "This sets the foundation for our journey through the world of linear algebra, much like the prep work done before the cameras start rolling on a film set."
      ],
      "metadata": {
        "id": "6F9sJZLEKQO2"
      }
    },
    {
      "cell_type": "markdown",
      "source": [
        "## SVD\n",
        "\n",
        "Singular Value Decomposition (SVD) can be likened to the editing process of a movie. Just as an editor deconstructs a film into its essential scenes, sounds, and effects to then reconstruct it into the final masterpiece, SVD breaks down a matrix into its fundamental components. It's a technique that separates the 'scenes' (matrices) into simple, manageable pieces that, when combined, recreate the original matrix."
      ],
      "metadata": {
        "id": "P1eNSTTMzpPy"
      }
    },
    {
      "cell_type": "markdown",
      "source": [
        "Let's start by manually crafting our own SVD, followed by using the powerful NumPy library to achieve the same with less manual labor"
      ],
      "metadata": {
        "id": "7Iyl-6nYLdsz"
      }
    },
    {
      "cell_type": "code",
      "source": [
        "# Calculating the eigenvalues and eigenvectors for A^T * A\n",
        "eigenvalues_v, eigenvectors_v = np.linalg.eig(np.dot(matrix_a.T, matrix_a))\n",
        "eigenvalues_v, eigenvectors_v"
      ],
      "metadata": {
        "id": "g85YrVM6o4R9",
        "colab": {
          "base_uri": "https://localhost:8080/"
        },
        "outputId": "e5019102-8f04-4b9e-f065-12af6fe467c8"
      },
      "execution_count": null,
      "outputs": [
        {
          "output_type": "execute_result",
          "data": {
            "text/plain": [
              "(array([ 0.13393125, 29.86606875]),\n",
              " array([[-0.81741556, -0.57604844],\n",
              "        [ 0.57604844, -0.81741556]]))"
            ]
          },
          "metadata": {},
          "execution_count": 21
        }
      ]
    },
    {
      "cell_type": "markdown",
      "source": [
        "This step is similar to finding the core themes of our 'film' (matrix) that will guide the editing process."
      ],
      "metadata": {
        "id": "NpNtYWNrLhuB"
      }
    },
    {
      "cell_type": "code",
      "source": [
        "# Sorting the eigenvectors based on eigenvalues' descending order\n",
        "idx = eigenvalues_v.argsort()[::-1]   # Get the indices that would sort the eigenvalues in descending order.\n",
        "eigenvalues_v = eigenvalues_v[idx]    # Sort the eigenvalues.\n",
        "eigenvectors_v = eigenvectors_v[:, idx]  # Sort the eigenvectors according to the sorted eigenvalues.\n",
        "\n",
        "eigenvalues_v, eigenvectors_v"
      ],
      "metadata": {
        "id": "dq6my3mhpBpW",
        "colab": {
          "base_uri": "https://localhost:8080/"
        },
        "outputId": "989d8176-ccd7-4ab4-cb33-6c68db537a8c"
      },
      "execution_count": null,
      "outputs": [
        {
          "output_type": "execute_result",
          "data": {
            "text/plain": [
              "(array([29.86606875,  0.13393125]),\n",
              " array([[-0.57604844, -0.81741556],\n",
              "        [-0.81741556,  0.57604844]]))"
            ]
          },
          "metadata": {},
          "execution_count": 22
        }
      ]
    },
    {
      "cell_type": "markdown",
      "source": [
        "It's like ranking the most impactful scenes to the least impactful to decide the editing flow."
      ],
      "metadata": {
        "id": "S4sf-m61Ls2g"
      }
    },
    {
      "cell_type": "code",
      "source": [
        "# Calculating the eigenvalues and eigenvectors for A * A^T\n",
        "eigenvalues_u, eigenvectors_u = np.linalg.eig(np.dot(matrix_a, matrix_a.T))\n",
        "eigenvalues_u, eigenvectors_u"
      ],
      "metadata": {
        "id": "kOMeZOr6pHDy",
        "colab": {
          "base_uri": "https://localhost:8080/"
        },
        "outputId": "115ada08-d2fc-4a8d-d9ea-07f41bb52c50"
      },
      "execution_count": null,
      "outputs": [
        {
          "output_type": "execute_result",
          "data": {
            "text/plain": [
              "(array([ 0.13393125, 29.86606875]),\n",
              " array([[-0.9145143 , -0.40455358],\n",
              "        [ 0.40455358, -0.9145143 ]]))"
            ]
          },
          "metadata": {},
          "execution_count": 23
        }
      ]
    },
    {
      "cell_type": "markdown",
      "source": [
        "Here, it's like we're looking at the film from a different angle to ensure we've got all perspectives covered."
      ],
      "metadata": {
        "id": "cu25dhoSMB6i"
      }
    },
    {
      "cell_type": "code",
      "source": [
        "# Sorting the eigenvectors based on eigenvalues' descending order\n",
        "idx = eigenvalues_u.argsort()[::-1]   # Get the indices for sorting in descending order.\n",
        "eigenvalues_u = eigenvalues_u[idx]    # Sort the eigenvalues.\n",
        "eigenvectors_u = eigenvectors_u[:, idx]  # Sort the eigenvectors according to the sorted eigenvalues.\n",
        "eigenvalues_u, eigenvectors_u"
      ],
      "metadata": {
        "id": "zWAZOx6JpK9c",
        "colab": {
          "base_uri": "https://localhost:8080/"
        },
        "outputId": "5fe58f2d-786d-4abc-bad6-965366f51e0c"
      },
      "execution_count": null,
      "outputs": [
        {
          "output_type": "execute_result",
          "data": {
            "text/plain": [
              "(array([29.86606875,  0.13393125]),\n",
              " array([[-0.40455358, -0.9145143 ],\n",
              "        [-0.9145143 ,  0.40455358]]))"
            ]
          },
          "metadata": {},
          "execution_count": 24
        }
      ]
    },
    {
      "cell_type": "markdown",
      "source": [
        "Again, we arrange our scenes to ensure the narrative flows in the most powerful way."
      ],
      "metadata": {
        "id": "Pd3cA1hhMLMG"
      }
    },
    {
      "cell_type": "code",
      "source": [
        "# The singular values are square roots of eigenvalues from A^T * A or A * A^T\n",
        "singular_values = np.sqrt(eigenvalues_v)   # Or np.srt(eigenvalues_u)\n",
        "singular_values"
      ],
      "metadata": {
        "id": "Zqhny-skpNXu",
        "colab": {
          "base_uri": "https://localhost:8080/"
        },
        "outputId": "525427c4-dde8-4ac3-d896-3cbde0397ef8"
      },
      "execution_count": null,
      "outputs": [
        {
          "output_type": "execute_result",
          "data": {
            "text/plain": [
              "array([5.4649857 , 0.36596619])"
            ]
          },
          "metadata": {},
          "execution_count": 25
        }
      ]
    },
    {
      "cell_type": "markdown",
      "source": [
        "These are like the key moments of our scenes - they dictate the emotion and pace of our 'film'."
      ],
      "metadata": {
        "id": "ZVwnxYnHMWXQ"
      }
    },
    {
      "cell_type": "code",
      "source": [
        "# Constructing the matrices U, S, and VT from the eigenvectors and singular values\n",
        "U = eigenvectors_u            # Matrix U from the eigenvectors of A * A^T.\n",
        "S = np.diag(singular_values)  # Diagonal matrix S from the singular values.\n",
        "VT = eigenvectors_v.T         # Matrix VT (transpose of V) from the eigenvectors of A^T * A."
      ],
      "metadata": {
        "id": "ljlBRGC3pQJ0"
      },
      "execution_count": null,
      "outputs": []
    },
    {
      "cell_type": "markdown",
      "source": [
        "U, S, and VT are like our raw footage, sound design, and special effects that when combined create the movie.\n"
      ],
      "metadata": {
        "id": "L_I_wFEOMijL"
      }
    },
    {
      "cell_type": "code",
      "source": [
        "U, S, VT"
      ],
      "metadata": {
        "id": "UXFlyd7cpUG2",
        "colab": {
          "base_uri": "https://localhost:8080/"
        },
        "outputId": "2234a0a5-8b93-4c51-ae89-eefcb0af0e38"
      },
      "execution_count": null,
      "outputs": [
        {
          "output_type": "execute_result",
          "data": {
            "text/plain": [
              "(array([[-0.40455358, -0.9145143 ],\n",
              "        [-0.9145143 ,  0.40455358]]),\n",
              " array([[5.4649857 , 0.        ],\n",
              "        [0.        , 0.36596619]]),\n",
              " array([[-0.57604844, -0.81741556],\n",
              "        [-0.81741556,  0.57604844]]))"
            ]
          },
          "metadata": {},
          "execution_count": 27
        }
      ]
    },
    {
      "cell_type": "markdown",
      "source": [
        "Next, lets use Numpy to get the SVD of `matrix_a`."
      ],
      "metadata": {
        "id": "lhDFdtOYMu9k"
      }
    },
    {
      "cell_type": "code",
      "source": [
        "U, S, VT = np.linalg.svd(matrix_a)\n",
        "U, S, VT"
      ],
      "metadata": {
        "id": "4LwpNmA_pbjK",
        "colab": {
          "base_uri": "https://localhost:8080/"
        },
        "outputId": "bf253453-5b5d-42e1-9a0e-52fca4ae3244"
      },
      "execution_count": null,
      "outputs": [
        {
          "output_type": "execute_result",
          "data": {
            "text/plain": [
              "(array([[-0.40455358, -0.9145143 ],\n",
              "        [-0.9145143 ,  0.40455358]]),\n",
              " array([5.4649857 , 0.36596619]),\n",
              " array([[-0.57604844, -0.81741556],\n",
              "        [ 0.81741556, -0.57604844]]))"
            ]
          },
          "metadata": {},
          "execution_count": 28
        }
      ]
    },
    {
      "cell_type": "markdown",
      "source": [
        "This is like the magic of modern film editing, using NumPy's built-in SVD function to do all the above in one go."
      ],
      "metadata": {
        "id": "qMk3tGXYNBL7"
      }
    },
    {
      "cell_type": "markdown",
      "source": [
        "In this process, we've seen the roles of the director, editor, and special effects team to decompose and understand the essence of our matrix. Much like in film where every part of the footage is crucial, in SVD, every component—the U matrix, the singular values in S, and the VT matrix—plays an important role in reconstructing the original matrix."
      ],
      "metadata": {
        "id": "OIt07REgNWp8"
      }
    },
    {
      "cell_type": "markdown",
      "source": [
        "## Recommender System using SVD\n",
        "\n",
        "Alright! Now, instead of being behind the scenes, imagine you're in the audience, looking for the next movie to watch. But there are thousands to choose from! How do you decide? This is where a personalized movie recommender system comes in - think of it as a friend who knows your taste and suggests what you might like to watch next."
      ],
      "metadata": {
        "id": "nvXHbiSdzrn3"
      }
    },
    {
      "cell_type": "markdown",
      "source": [
        "The recommender system uses the opinions of many viewers to help you find movies you'll enjoy. Just like your only friend to whom you are not the only friend."
      ],
      "metadata": {
        "id": "lRxmHQUtPGGz"
      }
    },
    {
      "cell_type": "code",
      "source": [
        "import pandas as pd\n",
        "\n",
        "# Load the ratings and movies from a CSV file.\n",
        "ratings = pd.read_csv('ratings.csv')\n",
        "movies = pd.read_csv('movies.csv')"
      ],
      "metadata": {
        "id": "5oZQCCx4qC4q"
      },
      "execution_count": null,
      "outputs": []
    },
    {
      "cell_type": "markdown",
      "source": [
        "Peek into the first few rows of each dataset.\n"
      ],
      "metadata": {
        "id": "FLh4B68mPciD"
      }
    },
    {
      "cell_type": "code",
      "source": [
        "ratings.head()"
      ],
      "metadata": {
        "id": "tJsBKtbiqIbu",
        "colab": {
          "base_uri": "https://localhost:8080/",
          "height": 206
        },
        "outputId": "3fe13a3e-879d-4f8c-a514-2230484eb7e7"
      },
      "execution_count": null,
      "outputs": [
        {
          "output_type": "execute_result",
          "data": {
            "text/plain": [
              "   userId  movieId  rating    timestamp\n",
              "0       1        1     4.0  964982703.0\n",
              "1       1        3     4.0  964981247.0\n",
              "2       1        6     4.0  964982224.0\n",
              "3       1       47     5.0  964983815.0\n",
              "4       1       50     5.0  964982931.0"
            ],
            "text/html": [
              "\n",
              "  <div id=\"df-722ef56f-c500-464b-a080-542598f4de94\" class=\"colab-df-container\">\n",
              "    <div>\n",
              "<style scoped>\n",
              "    .dataframe tbody tr th:only-of-type {\n",
              "        vertical-align: middle;\n",
              "    }\n",
              "\n",
              "    .dataframe tbody tr th {\n",
              "        vertical-align: top;\n",
              "    }\n",
              "\n",
              "    .dataframe thead th {\n",
              "        text-align: right;\n",
              "    }\n",
              "</style>\n",
              "<table border=\"1\" class=\"dataframe\">\n",
              "  <thead>\n",
              "    <tr style=\"text-align: right;\">\n",
              "      <th></th>\n",
              "      <th>userId</th>\n",
              "      <th>movieId</th>\n",
              "      <th>rating</th>\n",
              "      <th>timestamp</th>\n",
              "    </tr>\n",
              "  </thead>\n",
              "  <tbody>\n",
              "    <tr>\n",
              "      <th>0</th>\n",
              "      <td>1</td>\n",
              "      <td>1</td>\n",
              "      <td>4.0</td>\n",
              "      <td>964982703.0</td>\n",
              "    </tr>\n",
              "    <tr>\n",
              "      <th>1</th>\n",
              "      <td>1</td>\n",
              "      <td>3</td>\n",
              "      <td>4.0</td>\n",
              "      <td>964981247.0</td>\n",
              "    </tr>\n",
              "    <tr>\n",
              "      <th>2</th>\n",
              "      <td>1</td>\n",
              "      <td>6</td>\n",
              "      <td>4.0</td>\n",
              "      <td>964982224.0</td>\n",
              "    </tr>\n",
              "    <tr>\n",
              "      <th>3</th>\n",
              "      <td>1</td>\n",
              "      <td>47</td>\n",
              "      <td>5.0</td>\n",
              "      <td>964983815.0</td>\n",
              "    </tr>\n",
              "    <tr>\n",
              "      <th>4</th>\n",
              "      <td>1</td>\n",
              "      <td>50</td>\n",
              "      <td>5.0</td>\n",
              "      <td>964982931.0</td>\n",
              "    </tr>\n",
              "  </tbody>\n",
              "</table>\n",
              "</div>\n",
              "    <div class=\"colab-df-buttons\">\n",
              "\n",
              "  <div class=\"colab-df-container\">\n",
              "    <button class=\"colab-df-convert\" onclick=\"convertToInteractive('df-722ef56f-c500-464b-a080-542598f4de94')\"\n",
              "            title=\"Convert this dataframe to an interactive table.\"\n",
              "            style=\"display:none;\">\n",
              "\n",
              "  <svg xmlns=\"http://www.w3.org/2000/svg\" height=\"24px\" viewBox=\"0 -960 960 960\">\n",
              "    <path d=\"M120-120v-720h720v720H120Zm60-500h600v-160H180v160Zm220 220h160v-160H400v160Zm0 220h160v-160H400v160ZM180-400h160v-160H180v160Zm440 0h160v-160H620v160ZM180-180h160v-160H180v160Zm440 0h160v-160H620v160Z\"/>\n",
              "  </svg>\n",
              "    </button>\n",
              "\n",
              "  <style>\n",
              "    .colab-df-container {\n",
              "      display:flex;\n",
              "      gap: 12px;\n",
              "    }\n",
              "\n",
              "    .colab-df-convert {\n",
              "      background-color: #E8F0FE;\n",
              "      border: none;\n",
              "      border-radius: 50%;\n",
              "      cursor: pointer;\n",
              "      display: none;\n",
              "      fill: #1967D2;\n",
              "      height: 32px;\n",
              "      padding: 0 0 0 0;\n",
              "      width: 32px;\n",
              "    }\n",
              "\n",
              "    .colab-df-convert:hover {\n",
              "      background-color: #E2EBFA;\n",
              "      box-shadow: 0px 1px 2px rgba(60, 64, 67, 0.3), 0px 1px 3px 1px rgba(60, 64, 67, 0.15);\n",
              "      fill: #174EA6;\n",
              "    }\n",
              "\n",
              "    .colab-df-buttons div {\n",
              "      margin-bottom: 4px;\n",
              "    }\n",
              "\n",
              "    [theme=dark] .colab-df-convert {\n",
              "      background-color: #3B4455;\n",
              "      fill: #D2E3FC;\n",
              "    }\n",
              "\n",
              "    [theme=dark] .colab-df-convert:hover {\n",
              "      background-color: #434B5C;\n",
              "      box-shadow: 0px 1px 3px 1px rgba(0, 0, 0, 0.15);\n",
              "      filter: drop-shadow(0px 1px 2px rgba(0, 0, 0, 0.3));\n",
              "      fill: #FFFFFF;\n",
              "    }\n",
              "  </style>\n",
              "\n",
              "    <script>\n",
              "      const buttonEl =\n",
              "        document.querySelector('#df-722ef56f-c500-464b-a080-542598f4de94 button.colab-df-convert');\n",
              "      buttonEl.style.display =\n",
              "        google.colab.kernel.accessAllowed ? 'block' : 'none';\n",
              "\n",
              "      async function convertToInteractive(key) {\n",
              "        const element = document.querySelector('#df-722ef56f-c500-464b-a080-542598f4de94');\n",
              "        const dataTable =\n",
              "          await google.colab.kernel.invokeFunction('convertToInteractive',\n",
              "                                                    [key], {});\n",
              "        if (!dataTable) return;\n",
              "\n",
              "        const docLinkHtml = 'Like what you see? Visit the ' +\n",
              "          '<a target=\"_blank\" href=https://colab.research.google.com/notebooks/data_table.ipynb>data table notebook</a>'\n",
              "          + ' to learn more about interactive tables.';\n",
              "        element.innerHTML = '';\n",
              "        dataTable['output_type'] = 'display_data';\n",
              "        await google.colab.output.renderOutput(dataTable, element);\n",
              "        const docLink = document.createElement('div');\n",
              "        docLink.innerHTML = docLinkHtml;\n",
              "        element.appendChild(docLink);\n",
              "      }\n",
              "    </script>\n",
              "  </div>\n",
              "\n",
              "\n",
              "<div id=\"df-121f5d26-2e76-40af-8c47-ffa34e8bbb99\">\n",
              "  <button class=\"colab-df-quickchart\" onclick=\"quickchart('df-121f5d26-2e76-40af-8c47-ffa34e8bbb99')\"\n",
              "            title=\"Suggest charts\"\n",
              "            style=\"display:none;\">\n",
              "\n",
              "<svg xmlns=\"http://www.w3.org/2000/svg\" height=\"24px\"viewBox=\"0 0 24 24\"\n",
              "     width=\"24px\">\n",
              "    <g>\n",
              "        <path d=\"M19 3H5c-1.1 0-2 .9-2 2v14c0 1.1.9 2 2 2h14c1.1 0 2-.9 2-2V5c0-1.1-.9-2-2-2zM9 17H7v-7h2v7zm4 0h-2V7h2v10zm4 0h-2v-4h2v4z\"/>\n",
              "    </g>\n",
              "</svg>\n",
              "  </button>\n",
              "\n",
              "<style>\n",
              "  .colab-df-quickchart {\n",
              "      --bg-color: #E8F0FE;\n",
              "      --fill-color: #1967D2;\n",
              "      --hover-bg-color: #E2EBFA;\n",
              "      --hover-fill-color: #174EA6;\n",
              "      --disabled-fill-color: #AAA;\n",
              "      --disabled-bg-color: #DDD;\n",
              "  }\n",
              "\n",
              "  [theme=dark] .colab-df-quickchart {\n",
              "      --bg-color: #3B4455;\n",
              "      --fill-color: #D2E3FC;\n",
              "      --hover-bg-color: #434B5C;\n",
              "      --hover-fill-color: #FFFFFF;\n",
              "      --disabled-bg-color: #3B4455;\n",
              "      --disabled-fill-color: #666;\n",
              "  }\n",
              "\n",
              "  .colab-df-quickchart {\n",
              "    background-color: var(--bg-color);\n",
              "    border: none;\n",
              "    border-radius: 50%;\n",
              "    cursor: pointer;\n",
              "    display: none;\n",
              "    fill: var(--fill-color);\n",
              "    height: 32px;\n",
              "    padding: 0;\n",
              "    width: 32px;\n",
              "  }\n",
              "\n",
              "  .colab-df-quickchart:hover {\n",
              "    background-color: var(--hover-bg-color);\n",
              "    box-shadow: 0 1px 2px rgba(60, 64, 67, 0.3), 0 1px 3px 1px rgba(60, 64, 67, 0.15);\n",
              "    fill: var(--button-hover-fill-color);\n",
              "  }\n",
              "\n",
              "  .colab-df-quickchart-complete:disabled,\n",
              "  .colab-df-quickchart-complete:disabled:hover {\n",
              "    background-color: var(--disabled-bg-color);\n",
              "    fill: var(--disabled-fill-color);\n",
              "    box-shadow: none;\n",
              "  }\n",
              "\n",
              "  .colab-df-spinner {\n",
              "    border: 2px solid var(--fill-color);\n",
              "    border-color: transparent;\n",
              "    border-bottom-color: var(--fill-color);\n",
              "    animation:\n",
              "      spin 1s steps(1) infinite;\n",
              "  }\n",
              "\n",
              "  @keyframes spin {\n",
              "    0% {\n",
              "      border-color: transparent;\n",
              "      border-bottom-color: var(--fill-color);\n",
              "      border-left-color: var(--fill-color);\n",
              "    }\n",
              "    20% {\n",
              "      border-color: transparent;\n",
              "      border-left-color: var(--fill-color);\n",
              "      border-top-color: var(--fill-color);\n",
              "    }\n",
              "    30% {\n",
              "      border-color: transparent;\n",
              "      border-left-color: var(--fill-color);\n",
              "      border-top-color: var(--fill-color);\n",
              "      border-right-color: var(--fill-color);\n",
              "    }\n",
              "    40% {\n",
              "      border-color: transparent;\n",
              "      border-right-color: var(--fill-color);\n",
              "      border-top-color: var(--fill-color);\n",
              "    }\n",
              "    60% {\n",
              "      border-color: transparent;\n",
              "      border-right-color: var(--fill-color);\n",
              "    }\n",
              "    80% {\n",
              "      border-color: transparent;\n",
              "      border-right-color: var(--fill-color);\n",
              "      border-bottom-color: var(--fill-color);\n",
              "    }\n",
              "    90% {\n",
              "      border-color: transparent;\n",
              "      border-bottom-color: var(--fill-color);\n",
              "    }\n",
              "  }\n",
              "</style>\n",
              "\n",
              "  <script>\n",
              "    async function quickchart(key) {\n",
              "      const quickchartButtonEl =\n",
              "        document.querySelector('#' + key + ' button');\n",
              "      quickchartButtonEl.disabled = true;  // To prevent multiple clicks.\n",
              "      quickchartButtonEl.classList.add('colab-df-spinner');\n",
              "      try {\n",
              "        const charts = await google.colab.kernel.invokeFunction(\n",
              "            'suggestCharts', [key], {});\n",
              "      } catch (error) {\n",
              "        console.error('Error during call to suggestCharts:', error);\n",
              "      }\n",
              "      quickchartButtonEl.classList.remove('colab-df-spinner');\n",
              "      quickchartButtonEl.classList.add('colab-df-quickchart-complete');\n",
              "    }\n",
              "    (() => {\n",
              "      let quickchartButtonEl =\n",
              "        document.querySelector('#df-121f5d26-2e76-40af-8c47-ffa34e8bbb99 button');\n",
              "      quickchartButtonEl.style.display =\n",
              "        google.colab.kernel.accessAllowed ? 'block' : 'none';\n",
              "    })();\n",
              "  </script>\n",
              "</div>\n",
              "    </div>\n",
              "  </div>\n"
            ]
          },
          "metadata": {},
          "execution_count": 30
        }
      ]
    },
    {
      "cell_type": "code",
      "source": [
        "movies.head()"
      ],
      "metadata": {
        "id": "e20S-YmNr0Qb",
        "colab": {
          "base_uri": "https://localhost:8080/",
          "height": 206
        },
        "outputId": "931ce82f-e316-4525-bfb7-91bf892de6b2"
      },
      "execution_count": null,
      "outputs": [
        {
          "output_type": "execute_result",
          "data": {
            "text/plain": [
              "   movieId                               title  \\\n",
              "0        1                    Toy Story (1995)   \n",
              "1        2                      Jumanji (1995)   \n",
              "2        3             Grumpier Old Men (1995)   \n",
              "3        4            Waiting to Exhale (1995)   \n",
              "4        5  Father of the Bride Part II (1995)   \n",
              "\n",
              "                                        genres  \n",
              "0  Adventure|Animation|Children|Comedy|Fantasy  \n",
              "1                   Adventure|Children|Fantasy  \n",
              "2                               Comedy|Romance  \n",
              "3                         Comedy|Drama|Romance  \n",
              "4                                       Comedy  "
            ],
            "text/html": [
              "\n",
              "  <div id=\"df-e952d7a2-18c7-4207-a355-ccb2aa1425b2\" class=\"colab-df-container\">\n",
              "    <div>\n",
              "<style scoped>\n",
              "    .dataframe tbody tr th:only-of-type {\n",
              "        vertical-align: middle;\n",
              "    }\n",
              "\n",
              "    .dataframe tbody tr th {\n",
              "        vertical-align: top;\n",
              "    }\n",
              "\n",
              "    .dataframe thead th {\n",
              "        text-align: right;\n",
              "    }\n",
              "</style>\n",
              "<table border=\"1\" class=\"dataframe\">\n",
              "  <thead>\n",
              "    <tr style=\"text-align: right;\">\n",
              "      <th></th>\n",
              "      <th>movieId</th>\n",
              "      <th>title</th>\n",
              "      <th>genres</th>\n",
              "    </tr>\n",
              "  </thead>\n",
              "  <tbody>\n",
              "    <tr>\n",
              "      <th>0</th>\n",
              "      <td>1</td>\n",
              "      <td>Toy Story (1995)</td>\n",
              "      <td>Adventure|Animation|Children|Comedy|Fantasy</td>\n",
              "    </tr>\n",
              "    <tr>\n",
              "      <th>1</th>\n",
              "      <td>2</td>\n",
              "      <td>Jumanji (1995)</td>\n",
              "      <td>Adventure|Children|Fantasy</td>\n",
              "    </tr>\n",
              "    <tr>\n",
              "      <th>2</th>\n",
              "      <td>3</td>\n",
              "      <td>Grumpier Old Men (1995)</td>\n",
              "      <td>Comedy|Romance</td>\n",
              "    </tr>\n",
              "    <tr>\n",
              "      <th>3</th>\n",
              "      <td>4</td>\n",
              "      <td>Waiting to Exhale (1995)</td>\n",
              "      <td>Comedy|Drama|Romance</td>\n",
              "    </tr>\n",
              "    <tr>\n",
              "      <th>4</th>\n",
              "      <td>5</td>\n",
              "      <td>Father of the Bride Part II (1995)</td>\n",
              "      <td>Comedy</td>\n",
              "    </tr>\n",
              "  </tbody>\n",
              "</table>\n",
              "</div>\n",
              "    <div class=\"colab-df-buttons\">\n",
              "\n",
              "  <div class=\"colab-df-container\">\n",
              "    <button class=\"colab-df-convert\" onclick=\"convertToInteractive('df-e952d7a2-18c7-4207-a355-ccb2aa1425b2')\"\n",
              "            title=\"Convert this dataframe to an interactive table.\"\n",
              "            style=\"display:none;\">\n",
              "\n",
              "  <svg xmlns=\"http://www.w3.org/2000/svg\" height=\"24px\" viewBox=\"0 -960 960 960\">\n",
              "    <path d=\"M120-120v-720h720v720H120Zm60-500h600v-160H180v160Zm220 220h160v-160H400v160Zm0 220h160v-160H400v160ZM180-400h160v-160H180v160Zm440 0h160v-160H620v160ZM180-180h160v-160H180v160Zm440 0h160v-160H620v160Z\"/>\n",
              "  </svg>\n",
              "    </button>\n",
              "\n",
              "  <style>\n",
              "    .colab-df-container {\n",
              "      display:flex;\n",
              "      gap: 12px;\n",
              "    }\n",
              "\n",
              "    .colab-df-convert {\n",
              "      background-color: #E8F0FE;\n",
              "      border: none;\n",
              "      border-radius: 50%;\n",
              "      cursor: pointer;\n",
              "      display: none;\n",
              "      fill: #1967D2;\n",
              "      height: 32px;\n",
              "      padding: 0 0 0 0;\n",
              "      width: 32px;\n",
              "    }\n",
              "\n",
              "    .colab-df-convert:hover {\n",
              "      background-color: #E2EBFA;\n",
              "      box-shadow: 0px 1px 2px rgba(60, 64, 67, 0.3), 0px 1px 3px 1px rgba(60, 64, 67, 0.15);\n",
              "      fill: #174EA6;\n",
              "    }\n",
              "\n",
              "    .colab-df-buttons div {\n",
              "      margin-bottom: 4px;\n",
              "    }\n",
              "\n",
              "    [theme=dark] .colab-df-convert {\n",
              "      background-color: #3B4455;\n",
              "      fill: #D2E3FC;\n",
              "    }\n",
              "\n",
              "    [theme=dark] .colab-df-convert:hover {\n",
              "      background-color: #434B5C;\n",
              "      box-shadow: 0px 1px 3px 1px rgba(0, 0, 0, 0.15);\n",
              "      filter: drop-shadow(0px 1px 2px rgba(0, 0, 0, 0.3));\n",
              "      fill: #FFFFFF;\n",
              "    }\n",
              "  </style>\n",
              "\n",
              "    <script>\n",
              "      const buttonEl =\n",
              "        document.querySelector('#df-e952d7a2-18c7-4207-a355-ccb2aa1425b2 button.colab-df-convert');\n",
              "      buttonEl.style.display =\n",
              "        google.colab.kernel.accessAllowed ? 'block' : 'none';\n",
              "\n",
              "      async function convertToInteractive(key) {\n",
              "        const element = document.querySelector('#df-e952d7a2-18c7-4207-a355-ccb2aa1425b2');\n",
              "        const dataTable =\n",
              "          await google.colab.kernel.invokeFunction('convertToInteractive',\n",
              "                                                    [key], {});\n",
              "        if (!dataTable) return;\n",
              "\n",
              "        const docLinkHtml = 'Like what you see? Visit the ' +\n",
              "          '<a target=\"_blank\" href=https://colab.research.google.com/notebooks/data_table.ipynb>data table notebook</a>'\n",
              "          + ' to learn more about interactive tables.';\n",
              "        element.innerHTML = '';\n",
              "        dataTable['output_type'] = 'display_data';\n",
              "        await google.colab.output.renderOutput(dataTable, element);\n",
              "        const docLink = document.createElement('div');\n",
              "        docLink.innerHTML = docLinkHtml;\n",
              "        element.appendChild(docLink);\n",
              "      }\n",
              "    </script>\n",
              "  </div>\n",
              "\n",
              "\n",
              "<div id=\"df-828aca77-653b-4c68-b287-73d6cef8076a\">\n",
              "  <button class=\"colab-df-quickchart\" onclick=\"quickchart('df-828aca77-653b-4c68-b287-73d6cef8076a')\"\n",
              "            title=\"Suggest charts\"\n",
              "            style=\"display:none;\">\n",
              "\n",
              "<svg xmlns=\"http://www.w3.org/2000/svg\" height=\"24px\"viewBox=\"0 0 24 24\"\n",
              "     width=\"24px\">\n",
              "    <g>\n",
              "        <path d=\"M19 3H5c-1.1 0-2 .9-2 2v14c0 1.1.9 2 2 2h14c1.1 0 2-.9 2-2V5c0-1.1-.9-2-2-2zM9 17H7v-7h2v7zm4 0h-2V7h2v10zm4 0h-2v-4h2v4z\"/>\n",
              "    </g>\n",
              "</svg>\n",
              "  </button>\n",
              "\n",
              "<style>\n",
              "  .colab-df-quickchart {\n",
              "      --bg-color: #E8F0FE;\n",
              "      --fill-color: #1967D2;\n",
              "      --hover-bg-color: #E2EBFA;\n",
              "      --hover-fill-color: #174EA6;\n",
              "      --disabled-fill-color: #AAA;\n",
              "      --disabled-bg-color: #DDD;\n",
              "  }\n",
              "\n",
              "  [theme=dark] .colab-df-quickchart {\n",
              "      --bg-color: #3B4455;\n",
              "      --fill-color: #D2E3FC;\n",
              "      --hover-bg-color: #434B5C;\n",
              "      --hover-fill-color: #FFFFFF;\n",
              "      --disabled-bg-color: #3B4455;\n",
              "      --disabled-fill-color: #666;\n",
              "  }\n",
              "\n",
              "  .colab-df-quickchart {\n",
              "    background-color: var(--bg-color);\n",
              "    border: none;\n",
              "    border-radius: 50%;\n",
              "    cursor: pointer;\n",
              "    display: none;\n",
              "    fill: var(--fill-color);\n",
              "    height: 32px;\n",
              "    padding: 0;\n",
              "    width: 32px;\n",
              "  }\n",
              "\n",
              "  .colab-df-quickchart:hover {\n",
              "    background-color: var(--hover-bg-color);\n",
              "    box-shadow: 0 1px 2px rgba(60, 64, 67, 0.3), 0 1px 3px 1px rgba(60, 64, 67, 0.15);\n",
              "    fill: var(--button-hover-fill-color);\n",
              "  }\n",
              "\n",
              "  .colab-df-quickchart-complete:disabled,\n",
              "  .colab-df-quickchart-complete:disabled:hover {\n",
              "    background-color: var(--disabled-bg-color);\n",
              "    fill: var(--disabled-fill-color);\n",
              "    box-shadow: none;\n",
              "  }\n",
              "\n",
              "  .colab-df-spinner {\n",
              "    border: 2px solid var(--fill-color);\n",
              "    border-color: transparent;\n",
              "    border-bottom-color: var(--fill-color);\n",
              "    animation:\n",
              "      spin 1s steps(1) infinite;\n",
              "  }\n",
              "\n",
              "  @keyframes spin {\n",
              "    0% {\n",
              "      border-color: transparent;\n",
              "      border-bottom-color: var(--fill-color);\n",
              "      border-left-color: var(--fill-color);\n",
              "    }\n",
              "    20% {\n",
              "      border-color: transparent;\n",
              "      border-left-color: var(--fill-color);\n",
              "      border-top-color: var(--fill-color);\n",
              "    }\n",
              "    30% {\n",
              "      border-color: transparent;\n",
              "      border-left-color: var(--fill-color);\n",
              "      border-top-color: var(--fill-color);\n",
              "      border-right-color: var(--fill-color);\n",
              "    }\n",
              "    40% {\n",
              "      border-color: transparent;\n",
              "      border-right-color: var(--fill-color);\n",
              "      border-top-color: var(--fill-color);\n",
              "    }\n",
              "    60% {\n",
              "      border-color: transparent;\n",
              "      border-right-color: var(--fill-color);\n",
              "    }\n",
              "    80% {\n",
              "      border-color: transparent;\n",
              "      border-right-color: var(--fill-color);\n",
              "      border-bottom-color: var(--fill-color);\n",
              "    }\n",
              "    90% {\n",
              "      border-color: transparent;\n",
              "      border-bottom-color: var(--fill-color);\n",
              "    }\n",
              "  }\n",
              "</style>\n",
              "\n",
              "  <script>\n",
              "    async function quickchart(key) {\n",
              "      const quickchartButtonEl =\n",
              "        document.querySelector('#' + key + ' button');\n",
              "      quickchartButtonEl.disabled = true;  // To prevent multiple clicks.\n",
              "      quickchartButtonEl.classList.add('colab-df-spinner');\n",
              "      try {\n",
              "        const charts = await google.colab.kernel.invokeFunction(\n",
              "            'suggestCharts', [key], {});\n",
              "      } catch (error) {\n",
              "        console.error('Error during call to suggestCharts:', error);\n",
              "      }\n",
              "      quickchartButtonEl.classList.remove('colab-df-spinner');\n",
              "      quickchartButtonEl.classList.add('colab-df-quickchart-complete');\n",
              "    }\n",
              "    (() => {\n",
              "      let quickchartButtonEl =\n",
              "        document.querySelector('#df-828aca77-653b-4c68-b287-73d6cef8076a button');\n",
              "      quickchartButtonEl.style.display =\n",
              "        google.colab.kernel.accessAllowed ? 'block' : 'none';\n",
              "    })();\n",
              "  </script>\n",
              "</div>\n",
              "    </div>\n",
              "  </div>\n"
            ]
          },
          "metadata": {},
          "execution_count": 31
        }
      ]
    },
    {
      "cell_type": "code",
      "source": [
        "# Create a matrix where each row represents a user and each column a movie.\n",
        "# Fill in missing ratings with 0, like empty seats in a theater.\n",
        "user_movie_matrix = ratings.pivot(index='userId', columns='movieId', values='rating').fillna(0)\n",
        "user_movie_matrix"
      ],
      "metadata": {
        "id": "zEUTeEU3r26f",
        "colab": {
          "base_uri": "https://localhost:8080/",
          "height": 455
        },
        "outputId": "7ae095ab-020d-4fc9-a170-fe606f175b5a"
      },
      "execution_count": null,
      "outputs": [
        {
          "output_type": "execute_result",
          "data": {
            "text/plain": [
              "movieId  1       2       3       4       5       6       7       8       \\\n",
              "userId                                                                    \n",
              "1           4.0     0.0     4.0     0.0     0.0     4.0     0.0     0.0   \n",
              "2           0.0     0.0     0.0     0.0     0.0     0.0     0.0     0.0   \n",
              "3           0.0     0.0     0.0     0.0     0.0     0.0     0.0     0.0   \n",
              "4           0.0     0.0     0.0     0.0     0.0     0.0     0.0     0.0   \n",
              "5           4.0     0.0     0.0     0.0     0.0     0.0     0.0     0.0   \n",
              "...         ...     ...     ...     ...     ...     ...     ...     ...   \n",
              "284         0.0     4.0     0.0     0.0     0.0     0.0     0.0     0.0   \n",
              "285         0.0     0.0     0.0     0.0     0.0     0.0     0.0     0.0   \n",
              "286         0.0     0.0     0.0     0.0     0.0     4.5     3.5     0.0   \n",
              "287         0.0     0.0     0.0     0.0     0.0     0.0     0.0     0.0   \n",
              "288         4.5     2.0     4.0     0.0     2.0     0.0     0.0     0.0   \n",
              "\n",
              "movieId  9       10      ...  191005  193565  193567  193571  193573  193579  \\\n",
              "userId                   ...                                                   \n",
              "1           0.0     0.0  ...     0.0     0.0     0.0     0.0     0.0     0.0   \n",
              "2           0.0     0.0  ...     0.0     0.0     0.0     0.0     0.0     0.0   \n",
              "3           0.0     0.0  ...     0.0     0.0     0.0     0.0     0.0     0.0   \n",
              "4           0.0     0.0  ...     0.0     0.0     0.0     0.0     0.0     0.0   \n",
              "5           0.0     0.0  ...     0.0     0.0     0.0     0.0     0.0     0.0   \n",
              "...         ...     ...  ...     ...     ...     ...     ...     ...     ...   \n",
              "284         0.0     4.0  ...     0.0     0.0     0.0     0.0     0.0     0.0   \n",
              "285         0.0     0.0  ...     0.0     0.0     0.0     0.0     0.0     0.0   \n",
              "286         0.0     0.0  ...     0.0     0.0     0.0     0.0     0.0     0.0   \n",
              "287         0.0     0.0  ...     0.0     0.0     0.0     0.0     0.0     0.0   \n",
              "288         0.0     3.0  ...     0.0     0.0     0.0     0.0     0.0     0.0   \n",
              "\n",
              "movieId  193581  193583  193585  193587  \n",
              "userId                                   \n",
              "1           0.0     0.0     0.0     0.0  \n",
              "2           0.0     0.0     0.0     0.0  \n",
              "3           0.0     0.0     0.0     0.0  \n",
              "4           0.0     0.0     0.0     0.0  \n",
              "5           0.0     0.0     0.0     0.0  \n",
              "...         ...     ...     ...     ...  \n",
              "284         0.0     0.0     0.0     0.0  \n",
              "285         0.0     0.0     0.0     0.0  \n",
              "286         0.0     0.0     0.0     0.0  \n",
              "287         0.0     0.0     0.0     0.0  \n",
              "288         0.0     0.0     0.0     0.0  \n",
              "\n",
              "[288 rows x 6433 columns]"
            ],
            "text/html": [
              "\n",
              "  <div id=\"df-08d6df21-91a0-44d4-afd5-a420e8f8b7f4\" class=\"colab-df-container\">\n",
              "    <div>\n",
              "<style scoped>\n",
              "    .dataframe tbody tr th:only-of-type {\n",
              "        vertical-align: middle;\n",
              "    }\n",
              "\n",
              "    .dataframe tbody tr th {\n",
              "        vertical-align: top;\n",
              "    }\n",
              "\n",
              "    .dataframe thead th {\n",
              "        text-align: right;\n",
              "    }\n",
              "</style>\n",
              "<table border=\"1\" class=\"dataframe\">\n",
              "  <thead>\n",
              "    <tr style=\"text-align: right;\">\n",
              "      <th>movieId</th>\n",
              "      <th>1</th>\n",
              "      <th>2</th>\n",
              "      <th>3</th>\n",
              "      <th>4</th>\n",
              "      <th>5</th>\n",
              "      <th>6</th>\n",
              "      <th>7</th>\n",
              "      <th>8</th>\n",
              "      <th>9</th>\n",
              "      <th>10</th>\n",
              "      <th>...</th>\n",
              "      <th>191005</th>\n",
              "      <th>193565</th>\n",
              "      <th>193567</th>\n",
              "      <th>193571</th>\n",
              "      <th>193573</th>\n",
              "      <th>193579</th>\n",
              "      <th>193581</th>\n",
              "      <th>193583</th>\n",
              "      <th>193585</th>\n",
              "      <th>193587</th>\n",
              "    </tr>\n",
              "    <tr>\n",
              "      <th>userId</th>\n",
              "      <th></th>\n",
              "      <th></th>\n",
              "      <th></th>\n",
              "      <th></th>\n",
              "      <th></th>\n",
              "      <th></th>\n",
              "      <th></th>\n",
              "      <th></th>\n",
              "      <th></th>\n",
              "      <th></th>\n",
              "      <th></th>\n",
              "      <th></th>\n",
              "      <th></th>\n",
              "      <th></th>\n",
              "      <th></th>\n",
              "      <th></th>\n",
              "      <th></th>\n",
              "      <th></th>\n",
              "      <th></th>\n",
              "      <th></th>\n",
              "      <th></th>\n",
              "    </tr>\n",
              "  </thead>\n",
              "  <tbody>\n",
              "    <tr>\n",
              "      <th>1</th>\n",
              "      <td>4.0</td>\n",
              "      <td>0.0</td>\n",
              "      <td>4.0</td>\n",
              "      <td>0.0</td>\n",
              "      <td>0.0</td>\n",
              "      <td>4.0</td>\n",
              "      <td>0.0</td>\n",
              "      <td>0.0</td>\n",
              "      <td>0.0</td>\n",
              "      <td>0.0</td>\n",
              "      <td>...</td>\n",
              "      <td>0.0</td>\n",
              "      <td>0.0</td>\n",
              "      <td>0.0</td>\n",
              "      <td>0.0</td>\n",
              "      <td>0.0</td>\n",
              "      <td>0.0</td>\n",
              "      <td>0.0</td>\n",
              "      <td>0.0</td>\n",
              "      <td>0.0</td>\n",
              "      <td>0.0</td>\n",
              "    </tr>\n",
              "    <tr>\n",
              "      <th>2</th>\n",
              "      <td>0.0</td>\n",
              "      <td>0.0</td>\n",
              "      <td>0.0</td>\n",
              "      <td>0.0</td>\n",
              "      <td>0.0</td>\n",
              "      <td>0.0</td>\n",
              "      <td>0.0</td>\n",
              "      <td>0.0</td>\n",
              "      <td>0.0</td>\n",
              "      <td>0.0</td>\n",
              "      <td>...</td>\n",
              "      <td>0.0</td>\n",
              "      <td>0.0</td>\n",
              "      <td>0.0</td>\n",
              "      <td>0.0</td>\n",
              "      <td>0.0</td>\n",
              "      <td>0.0</td>\n",
              "      <td>0.0</td>\n",
              "      <td>0.0</td>\n",
              "      <td>0.0</td>\n",
              "      <td>0.0</td>\n",
              "    </tr>\n",
              "    <tr>\n",
              "      <th>3</th>\n",
              "      <td>0.0</td>\n",
              "      <td>0.0</td>\n",
              "      <td>0.0</td>\n",
              "      <td>0.0</td>\n",
              "      <td>0.0</td>\n",
              "      <td>0.0</td>\n",
              "      <td>0.0</td>\n",
              "      <td>0.0</td>\n",
              "      <td>0.0</td>\n",
              "      <td>0.0</td>\n",
              "      <td>...</td>\n",
              "      <td>0.0</td>\n",
              "      <td>0.0</td>\n",
              "      <td>0.0</td>\n",
              "      <td>0.0</td>\n",
              "      <td>0.0</td>\n",
              "      <td>0.0</td>\n",
              "      <td>0.0</td>\n",
              "      <td>0.0</td>\n",
              "      <td>0.0</td>\n",
              "      <td>0.0</td>\n",
              "    </tr>\n",
              "    <tr>\n",
              "      <th>4</th>\n",
              "      <td>0.0</td>\n",
              "      <td>0.0</td>\n",
              "      <td>0.0</td>\n",
              "      <td>0.0</td>\n",
              "      <td>0.0</td>\n",
              "      <td>0.0</td>\n",
              "      <td>0.0</td>\n",
              "      <td>0.0</td>\n",
              "      <td>0.0</td>\n",
              "      <td>0.0</td>\n",
              "      <td>...</td>\n",
              "      <td>0.0</td>\n",
              "      <td>0.0</td>\n",
              "      <td>0.0</td>\n",
              "      <td>0.0</td>\n",
              "      <td>0.0</td>\n",
              "      <td>0.0</td>\n",
              "      <td>0.0</td>\n",
              "      <td>0.0</td>\n",
              "      <td>0.0</td>\n",
              "      <td>0.0</td>\n",
              "    </tr>\n",
              "    <tr>\n",
              "      <th>5</th>\n",
              "      <td>4.0</td>\n",
              "      <td>0.0</td>\n",
              "      <td>0.0</td>\n",
              "      <td>0.0</td>\n",
              "      <td>0.0</td>\n",
              "      <td>0.0</td>\n",
              "      <td>0.0</td>\n",
              "      <td>0.0</td>\n",
              "      <td>0.0</td>\n",
              "      <td>0.0</td>\n",
              "      <td>...</td>\n",
              "      <td>0.0</td>\n",
              "      <td>0.0</td>\n",
              "      <td>0.0</td>\n",
              "      <td>0.0</td>\n",
              "      <td>0.0</td>\n",
              "      <td>0.0</td>\n",
              "      <td>0.0</td>\n",
              "      <td>0.0</td>\n",
              "      <td>0.0</td>\n",
              "      <td>0.0</td>\n",
              "    </tr>\n",
              "    <tr>\n",
              "      <th>...</th>\n",
              "      <td>...</td>\n",
              "      <td>...</td>\n",
              "      <td>...</td>\n",
              "      <td>...</td>\n",
              "      <td>...</td>\n",
              "      <td>...</td>\n",
              "      <td>...</td>\n",
              "      <td>...</td>\n",
              "      <td>...</td>\n",
              "      <td>...</td>\n",
              "      <td>...</td>\n",
              "      <td>...</td>\n",
              "      <td>...</td>\n",
              "      <td>...</td>\n",
              "      <td>...</td>\n",
              "      <td>...</td>\n",
              "      <td>...</td>\n",
              "      <td>...</td>\n",
              "      <td>...</td>\n",
              "      <td>...</td>\n",
              "      <td>...</td>\n",
              "    </tr>\n",
              "    <tr>\n",
              "      <th>284</th>\n",
              "      <td>0.0</td>\n",
              "      <td>4.0</td>\n",
              "      <td>0.0</td>\n",
              "      <td>0.0</td>\n",
              "      <td>0.0</td>\n",
              "      <td>0.0</td>\n",
              "      <td>0.0</td>\n",
              "      <td>0.0</td>\n",
              "      <td>0.0</td>\n",
              "      <td>4.0</td>\n",
              "      <td>...</td>\n",
              "      <td>0.0</td>\n",
              "      <td>0.0</td>\n",
              "      <td>0.0</td>\n",
              "      <td>0.0</td>\n",
              "      <td>0.0</td>\n",
              "      <td>0.0</td>\n",
              "      <td>0.0</td>\n",
              "      <td>0.0</td>\n",
              "      <td>0.0</td>\n",
              "      <td>0.0</td>\n",
              "    </tr>\n",
              "    <tr>\n",
              "      <th>285</th>\n",
              "      <td>0.0</td>\n",
              "      <td>0.0</td>\n",
              "      <td>0.0</td>\n",
              "      <td>0.0</td>\n",
              "      <td>0.0</td>\n",
              "      <td>0.0</td>\n",
              "      <td>0.0</td>\n",
              "      <td>0.0</td>\n",
              "      <td>0.0</td>\n",
              "      <td>0.0</td>\n",
              "      <td>...</td>\n",
              "      <td>0.0</td>\n",
              "      <td>0.0</td>\n",
              "      <td>0.0</td>\n",
              "      <td>0.0</td>\n",
              "      <td>0.0</td>\n",
              "      <td>0.0</td>\n",
              "      <td>0.0</td>\n",
              "      <td>0.0</td>\n",
              "      <td>0.0</td>\n",
              "      <td>0.0</td>\n",
              "    </tr>\n",
              "    <tr>\n",
              "      <th>286</th>\n",
              "      <td>0.0</td>\n",
              "      <td>0.0</td>\n",
              "      <td>0.0</td>\n",
              "      <td>0.0</td>\n",
              "      <td>0.0</td>\n",
              "      <td>4.5</td>\n",
              "      <td>3.5</td>\n",
              "      <td>0.0</td>\n",
              "      <td>0.0</td>\n",
              "      <td>0.0</td>\n",
              "      <td>...</td>\n",
              "      <td>0.0</td>\n",
              "      <td>0.0</td>\n",
              "      <td>0.0</td>\n",
              "      <td>0.0</td>\n",
              "      <td>0.0</td>\n",
              "      <td>0.0</td>\n",
              "      <td>0.0</td>\n",
              "      <td>0.0</td>\n",
              "      <td>0.0</td>\n",
              "      <td>0.0</td>\n",
              "    </tr>\n",
              "    <tr>\n",
              "      <th>287</th>\n",
              "      <td>0.0</td>\n",
              "      <td>0.0</td>\n",
              "      <td>0.0</td>\n",
              "      <td>0.0</td>\n",
              "      <td>0.0</td>\n",
              "      <td>0.0</td>\n",
              "      <td>0.0</td>\n",
              "      <td>0.0</td>\n",
              "      <td>0.0</td>\n",
              "      <td>0.0</td>\n",
              "      <td>...</td>\n",
              "      <td>0.0</td>\n",
              "      <td>0.0</td>\n",
              "      <td>0.0</td>\n",
              "      <td>0.0</td>\n",
              "      <td>0.0</td>\n",
              "      <td>0.0</td>\n",
              "      <td>0.0</td>\n",
              "      <td>0.0</td>\n",
              "      <td>0.0</td>\n",
              "      <td>0.0</td>\n",
              "    </tr>\n",
              "    <tr>\n",
              "      <th>288</th>\n",
              "      <td>4.5</td>\n",
              "      <td>2.0</td>\n",
              "      <td>4.0</td>\n",
              "      <td>0.0</td>\n",
              "      <td>2.0</td>\n",
              "      <td>0.0</td>\n",
              "      <td>0.0</td>\n",
              "      <td>0.0</td>\n",
              "      <td>0.0</td>\n",
              "      <td>3.0</td>\n",
              "      <td>...</td>\n",
              "      <td>0.0</td>\n",
              "      <td>0.0</td>\n",
              "      <td>0.0</td>\n",
              "      <td>0.0</td>\n",
              "      <td>0.0</td>\n",
              "      <td>0.0</td>\n",
              "      <td>0.0</td>\n",
              "      <td>0.0</td>\n",
              "      <td>0.0</td>\n",
              "      <td>0.0</td>\n",
              "    </tr>\n",
              "  </tbody>\n",
              "</table>\n",
              "<p>288 rows × 6433 columns</p>\n",
              "</div>\n",
              "    <div class=\"colab-df-buttons\">\n",
              "\n",
              "  <div class=\"colab-df-container\">\n",
              "    <button class=\"colab-df-convert\" onclick=\"convertToInteractive('df-08d6df21-91a0-44d4-afd5-a420e8f8b7f4')\"\n",
              "            title=\"Convert this dataframe to an interactive table.\"\n",
              "            style=\"display:none;\">\n",
              "\n",
              "  <svg xmlns=\"http://www.w3.org/2000/svg\" height=\"24px\" viewBox=\"0 -960 960 960\">\n",
              "    <path d=\"M120-120v-720h720v720H120Zm60-500h600v-160H180v160Zm220 220h160v-160H400v160Zm0 220h160v-160H400v160ZM180-400h160v-160H180v160Zm440 0h160v-160H620v160ZM180-180h160v-160H180v160Zm440 0h160v-160H620v160Z\"/>\n",
              "  </svg>\n",
              "    </button>\n",
              "\n",
              "  <style>\n",
              "    .colab-df-container {\n",
              "      display:flex;\n",
              "      gap: 12px;\n",
              "    }\n",
              "\n",
              "    .colab-df-convert {\n",
              "      background-color: #E8F0FE;\n",
              "      border: none;\n",
              "      border-radius: 50%;\n",
              "      cursor: pointer;\n",
              "      display: none;\n",
              "      fill: #1967D2;\n",
              "      height: 32px;\n",
              "      padding: 0 0 0 0;\n",
              "      width: 32px;\n",
              "    }\n",
              "\n",
              "    .colab-df-convert:hover {\n",
              "      background-color: #E2EBFA;\n",
              "      box-shadow: 0px 1px 2px rgba(60, 64, 67, 0.3), 0px 1px 3px 1px rgba(60, 64, 67, 0.15);\n",
              "      fill: #174EA6;\n",
              "    }\n",
              "\n",
              "    .colab-df-buttons div {\n",
              "      margin-bottom: 4px;\n",
              "    }\n",
              "\n",
              "    [theme=dark] .colab-df-convert {\n",
              "      background-color: #3B4455;\n",
              "      fill: #D2E3FC;\n",
              "    }\n",
              "\n",
              "    [theme=dark] .colab-df-convert:hover {\n",
              "      background-color: #434B5C;\n",
              "      box-shadow: 0px 1px 3px 1px rgba(0, 0, 0, 0.15);\n",
              "      filter: drop-shadow(0px 1px 2px rgba(0, 0, 0, 0.3));\n",
              "      fill: #FFFFFF;\n",
              "    }\n",
              "  </style>\n",
              "\n",
              "    <script>\n",
              "      const buttonEl =\n",
              "        document.querySelector('#df-08d6df21-91a0-44d4-afd5-a420e8f8b7f4 button.colab-df-convert');\n",
              "      buttonEl.style.display =\n",
              "        google.colab.kernel.accessAllowed ? 'block' : 'none';\n",
              "\n",
              "      async function convertToInteractive(key) {\n",
              "        const element = document.querySelector('#df-08d6df21-91a0-44d4-afd5-a420e8f8b7f4');\n",
              "        const dataTable =\n",
              "          await google.colab.kernel.invokeFunction('convertToInteractive',\n",
              "                                                    [key], {});\n",
              "        if (!dataTable) return;\n",
              "\n",
              "        const docLinkHtml = 'Like what you see? Visit the ' +\n",
              "          '<a target=\"_blank\" href=https://colab.research.google.com/notebooks/data_table.ipynb>data table notebook</a>'\n",
              "          + ' to learn more about interactive tables.';\n",
              "        element.innerHTML = '';\n",
              "        dataTable['output_type'] = 'display_data';\n",
              "        await google.colab.output.renderOutput(dataTable, element);\n",
              "        const docLink = document.createElement('div');\n",
              "        docLink.innerHTML = docLinkHtml;\n",
              "        element.appendChild(docLink);\n",
              "      }\n",
              "    </script>\n",
              "  </div>\n",
              "\n",
              "\n",
              "<div id=\"df-c3e3c4d0-c427-4216-bd48-107fcae6157d\">\n",
              "  <button class=\"colab-df-quickchart\" onclick=\"quickchart('df-c3e3c4d0-c427-4216-bd48-107fcae6157d')\"\n",
              "            title=\"Suggest charts\"\n",
              "            style=\"display:none;\">\n",
              "\n",
              "<svg xmlns=\"http://www.w3.org/2000/svg\" height=\"24px\"viewBox=\"0 0 24 24\"\n",
              "     width=\"24px\">\n",
              "    <g>\n",
              "        <path d=\"M19 3H5c-1.1 0-2 .9-2 2v14c0 1.1.9 2 2 2h14c1.1 0 2-.9 2-2V5c0-1.1-.9-2-2-2zM9 17H7v-7h2v7zm4 0h-2V7h2v10zm4 0h-2v-4h2v4z\"/>\n",
              "    </g>\n",
              "</svg>\n",
              "  </button>\n",
              "\n",
              "<style>\n",
              "  .colab-df-quickchart {\n",
              "      --bg-color: #E8F0FE;\n",
              "      --fill-color: #1967D2;\n",
              "      --hover-bg-color: #E2EBFA;\n",
              "      --hover-fill-color: #174EA6;\n",
              "      --disabled-fill-color: #AAA;\n",
              "      --disabled-bg-color: #DDD;\n",
              "  }\n",
              "\n",
              "  [theme=dark] .colab-df-quickchart {\n",
              "      --bg-color: #3B4455;\n",
              "      --fill-color: #D2E3FC;\n",
              "      --hover-bg-color: #434B5C;\n",
              "      --hover-fill-color: #FFFFFF;\n",
              "      --disabled-bg-color: #3B4455;\n",
              "      --disabled-fill-color: #666;\n",
              "  }\n",
              "\n",
              "  .colab-df-quickchart {\n",
              "    background-color: var(--bg-color);\n",
              "    border: none;\n",
              "    border-radius: 50%;\n",
              "    cursor: pointer;\n",
              "    display: none;\n",
              "    fill: var(--fill-color);\n",
              "    height: 32px;\n",
              "    padding: 0;\n",
              "    width: 32px;\n",
              "  }\n",
              "\n",
              "  .colab-df-quickchart:hover {\n",
              "    background-color: var(--hover-bg-color);\n",
              "    box-shadow: 0 1px 2px rgba(60, 64, 67, 0.3), 0 1px 3px 1px rgba(60, 64, 67, 0.15);\n",
              "    fill: var(--button-hover-fill-color);\n",
              "  }\n",
              "\n",
              "  .colab-df-quickchart-complete:disabled,\n",
              "  .colab-df-quickchart-complete:disabled:hover {\n",
              "    background-color: var(--disabled-bg-color);\n",
              "    fill: var(--disabled-fill-color);\n",
              "    box-shadow: none;\n",
              "  }\n",
              "\n",
              "  .colab-df-spinner {\n",
              "    border: 2px solid var(--fill-color);\n",
              "    border-color: transparent;\n",
              "    border-bottom-color: var(--fill-color);\n",
              "    animation:\n",
              "      spin 1s steps(1) infinite;\n",
              "  }\n",
              "\n",
              "  @keyframes spin {\n",
              "    0% {\n",
              "      border-color: transparent;\n",
              "      border-bottom-color: var(--fill-color);\n",
              "      border-left-color: var(--fill-color);\n",
              "    }\n",
              "    20% {\n",
              "      border-color: transparent;\n",
              "      border-left-color: var(--fill-color);\n",
              "      border-top-color: var(--fill-color);\n",
              "    }\n",
              "    30% {\n",
              "      border-color: transparent;\n",
              "      border-left-color: var(--fill-color);\n",
              "      border-top-color: var(--fill-color);\n",
              "      border-right-color: var(--fill-color);\n",
              "    }\n",
              "    40% {\n",
              "      border-color: transparent;\n",
              "      border-right-color: var(--fill-color);\n",
              "      border-top-color: var(--fill-color);\n",
              "    }\n",
              "    60% {\n",
              "      border-color: transparent;\n",
              "      border-right-color: var(--fill-color);\n",
              "    }\n",
              "    80% {\n",
              "      border-color: transparent;\n",
              "      border-right-color: var(--fill-color);\n",
              "      border-bottom-color: var(--fill-color);\n",
              "    }\n",
              "    90% {\n",
              "      border-color: transparent;\n",
              "      border-bottom-color: var(--fill-color);\n",
              "    }\n",
              "  }\n",
              "</style>\n",
              "\n",
              "  <script>\n",
              "    async function quickchart(key) {\n",
              "      const quickchartButtonEl =\n",
              "        document.querySelector('#' + key + ' button');\n",
              "      quickchartButtonEl.disabled = true;  // To prevent multiple clicks.\n",
              "      quickchartButtonEl.classList.add('colab-df-spinner');\n",
              "      try {\n",
              "        const charts = await google.colab.kernel.invokeFunction(\n",
              "            'suggestCharts', [key], {});\n",
              "      } catch (error) {\n",
              "        console.error('Error during call to suggestCharts:', error);\n",
              "      }\n",
              "      quickchartButtonEl.classList.remove('colab-df-spinner');\n",
              "      quickchartButtonEl.classList.add('colab-df-quickchart-complete');\n",
              "    }\n",
              "    (() => {\n",
              "      let quickchartButtonEl =\n",
              "        document.querySelector('#df-c3e3c4d0-c427-4216-bd48-107fcae6157d button');\n",
              "      quickchartButtonEl.style.display =\n",
              "        google.colab.kernel.accessAllowed ? 'block' : 'none';\n",
              "    })();\n",
              "  </script>\n",
              "</div>\n",
              "    </div>\n",
              "  </div>\n"
            ]
          },
          "metadata": {},
          "execution_count": 32
        }
      ]
    },
    {
      "cell_type": "code",
      "source": [
        "import seaborn as sns\n",
        "import matplotlib.pyplot as plt\n",
        "\n",
        "# Visualize a portion of the matrix as a heatmap, like a bird's eye view of our festival audience.\n",
        "plt.figure(figsize=(15, 10))\n",
        "sns.heatmap(user_movie_matrix.iloc[:100, :100], cmap=\"YlGnBu\")\n",
        "plt.show()\n",
        "\n",
        "# Look at the color intensity bar on the right to get an idea about the color variation in the plot. 1 to 5 on the bar represents the rating given by the users in the dataset"
      ],
      "metadata": {
        "id": "3WfEY8yesMiD",
        "colab": {
          "base_uri": "https://localhost:8080/",
          "height": 868
        },
        "outputId": "875ca9e6-8003-41e1-b091-b73fe2cc78d5"
      },
      "execution_count": null,
      "outputs": [
        {
          "output_type": "display_data",
          "data": {
            "text/plain": [
              "<Figure size 1500x1000 with 2 Axes>"
            ],
            "image/png": "[encoded data removed]"
          },
          "metadata": {}
        }
      ]
    },
    {
      "cell_type": "code",
      "source": [
        "# Calculate how sparse the matrix is.\n",
        "sparsity = float(len(user_movie_matrix.values.nonzero()[0]))  # This first element \"[0]\" contains the row indices of non-zero elements in the matrix\n",
        "sparsity /= (user_movie_matrix.shape[0] * user_movie_matrix.shape[1]) # Here, \"[0]\" represents no.of columns or no.of users in the matrix, where as, \"[1]\" represents the no.of columns or no.of movies in the matrix\n",
        "sparsity_percent = sparsity * 100\n",
        "\n",
        "print(f\"Our scroll is {100 - sparsity_percent:.2f}% empty.\")"
      ],
      "metadata": {
        "id": "wivEF2jIsTjq",
        "colab": {
          "base_uri": "https://localhost:8080/"
        },
        "outputId": "5a3585b1-f994-452a-fabc-885b14bb29cb"
      },
      "execution_count": null,
      "outputs": [
        {
          "output_type": "stream",
          "name": "stdout",
          "text": [
            "Our scroll is 97.67% empty.\n"
          ]
        }
      ]
    },
    {
      "cell_type": "code",
      "source": [
        "from scipy.sparse import csr_matrix  # Compressed Sparse Row\n",
        "# Convert the user-movie matrix to a sparse matrix format for efficiency,\n",
        "# like condensing a thick festival guide into a handy thin quick-guide.\n",
        "user_movie_matrix_csr = csr_matrix(user_movie_matrix.fillna(0))"
      ],
      "metadata": {
        "id": "wMHR2A0JviMn"
      },
      "execution_count": null,
      "outputs": []
    },
    {
      "cell_type": "code",
      "source": [
        "from sklearn.model_selection import train_test_split\n",
        "\n",
        "# Split the data into a training set and a test set.\n",
        "train, test = train_test_split(ratings, test_size=0.2, random_state=42)\n",
        "\n",
        "# Create a matrix from the training set.\n",
        "train_matrix = train.pivot(index='userId', columns='movieId', values='rating').fillna(0)\n",
        "train_matrix_csr = csr_matrix(train_matrix.values)\n",
        "\n",
        "# Create a matrix from the test dataset.\n",
        "test_matrix = test.pivot(index='userId', columns='movieId', values='rating').fillna(0)\n",
        "test_matrix_csr = csr_matrix(test_matrix.values)"
      ],
      "metadata": {
        "id": "9x8XIXPUFGOL"
      },
      "execution_count": null,
      "outputs": []
    },
    {
      "cell_type": "code",
      "source": [
        "from scipy.sparse.linalg import svds\n",
        "\n",
        "# Perform SVD on the training matrix.\n",
        "U, S, VT = svds(train_matrix_csr, k=50)\n",
        "S = np.diag(S)"
      ],
      "metadata": {
        "id": "v_UiVigiuVPe"
      },
      "execution_count": null,
      "outputs": []
    },
    {
      "cell_type": "markdown",
      "source": [
        "![epochnoteboook.png](data:image/png;base64,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)"
      ],
      "metadata": {
        "id": "Xx7FW8VHR9zu"
      }
    },
    {
      "cell_type": "code",
      "source": [
        "# Multiply U, S, and VT to get the reconstructed matrix\n",
        "# Like a director's cut put all together back into a full movie.\n",
        "reconstructed_matrix = np.dot(U, np.dot(S, VT))  # You can use \"@\" operator as well for dot product\n",
        "reconstructed_matrix"
      ],
      "metadata": {
        "id": "36pvdyTEufGs",
        "colab": {
          "base_uri": "https://localhost:8080/"
        },
        "outputId": "7d581f98-592e-4c1d-f427-78bfb6cfa7ca"
      },
      "execution_count": null,
      "outputs": [
        {
          "output_type": "execute_result",
          "data": {
            "text/plain": [
              "array([[-1.77491941e+00,  1.67686615e-01, -2.27077936e-01, ...,\n",
              "         1.39012831e-02,  1.39012831e-02,  1.39012831e-02],\n",
              "       [ 3.16171856e-01, -6.16012808e-03,  2.12763063e-02, ...,\n",
              "         2.80602922e-02,  2.80602922e-02,  2.80602922e-02],\n",
              "       [-9.01637504e-02,  5.20878779e-02,  1.02417120e-02, ...,\n",
              "        -1.39414919e-03, -1.39414919e-03, -1.39414919e-03],\n",
              "       ...,\n",
              "       [ 1.71369254e+00,  5.27868098e-01,  4.10792756e-01, ...,\n",
              "        -6.23366765e-03, -6.23366765e-03, -6.23366765e-03],\n",
              "       [ 1.38413394e-02,  2.27410109e-01,  2.47298287e-01, ...,\n",
              "        -4.08737079e-03, -4.08737079e-03, -4.08737079e-03],\n",
              "       [ 3.94790745e+00,  2.01002909e+00,  3.62122104e+00, ...,\n",
              "         7.62691191e-03,  7.62691191e-03,  7.62691191e-03]])"
            ]
          },
          "metadata": {},
          "execution_count": 38
        }
      ]
    },
    {
      "cell_type": "code",
      "source": [
        "# Calculate the mean rating for each user in the training set.\n",
        "user_means = train_matrix_csr.mean(axis=1)  # axis=1 corresponds to the rows of a matrix and axis=0 corresponds to the columns.\n",
        "user_means"
      ],
      "metadata": {
        "id": "OoBt8xZCwMJP",
        "colab": {
          "base_uri": "https://localhost:8080/"
        },
        "outputId": "7f36d7a7-5ad5-4d15-de10-26b2c7e65e08"
      },
      "execution_count": null,
      "outputs": [
        {
          "output_type": "execute_result",
          "data": {
            "text/plain": [
              "matrix([[0.1398955 ],\n",
              "        [0.0144952 ],\n",
              "        [0.01146132],\n",
              "        [0.09624136],\n",
              "        [0.02174279],\n",
              "        [0.14410922],\n",
              "        [0.06489129],\n",
              "        [0.02275409],\n",
              "        [0.0210686 ],\n",
              "        [0.06480701],\n",
              "        [0.03505815],\n",
              "        [0.01668633],\n",
              "        [0.01786617],\n",
              "        [0.01736053],\n",
              "        [0.05637957],\n",
              "        [0.04963762],\n",
              "        [0.05739086],\n",
              "        [0.25720546],\n",
              "        [0.24827237],\n",
              "        [0.11444463],\n",
              "        [0.19172425],\n",
              "        [0.04618237],\n",
              "        [0.05418844],\n",
              "        [0.05427271],\n",
              "        [0.01693915],\n",
              "        [0.0072476 ],\n",
              "        [0.0628687 ],\n",
              "        [0.23209169],\n",
              "        [0.04719366],\n",
              "        [0.02207989],\n",
              "        [0.02781055],\n",
              "        [0.05241868],\n",
              "        [0.07854374],\n",
              "        [0.03767066],\n",
              "        [0.0141581 ],\n",
              "        [0.02241699],\n",
              "        [0.01129277],\n",
              "        [0.03640654],\n",
              "        [0.05309287],\n",
              "        [0.05494691],\n",
              "        [0.09295466],\n",
              "        [0.21321423],\n",
              "        [0.06219451],\n",
              "        [0.02376538],\n",
              "        [0.20613518],\n",
              "        [0.01870892],\n",
              "        [0.05730659],\n",
              "        [0.01963593],\n",
              "        [0.01289398],\n",
              "        [0.11259059],\n",
              "        [0.174448  ],\n",
              "        [0.07744817],\n",
              "        [0.0134839 ],\n",
              "        [0.01331535],\n",
              "        [0.00834317],\n",
              "        [0.02578797],\n",
              "        [0.21388842],\n",
              "        [0.06135176],\n",
              "        [0.06674532],\n",
              "        [0.01213551],\n",
              "        [0.02081578],\n",
              "        [0.20529243],\n",
              "        [0.1293612 ],\n",
              "        [0.26832968],\n",
              "        [0.02022586],\n",
              "        [0.18970167],\n",
              "        [0.01980448],\n",
              "        [0.55654812],\n",
              "        [0.02646216],\n",
              "        [0.03741783],\n",
              "        [0.0144952 ],\n",
              "        [0.02578797],\n",
              "        [0.09826395],\n",
              "        [0.09919097],\n",
              "        [0.03042306],\n",
              "        [0.04803641],\n",
              "        [0.01651778],\n",
              "        [0.02612506],\n",
              "        [0.03404686],\n",
              "        [0.09683128],\n",
              "        [0.00910163],\n",
              "        [0.10037081],\n",
              "        [0.04989044],\n",
              "        [0.14916568],\n",
              "        [0.01584359],\n",
              "        [0.04087308],\n",
              "        [0.01137704],\n",
              "        [0.03185572],\n",
              "        [0.24591269],\n",
              "        [0.02915894],\n",
              "        [0.261672  ],\n",
              "        [0.01314681],\n",
              "        [0.05747514],\n",
              "        [0.02258554],\n",
              "        [0.09758975],\n",
              "        [0.04483398],\n",
              "        [0.02005731],\n",
              "        [0.05140738],\n",
              "        [0.02393393],\n",
              "        [0.07896511],\n",
              "        [0.03202427],\n",
              "        [0.02528232],\n",
              "        [0.20234283],\n",
              "        [0.12978257],\n",
              "        [0.40729816],\n",
              "        [0.01887747],\n",
              "        [0.02005731],\n",
              "        [0.04196865],\n",
              "        [0.05545255],\n",
              "        [0.02747345],\n",
              "        [0.29142087],\n",
              "        [0.0312658 ],\n",
              "        [0.07719535],\n",
              "        [0.01550649],\n",
              "        [0.05713804],\n",
              "        [0.03809203],\n",
              "        [0.07315018],\n",
              "        [0.01028148],\n",
              "        [0.1260745 ],\n",
              "        [0.01011293],\n",
              "        [0.02578797],\n",
              "        [0.16871734],\n",
              "        [0.03286702],\n",
              "        [0.02772628],\n",
              "        [0.18034721],\n",
              "        [0.01719198],\n",
              "        [0.00884881],\n",
              "        [0.0207315 ],\n",
              "        [0.07652115],\n",
              "        [0.01146132],\n",
              "        [0.03497387],\n",
              "        [0.14410922],\n",
              "        [0.01685488],\n",
              "        [0.01702343],\n",
              "        [0.12995112],\n",
              "        [0.04786786],\n",
              "        [0.07323445],\n",
              "        [0.0101972 ],\n",
              "        [0.05739086],\n",
              "        [0.2827406 ],\n",
              "        [0.08022923],\n",
              "        [0.01972021],\n",
              "        [0.027642  ],\n",
              "        [0.0625316 ],\n",
              "        [0.00825889],\n",
              "        [0.01213551],\n",
              "        [0.00969156],\n",
              "        [0.02368111],\n",
              "        [0.02123715],\n",
              "        [0.01432665],\n",
              "        [0.03168717],\n",
              "        [0.03623799],\n",
              "        [0.0530086 ],\n",
              "        [0.01854037],\n",
              "        [0.02224844],\n",
              "        [0.19020732],\n",
              "        [0.00994438],\n",
              "        [0.01306253],\n",
              "        [0.04407551],\n",
              "        [0.16922299],\n",
              "        [0.02047868],\n",
              "        [0.02494522],\n",
              "        [0.00893309],\n",
              "        [0.0210686 ],\n",
              "        [0.02949604],\n",
              "        [0.10702848],\n",
              "        [0.08233609],\n",
              "        [0.05848643],\n",
              "        [0.14495196],\n",
              "        [0.01938311],\n",
              "        [0.05107028],\n",
              "        [0.01264116],\n",
              "        [0.0134839 ],\n",
              "        [0.03421541],\n",
              "        [0.01112422],\n",
              "        [0.01769762],\n",
              "        [0.41597843],\n",
              "        [0.04104163],\n",
              "        [0.03674364],\n",
              "        [0.01146132],\n",
              "        [0.04331704],\n",
              "        [0.46173942],\n",
              "        [0.03101298],\n",
              "        [0.06843081],\n",
              "        [0.0214057 ],\n",
              "        [0.12691724],\n",
              "        [0.1264116 ],\n",
              "        [0.02646216],\n",
              "        [0.01112422],\n",
              "        [0.03531097],\n",
              "        [0.04230575],\n",
              "        [0.0134839 ],\n",
              "        [0.01761335],\n",
              "        [0.01036575],\n",
              "        [0.08831957],\n",
              "        [0.01525367],\n",
              "        [0.02005731],\n",
              "        [0.1046688 ],\n",
              "        [0.16138547],\n",
              "        [0.17293106],\n",
              "        [0.06236305],\n",
              "        [0.20866341],\n",
              "        [0.02266981],\n",
              "        [0.04474971],\n",
              "        [0.01289398],\n",
              "        [0.01432665],\n",
              "        [0.00775324],\n",
              "        [0.01247261],\n",
              "        [0.01651778],\n",
              "        [0.07904938],\n",
              "        [0.05005899],\n",
              "        [0.1221136 ],\n",
              "        [0.04533963],\n",
              "        [0.00775324],\n",
              "        [0.05284005],\n",
              "        [0.08511714],\n",
              "        [0.21911343],\n",
              "        [0.01205124],\n",
              "        [0.2304062 ],\n",
              "        [0.11098938],\n",
              "        [0.18540367],\n",
              "        [0.10888252],\n",
              "        [0.03413113],\n",
              "        [0.03084443],\n",
              "        [0.03758638],\n",
              "        [0.23183887],\n",
              "        [0.05090174],\n",
              "        [0.01221979],\n",
              "        [0.03404686],\n",
              "        [0.06000337],\n",
              "        [0.01238834],\n",
              "        [0.3847969 ],\n",
              "        [0.073403  ],\n",
              "        [0.09893814],\n",
              "        [0.03202427],\n",
              "        [0.01685488],\n",
              "        [0.02233272],\n",
              "        [0.02477667],\n",
              "        [0.14908141],\n",
              "        [0.06607113],\n",
              "        [0.04618237],\n",
              "        [0.01567504],\n",
              "        [0.01854037],\n",
              "        [0.04466543],\n",
              "        [0.0072476 ],\n",
              "        [0.10441598],\n",
              "        [0.07820664],\n",
              "        [0.02342828],\n",
              "        [0.51980448],\n",
              "        [0.01407382],\n",
              "        [0.01634923],\n",
              "        [0.0240182 ],\n",
              "        [0.02781055],\n",
              "        [0.06834654],\n",
              "        [0.01736053],\n",
              "        [0.09716838],\n",
              "        [0.00910163],\n",
              "        [0.01398955],\n",
              "        [0.01230406],\n",
              "        [0.07534131],\n",
              "        [0.02637789],\n",
              "        [0.02427103],\n",
              "        [0.11183213],\n",
              "        [0.02679926],\n",
              "        [0.07281308],\n",
              "        [0.08697118],\n",
              "        [0.03539525],\n",
              "        [0.05848643],\n",
              "        [0.013821  ],\n",
              "        [0.01533794],\n",
              "        [0.01795045],\n",
              "        [0.01592786],\n",
              "        [0.03219282],\n",
              "        [0.5763526 ],\n",
              "        [0.21843924],\n",
              "        [0.02578797],\n",
              "        [0.013821  ],\n",
              "        [0.01002865],\n",
              "        [0.07845946],\n",
              "        [0.10332041],\n",
              "        [0.01028148],\n",
              "        [0.11570875],\n",
              "        [0.013821  ],\n",
              "        [0.04719366],\n",
              "        [0.01820327],\n",
              "        [0.05494691],\n",
              "        [0.05578965],\n",
              "        [0.41117479]])"
            ]
          },
          "metadata": {},
          "execution_count": 39
        }
      ]
    },
    {
      "cell_type": "code",
      "source": [
        "user_means = np.array(user_means).flatten()\n",
        "user_means"
      ],
      "metadata": {
        "colab": {
          "base_uri": "https://localhost:8080/"
        },
        "id": "bLh6Ql1x7DQU",
        "outputId": "b4fc2bbf-25b0-4a87-d670-76a8af278b69"
      },
      "execution_count": null,
      "outputs": [
        {
          "output_type": "execute_result",
          "data": {
            "text/plain": [
              "array([0.1398955 , 0.0144952 , 0.01146132, 0.09624136, 0.02174279,\n",
              "       0.14410922, 0.06489129, 0.02275409, 0.0210686 , 0.06480701,\n",
              "       0.03505815, 0.01668633, 0.01786617, 0.01736053, 0.05637957,\n",
              "       0.04963762, 0.05739086, 0.25720546, 0.24827237, 0.11444463,\n",
              "       0.19172425, 0.04618237, 0.05418844, 0.05427271, 0.01693915,\n",
              "       0.0072476 , 0.0628687 , 0.23209169, 0.04719366, 0.02207989,\n",
              "       0.02781055, 0.05241868, 0.07854374, 0.03767066, 0.0141581 ,\n",
              "       0.02241699, 0.01129277, 0.03640654, 0.05309287, 0.05494691,\n",
              "       0.09295466, 0.21321423, 0.06219451, 0.02376538, 0.20613518,\n",
              "       0.01870892, 0.05730659, 0.01963593, 0.01289398, 0.11259059,\n",
              "       0.174448  , 0.07744817, 0.0134839 , 0.01331535, 0.00834317,\n",
              "       0.02578797, 0.21388842, 0.06135176, 0.06674532, 0.01213551,\n",
              "       0.02081578, 0.20529243, 0.1293612 , 0.26832968, 0.02022586,\n",
              "       0.18970167, 0.01980448, 0.55654812, 0.02646216, 0.03741783,\n",
              "       0.0144952 , 0.02578797, 0.09826395, 0.09919097, 0.03042306,\n",
              "       0.04803641, 0.01651778, 0.02612506, 0.03404686, 0.09683128,\n",
              "       0.00910163, 0.10037081, 0.04989044, 0.14916568, 0.01584359,\n",
              "       0.04087308, 0.01137704, 0.03185572, 0.24591269, 0.02915894,\n",
              "       0.261672  , 0.01314681, 0.05747514, 0.02258554, 0.09758975,\n",
              "       0.04483398, 0.02005731, 0.05140738, 0.02393393, 0.07896511,\n",
              "       0.03202427, 0.02528232, 0.20234283, 0.12978257, 0.40729816,\n",
              "       0.01887747, 0.02005731, 0.04196865, 0.05545255, 0.02747345,\n",
              "       0.29142087, 0.0312658 , 0.07719535, 0.01550649, 0.05713804,\n",
              "       0.03809203, 0.07315018, 0.01028148, 0.1260745 , 0.01011293,\n",
              "       0.02578797, 0.16871734, 0.03286702, 0.02772628, 0.18034721,\n",
              "       0.01719198, 0.00884881, 0.0207315 , 0.07652115, 0.01146132,\n",
              "       0.03497387, 0.14410922, 0.01685488, 0.01702343, 0.12995112,\n",
              "       0.04786786, 0.07323445, 0.0101972 , 0.05739086, 0.2827406 ,\n",
              "       0.08022923, 0.01972021, 0.027642  , 0.0625316 , 0.00825889,\n",
              "       0.01213551, 0.00969156, 0.02368111, 0.02123715, 0.01432665,\n",
              "       0.03168717, 0.03623799, 0.0530086 , 0.01854037, 0.02224844,\n",
              "       0.19020732, 0.00994438, 0.01306253, 0.04407551, 0.16922299,\n",
              "       0.02047868, 0.02494522, 0.00893309, 0.0210686 , 0.02949604,\n",
              "       0.10702848, 0.08233609, 0.05848643, 0.14495196, 0.01938311,\n",
              "       0.05107028, 0.01264116, 0.0134839 , 0.03421541, 0.01112422,\n",
              "       0.01769762, 0.41597843, 0.04104163, 0.03674364, 0.01146132,\n",
              "       0.04331704, 0.46173942, 0.03101298, 0.06843081, 0.0214057 ,\n",
              "       0.12691724, 0.1264116 , 0.02646216, 0.01112422, 0.03531097,\n",
              "       0.04230575, 0.0134839 , 0.01761335, 0.01036575, 0.08831957,\n",
              "       0.01525367, 0.02005731, 0.1046688 , 0.16138547, 0.17293106,\n",
              "       0.06236305, 0.20866341, 0.02266981, 0.04474971, 0.01289398,\n",
              "       0.01432665, 0.00775324, 0.01247261, 0.01651778, 0.07904938,\n",
              "       0.05005899, 0.1221136 , 0.04533963, 0.00775324, 0.05284005,\n",
              "       0.08511714, 0.21911343, 0.01205124, 0.2304062 , 0.11098938,\n",
              "       0.18540367, 0.10888252, 0.03413113, 0.03084443, 0.03758638,\n",
              "       0.23183887, 0.05090174, 0.01221979, 0.03404686, 0.06000337,\n",
              "       0.01238834, 0.3847969 , 0.073403  , 0.09893814, 0.03202427,\n",
              "       0.01685488, 0.02233272, 0.02477667, 0.14908141, 0.06607113,\n",
              "       0.04618237, 0.01567504, 0.01854037, 0.04466543, 0.0072476 ,\n",
              "       0.10441598, 0.07820664, 0.02342828, 0.51980448, 0.01407382,\n",
              "       0.01634923, 0.0240182 , 0.02781055, 0.06834654, 0.01736053,\n",
              "       0.09716838, 0.00910163, 0.01398955, 0.01230406, 0.07534131,\n",
              "       0.02637789, 0.02427103, 0.11183213, 0.02679926, 0.07281308,\n",
              "       0.08697118, 0.03539525, 0.05848643, 0.013821  , 0.01533794,\n",
              "       0.01795045, 0.01592786, 0.03219282, 0.5763526 , 0.21843924,\n",
              "       0.02578797, 0.013821  , 0.01002865, 0.07845946, 0.10332041,\n",
              "       0.01028148, 0.11570875, 0.013821  , 0.04719366, 0.01820327,\n",
              "       0.05494691, 0.05578965, 0.41117479])"
            ]
          },
          "metadata": {},
          "execution_count": 40
        }
      ]
    },
    {
      "cell_type": "code",
      "source": [
        "user_means[:, np.newaxis]"
      ],
      "metadata": {
        "id": "csdCmxxP98FI",
        "outputId": "8e671f82-7446-4022-d695-bbff1127b045",
        "colab": {
          "base_uri": "https://localhost:8080/"
        }
      },
      "execution_count": null,
      "outputs": [
        {
          "output_type": "execute_result",
          "data": {
            "text/plain": [
              "array([[0.1398955 ],\n",
              "       [0.0144952 ],\n",
              "       [0.01146132],\n",
              "       [0.09624136],\n",
              "       [0.02174279],\n",
              "       [0.14410922],\n",
              "       [0.06489129],\n",
              "       [0.02275409],\n",
              "       [0.0210686 ],\n",
              "       [0.06480701],\n",
              "       [0.03505815],\n",
              "       [0.01668633],\n",
              "       [0.01786617],\n",
              "       [0.01736053],\n",
              "       [0.05637957],\n",
              "       [0.04963762],\n",
              "       [0.05739086],\n",
              "       [0.25720546],\n",
              "       [0.24827237],\n",
              "       [0.11444463],\n",
              "       [0.19172425],\n",
              "       [0.04618237],\n",
              "       [0.05418844],\n",
              "       [0.05427271],\n",
              "       [0.01693915],\n",
              "       [0.0072476 ],\n",
              "       [0.0628687 ],\n",
              "       [0.23209169],\n",
              "       [0.04719366],\n",
              "       [0.02207989],\n",
              "       [0.02781055],\n",
              "       [0.05241868],\n",
              "       [0.07854374],\n",
              "       [0.03767066],\n",
              "       [0.0141581 ],\n",
              "       [0.02241699],\n",
              "       [0.01129277],\n",
              "       [0.03640654],\n",
              "       [0.05309287],\n",
              "       [0.05494691],\n",
              "       [0.09295466],\n",
              "       [0.21321423],\n",
              "       [0.06219451],\n",
              "       [0.02376538],\n",
              "       [0.20613518],\n",
              "       [0.01870892],\n",
              "       [0.05730659],\n",
              "       [0.01963593],\n",
              "       [0.01289398],\n",
              "       [0.11259059],\n",
              "       [0.174448  ],\n",
              "       [0.07744817],\n",
              "       [0.0134839 ],\n",
              "       [0.01331535],\n",
              "       [0.00834317],\n",
              "       [0.02578797],\n",
              "       [0.21388842],\n",
              "       [0.06135176],\n",
              "       [0.06674532],\n",
              "       [0.01213551],\n",
              "       [0.02081578],\n",
              "       [0.20529243],\n",
              "       [0.1293612 ],\n",
              "       [0.26832968],\n",
              "       [0.02022586],\n",
              "       [0.18970167],\n",
              "       [0.01980448],\n",
              "       [0.55654812],\n",
              "       [0.02646216],\n",
              "       [0.03741783],\n",
              "       [0.0144952 ],\n",
              "       [0.02578797],\n",
              "       [0.09826395],\n",
              "       [0.09919097],\n",
              "       [0.03042306],\n",
              "       [0.04803641],\n",
              "       [0.01651778],\n",
              "       [0.02612506],\n",
              "       [0.03404686],\n",
              "       [0.09683128],\n",
              "       [0.00910163],\n",
              "       [0.10037081],\n",
              "       [0.04989044],\n",
              "       [0.14916568],\n",
              "       [0.01584359],\n",
              "       [0.04087308],\n",
              "       [0.01137704],\n",
              "       [0.03185572],\n",
              "       [0.24591269],\n",
              "       [0.02915894],\n",
              "       [0.261672  ],\n",
              "       [0.01314681],\n",
              "       [0.05747514],\n",
              "       [0.02258554],\n",
              "       [0.09758975],\n",
              "       [0.04483398],\n",
              "       [0.02005731],\n",
              "       [0.05140738],\n",
              "       [0.02393393],\n",
              "       [0.07896511],\n",
              "       [0.03202427],\n",
              "       [0.02528232],\n",
              "       [0.20234283],\n",
              "       [0.12978257],\n",
              "       [0.40729816],\n",
              "       [0.01887747],\n",
              "       [0.02005731],\n",
              "       [0.04196865],\n",
              "       [0.05545255],\n",
              "       [0.02747345],\n",
              "       [0.29142087],\n",
              "       [0.0312658 ],\n",
              "       [0.07719535],\n",
              "       [0.01550649],\n",
              "       [0.05713804],\n",
              "       [0.03809203],\n",
              "       [0.07315018],\n",
              "       [0.01028148],\n",
              "       [0.1260745 ],\n",
              "       [0.01011293],\n",
              "       [0.02578797],\n",
              "       [0.16871734],\n",
              "       [0.03286702],\n",
              "       [0.02772628],\n",
              "       [0.18034721],\n",
              "       [0.01719198],\n",
              "       [0.00884881],\n",
              "       [0.0207315 ],\n",
              "       [0.07652115],\n",
              "       [0.01146132],\n",
              "       [0.03497387],\n",
              "       [0.14410922],\n",
              "       [0.01685488],\n",
              "       [0.01702343],\n",
              "       [0.12995112],\n",
              "       [0.04786786],\n",
              "       [0.07323445],\n",
              "       [0.0101972 ],\n",
              "       [0.05739086],\n",
              "       [0.2827406 ],\n",
              "       [0.08022923],\n",
              "       [0.01972021],\n",
              "       [0.027642  ],\n",
              "       [0.0625316 ],\n",
              "       [0.00825889],\n",
              "       [0.01213551],\n",
              "       [0.00969156],\n",
              "       [0.02368111],\n",
              "       [0.02123715],\n",
              "       [0.01432665],\n",
              "       [0.03168717],\n",
              "       [0.03623799],\n",
              "       [0.0530086 ],\n",
              "       [0.01854037],\n",
              "       [0.02224844],\n",
              "       [0.19020732],\n",
              "       [0.00994438],\n",
              "       [0.01306253],\n",
              "       [0.04407551],\n",
              "       [0.16922299],\n",
              "       [0.02047868],\n",
              "       [0.02494522],\n",
              "       [0.00893309],\n",
              "       [0.0210686 ],\n",
              "       [0.02949604],\n",
              "       [0.10702848],\n",
              "       [0.08233609],\n",
              "       [0.05848643],\n",
              "       [0.14495196],\n",
              "       [0.01938311],\n",
              "       [0.05107028],\n",
              "       [0.01264116],\n",
              "       [0.0134839 ],\n",
              "       [0.03421541],\n",
              "       [0.01112422],\n",
              "       [0.01769762],\n",
              "       [0.41597843],\n",
              "       [0.04104163],\n",
              "       [0.03674364],\n",
              "       [0.01146132],\n",
              "       [0.04331704],\n",
              "       [0.46173942],\n",
              "       [0.03101298],\n",
              "       [0.06843081],\n",
              "       [0.0214057 ],\n",
              "       [0.12691724],\n",
              "       [0.1264116 ],\n",
              "       [0.02646216],\n",
              "       [0.01112422],\n",
              "       [0.03531097],\n",
              "       [0.04230575],\n",
              "       [0.0134839 ],\n",
              "       [0.01761335],\n",
              "       [0.01036575],\n",
              "       [0.08831957],\n",
              "       [0.01525367],\n",
              "       [0.02005731],\n",
              "       [0.1046688 ],\n",
              "       [0.16138547],\n",
              "       [0.17293106],\n",
              "       [0.06236305],\n",
              "       [0.20866341],\n",
              "       [0.02266981],\n",
              "       [0.04474971],\n",
              "       [0.01289398],\n",
              "       [0.01432665],\n",
              "       [0.00775324],\n",
              "       [0.01247261],\n",
              "       [0.01651778],\n",
              "       [0.07904938],\n",
              "       [0.05005899],\n",
              "       [0.1221136 ],\n",
              "       [0.04533963],\n",
              "       [0.00775324],\n",
              "       [0.05284005],\n",
              "       [0.08511714],\n",
              "       [0.21911343],\n",
              "       [0.01205124],\n",
              "       [0.2304062 ],\n",
              "       [0.11098938],\n",
              "       [0.18540367],\n",
              "       [0.10888252],\n",
              "       [0.03413113],\n",
              "       [0.03084443],\n",
              "       [0.03758638],\n",
              "       [0.23183887],\n",
              "       [0.05090174],\n",
              "       [0.01221979],\n",
              "       [0.03404686],\n",
              "       [0.06000337],\n",
              "       [0.01238834],\n",
              "       [0.3847969 ],\n",
              "       [0.073403  ],\n",
              "       [0.09893814],\n",
              "       [0.03202427],\n",
              "       [0.01685488],\n",
              "       [0.02233272],\n",
              "       [0.02477667],\n",
              "       [0.14908141],\n",
              "       [0.06607113],\n",
              "       [0.04618237],\n",
              "       [0.01567504],\n",
              "       [0.01854037],\n",
              "       [0.04466543],\n",
              "       [0.0072476 ],\n",
              "       [0.10441598],\n",
              "       [0.07820664],\n",
              "       [0.02342828],\n",
              "       [0.51980448],\n",
              "       [0.01407382],\n",
              "       [0.01634923],\n",
              "       [0.0240182 ],\n",
              "       [0.02781055],\n",
              "       [0.06834654],\n",
              "       [0.01736053],\n",
              "       [0.09716838],\n",
              "       [0.00910163],\n",
              "       [0.01398955],\n",
              "       [0.01230406],\n",
              "       [0.07534131],\n",
              "       [0.02637789],\n",
              "       [0.02427103],\n",
              "       [0.11183213],\n",
              "       [0.02679926],\n",
              "       [0.07281308],\n",
              "       [0.08697118],\n",
              "       [0.03539525],\n",
              "       [0.05848643],\n",
              "       [0.013821  ],\n",
              "       [0.01533794],\n",
              "       [0.01795045],\n",
              "       [0.01592786],\n",
              "       [0.03219282],\n",
              "       [0.5763526 ],\n",
              "       [0.21843924],\n",
              "       [0.02578797],\n",
              "       [0.013821  ],\n",
              "       [0.01002865],\n",
              "       [0.07845946],\n",
              "       [0.10332041],\n",
              "       [0.01028148],\n",
              "       [0.11570875],\n",
              "       [0.013821  ],\n",
              "       [0.04719366],\n",
              "       [0.01820327],\n",
              "       [0.05494691],\n",
              "       [0.05578965],\n",
              "       [0.41117479]])"
            ]
          },
          "metadata": {},
          "execution_count": 41
        }
      ]
    },
    {
      "cell_type": "code",
      "source": [
        "# Add the mean back to the reconstructed matrix to get the predicted ratings.\n",
        "predicted_ratings = reconstructed_matrix + user_means[:, np.newaxis]\n",
        "\n",
        "# Create a DataFrame for the predicted ratings.\n",
        "predicted_ratings_df = pd.DataFrame(predicted_ratings, index=train_matrix.index, columns=train_matrix.columns)"
      ],
      "metadata": {
        "id": "49Aw9Yug7Fvq"
      },
      "execution_count": null,
      "outputs": []
    },
    {
      "cell_type": "code",
      "source": [
        "predicted_ratings_df.head()"
      ],
      "metadata": {
        "id": "YUdXJrM0wPcY",
        "colab": {
          "base_uri": "https://localhost:8080/",
          "height": 287
        },
        "outputId": "e5b192ad-7978-499b-991e-8ee7676b8058"
      },
      "execution_count": null,
      "outputs": [
        {
          "output_type": "execute_result",
          "data": {
            "text/plain": [
              "movieId    1         2         3         4         5         6         7       \\\n",
              "userId                                                                          \n",
              "1       -1.635024  0.307582 -0.087182  0.090900 -0.309637  4.188578 -0.249808   \n",
              "2        0.330667  0.008335  0.035772 -0.007728  0.035186  0.010707 -0.031774   \n",
              "3       -0.078702  0.063549  0.021703  0.011982  0.035598  0.014389  0.009651   \n",
              "4        1.028966 -0.330814  0.062798  0.634683  0.440936  0.178376  0.241589   \n",
              "5        0.722742  0.609701  0.330811  0.207686  0.588967  0.406240  0.550447   \n",
              "\n",
              "movieId    8         9         10      ...    190183    191005    193565  \\\n",
              "userId                                 ...                                 \n",
              "1        0.271154  0.012300  0.450394  ...  0.060742  0.157769  0.153797   \n",
              "2        0.014894  0.024380 -0.078239  ...  0.028487  0.050573  0.042555   \n",
              "3        0.011584  0.003218  0.050156  ...  0.011740  0.009669  0.010067   \n",
              "4        0.136456 -0.056341 -0.027530  ... -0.035905  0.094338  0.094761   \n",
              "5        0.030777  0.047203  0.589630  ...  0.010017  0.013338  0.015206   \n",
              "\n",
              "movieId    193567    193571    193573    193581    193583    193585    193587  \n",
              "userId                                                                         \n",
              "1        0.151811  0.155783  0.155783  0.155783  0.153797  0.153797  0.153797  \n",
              "2        0.038547  0.046564  0.046564  0.046564  0.042555  0.042555  0.042555  \n",
              "3        0.010266  0.009868  0.009868  0.009868  0.010067  0.010067  0.010067  \n",
              "4        0.094972  0.094549  0.094549  0.094549  0.094761  0.094761  0.094761  \n",
              "5        0.016140  0.014272  0.014272  0.014272  0.015206  0.015206  0.015206  \n",
              "\n",
              "[5 rows x 5933 columns]"
            ],
            "text/html": [
              "\n",
              "  <div id=\"df-dde441c3-9e76-4449-83ec-a84fd15a10f4\" class=\"colab-df-container\">\n",
              "    <div>\n",
              "<style scoped>\n",
              "    .dataframe tbody tr th:only-of-type {\n",
              "        vertical-align: middle;\n",
              "    }\n",
              "\n",
              "    .dataframe tbody tr th {\n",
              "        vertical-align: top;\n",
              "    }\n",
              "\n",
              "    .dataframe thead th {\n",
              "        text-align: right;\n",
              "    }\n",
              "</style>\n",
              "<table border=\"1\" class=\"dataframe\">\n",
              "  <thead>\n",
              "    <tr style=\"text-align: right;\">\n",
              "      <th>movieId</th>\n",
              "      <th>1</th>\n",
              "      <th>2</th>\n",
              "      <th>3</th>\n",
              "      <th>4</th>\n",
              "      <th>5</th>\n",
              "      <th>6</th>\n",
              "      <th>7</th>\n",
              "      <th>8</th>\n",
              "      <th>9</th>\n",
              "      <th>10</th>\n",
              "      <th>...</th>\n",
              "      <th>190183</th>\n",
              "      <th>191005</th>\n",
              "      <th>193565</th>\n",
              "      <th>193567</th>\n",
              "      <th>193571</th>\n",
              "      <th>193573</th>\n",
              "      <th>193581</th>\n",
              "      <th>193583</th>\n",
              "      <th>193585</th>\n",
              "      <th>193587</th>\n",
              "    </tr>\n",
              "    <tr>\n",
              "      <th>userId</th>\n",
              "      <th></th>\n",
              "      <th></th>\n",
              "      <th></th>\n",
              "      <th></th>\n",
              "      <th></th>\n",
              "      <th></th>\n",
              "      <th></th>\n",
              "      <th></th>\n",
              "      <th></th>\n",
              "      <th></th>\n",
              "      <th></th>\n",
              "      <th></th>\n",
              "      <th></th>\n",
              "      <th></th>\n",
              "      <th></th>\n",
              "      <th></th>\n",
              "      <th></th>\n",
              "      <th></th>\n",
              "      <th></th>\n",
              "      <th></th>\n",
              "      <th></th>\n",
              "    </tr>\n",
              "  </thead>\n",
              "  <tbody>\n",
              "    <tr>\n",
              "      <th>1</th>\n",
              "      <td>-1.635024</td>\n",
              "      <td>0.307582</td>\n",
              "      <td>-0.087182</td>\n",
              "      <td>0.090900</td>\n",
              "      <td>-0.309637</td>\n",
              "      <td>4.188578</td>\n",
              "      <td>-0.249808</td>\n",
              "      <td>0.271154</td>\n",
              "      <td>0.012300</td>\n",
              "      <td>0.450394</td>\n",
              "      <td>...</td>\n",
              "      <td>0.060742</td>\n",
              "      <td>0.157769</td>\n",
              "      <td>0.153797</td>\n",
              "      <td>0.151811</td>\n",
              "      <td>0.155783</td>\n",
              "      <td>0.155783</td>\n",
              "      <td>0.155783</td>\n",
              "      <td>0.153797</td>\n",
              "      <td>0.153797</td>\n",
              "      <td>0.153797</td>\n",
              "    </tr>\n",
              "    <tr>\n",
              "      <th>2</th>\n",
              "      <td>0.330667</td>\n",
              "      <td>0.008335</td>\n",
              "      <td>0.035772</td>\n",
              "      <td>-0.007728</td>\n",
              "      <td>0.035186</td>\n",
              "      <td>0.010707</td>\n",
              "      <td>-0.031774</td>\n",
              "      <td>0.014894</td>\n",
              "      <td>0.024380</td>\n",
              "      <td>-0.078239</td>\n",
              "      <td>...</td>\n",
              "      <td>0.028487</td>\n",
              "      <td>0.050573</td>\n",
              "      <td>0.042555</td>\n",
              "      <td>0.038547</td>\n",
              "      <td>0.046564</td>\n",
              "      <td>0.046564</td>\n",
              "      <td>0.046564</td>\n",
              "      <td>0.042555</td>\n",
              "      <td>0.042555</td>\n",
              "      <td>0.042555</td>\n",
              "    </tr>\n",
              "    <tr>\n",
              "      <th>3</th>\n",
              "      <td>-0.078702</td>\n",
              "      <td>0.063549</td>\n",
              "      <td>0.021703</td>\n",
              "      <td>0.011982</td>\n",
              "      <td>0.035598</td>\n",
              "      <td>0.014389</td>\n",
              "      <td>0.009651</td>\n",
              "      <td>0.011584</td>\n",
              "      <td>0.003218</td>\n",
              "      <td>0.050156</td>\n",
              "      <td>...</td>\n",
              "      <td>0.011740</td>\n",
              "      <td>0.009669</td>\n",
              "      <td>0.010067</td>\n",
              "      <td>0.010266</td>\n",
              "      <td>0.009868</td>\n",
              "      <td>0.009868</td>\n",
              "      <td>0.009868</td>\n",
              "      <td>0.010067</td>\n",
              "      <td>0.010067</td>\n",
              "      <td>0.010067</td>\n",
              "    </tr>\n",
              "    <tr>\n",
              "      <th>4</th>\n",
              "      <td>1.028966</td>\n",
              "      <td>-0.330814</td>\n",
              "      <td>0.062798</td>\n",
              "      <td>0.634683</td>\n",
              "      <td>0.440936</td>\n",
              "      <td>0.178376</td>\n",
              "      <td>0.241589</td>\n",
              "      <td>0.136456</td>\n",
              "      <td>-0.056341</td>\n",
              "      <td>-0.027530</td>\n",
              "      <td>...</td>\n",
              "      <td>-0.035905</td>\n",
              "      <td>0.094338</td>\n",
              "      <td>0.094761</td>\n",
              "      <td>0.094972</td>\n",
              "      <td>0.094549</td>\n",
              "      <td>0.094549</td>\n",
              "      <td>0.094549</td>\n",
              "      <td>0.094761</td>\n",
              "      <td>0.094761</td>\n",
              "      <td>0.094761</td>\n",
              "    </tr>\n",
              "    <tr>\n",
              "      <th>5</th>\n",
              "      <td>0.722742</td>\n",
              "      <td>0.609701</td>\n",
              "      <td>0.330811</td>\n",
              "      <td>0.207686</td>\n",
              "      <td>0.588967</td>\n",
              "      <td>0.406240</td>\n",
              "      <td>0.550447</td>\n",
              "      <td>0.030777</td>\n",
              "      <td>0.047203</td>\n",
              "      <td>0.589630</td>\n",
              "      <td>...</td>\n",
              "      <td>0.010017</td>\n",
              "      <td>0.013338</td>\n",
              "      <td>0.015206</td>\n",
              "      <td>0.016140</td>\n",
              "      <td>0.014272</td>\n",
              "      <td>0.014272</td>\n",
              "      <td>0.014272</td>\n",
              "      <td>0.015206</td>\n",
              "      <td>0.015206</td>\n",
              "      <td>0.015206</td>\n",
              "    </tr>\n",
              "  </tbody>\n",
              "</table>\n",
              "<p>5 rows × 5933 columns</p>\n",
              "</div>\n",
              "    <div class=\"colab-df-buttons\">\n",
              "\n",
              "  <div class=\"colab-df-container\">\n",
              "    <button class=\"colab-df-convert\" onclick=\"convertToInteractive('df-dde441c3-9e76-4449-83ec-a84fd15a10f4')\"\n",
              "            title=\"Convert this dataframe to an interactive table.\"\n",
              "            style=\"display:none;\">\n",
              "\n",
              "  <svg xmlns=\"http://www.w3.org/2000/svg\" height=\"24px\" viewBox=\"0 -960 960 960\">\n",
              "    <path d=\"M120-120v-720h720v720H120Zm60-500h600v-160H180v160Zm220 220h160v-160H400v160Zm0 220h160v-160H400v160ZM180-400h160v-160H180v160Zm440 0h160v-160H620v160ZM180-180h160v-160H180v160Zm440 0h160v-160H620v160Z\"/>\n",
              "  </svg>\n",
              "    </button>\n",
              "\n",
              "  <style>\n",
              "    .colab-df-container {\n",
              "      display:flex;\n",
              "      gap: 12px;\n",
              "    }\n",
              "\n",
              "    .colab-df-convert {\n",
              "      background-color: #E8F0FE;\n",
              "      border: none;\n",
              "      border-radius: 50%;\n",
              "      cursor: pointer;\n",
              "      display: none;\n",
              "      fill: #1967D2;\n",
              "      height: 32px;\n",
              "      padding: 0 0 0 0;\n",
              "      width: 32px;\n",
              "    }\n",
              "\n",
              "    .colab-df-convert:hover {\n",
              "      background-color: #E2EBFA;\n",
              "      box-shadow: 0px 1px 2px rgba(60, 64, 67, 0.3), 0px 1px 3px 1px rgba(60, 64, 67, 0.15);\n",
              "      fill: #174EA6;\n",
              "    }\n",
              "\n",
              "    .colab-df-buttons div {\n",
              "      margin-bottom: 4px;\n",
              "    }\n",
              "\n",
              "    [theme=dark] .colab-df-convert {\n",
              "      background-color: #3B4455;\n",
              "      fill: #D2E3FC;\n",
              "    }\n",
              "\n",
              "    [theme=dark] .colab-df-convert:hover {\n",
              "      background-color: #434B5C;\n",
              "      box-shadow: 0px 1px 3px 1px rgba(0, 0, 0, 0.15);\n",
              "      filter: drop-shadow(0px 1px 2px rgba(0, 0, 0, 0.3));\n",
              "      fill: #FFFFFF;\n",
              "    }\n",
              "  </style>\n",
              "\n",
              "    <script>\n",
              "      const buttonEl =\n",
              "        document.querySelector('#df-dde441c3-9e76-4449-83ec-a84fd15a10f4 button.colab-df-convert');\n",
              "      buttonEl.style.display =\n",
              "        google.colab.kernel.accessAllowed ? 'block' : 'none';\n",
              "\n",
              "      async function convertToInteractive(key) {\n",
              "        const element = document.querySelector('#df-dde441c3-9e76-4449-83ec-a84fd15a10f4');\n",
              "        const dataTable =\n",
              "          await google.colab.kernel.invokeFunction('convertToInteractive',\n",
              "                                                    [key], {});\n",
              "        if (!dataTable) return;\n",
              "\n",
              "        const docLinkHtml = 'Like what you see? Visit the ' +\n",
              "          '<a target=\"_blank\" href=https://colab.research.google.com/notebooks/data_table.ipynb>data table notebook</a>'\n",
              "          + ' to learn more about interactive tables.';\n",
              "        element.innerHTML = '';\n",
              "        dataTable['output_type'] = 'display_data';\n",
              "        await google.colab.output.renderOutput(dataTable, element);\n",
              "        const docLink = document.createElement('div');\n",
              "        docLink.innerHTML = docLinkHtml;\n",
              "        element.appendChild(docLink);\n",
              "      }\n",
              "    </script>\n",
              "  </div>\n",
              "\n",
              "\n",
              "<div id=\"df-64841fa6-df25-4e22-a29a-57283175b80f\">\n",
              "  <button class=\"colab-df-quickchart\" onclick=\"quickchart('df-64841fa6-df25-4e22-a29a-57283175b80f')\"\n",
              "            title=\"Suggest charts\"\n",
              "            style=\"display:none;\">\n",
              "\n",
              "<svg xmlns=\"http://www.w3.org/2000/svg\" height=\"24px\"viewBox=\"0 0 24 24\"\n",
              "     width=\"24px\">\n",
              "    <g>\n",
              "        <path d=\"M19 3H5c-1.1 0-2 .9-2 2v14c0 1.1.9 2 2 2h14c1.1 0 2-.9 2-2V5c0-1.1-.9-2-2-2zM9 17H7v-7h2v7zm4 0h-2V7h2v10zm4 0h-2v-4h2v4z\"/>\n",
              "    </g>\n",
              "</svg>\n",
              "  </button>\n",
              "\n",
              "<style>\n",
              "  .colab-df-quickchart {\n",
              "      --bg-color: #E8F0FE;\n",
              "      --fill-color: #1967D2;\n",
              "      --hover-bg-color: #E2EBFA;\n",
              "      --hover-fill-color: #174EA6;\n",
              "      --disabled-fill-color: #AAA;\n",
              "      --disabled-bg-color: #DDD;\n",
              "  }\n",
              "\n",
              "  [theme=dark] .colab-df-quickchart {\n",
              "      --bg-color: #3B4455;\n",
              "      --fill-color: #D2E3FC;\n",
              "      --hover-bg-color: #434B5C;\n",
              "      --hover-fill-color: #FFFFFF;\n",
              "      --disabled-bg-color: #3B4455;\n",
              "      --disabled-fill-color: #666;\n",
              "  }\n",
              "\n",
              "  .colab-df-quickchart {\n",
              "    background-color: var(--bg-color);\n",
              "    border: none;\n",
              "    border-radius: 50%;\n",
              "    cursor: pointer;\n",
              "    display: none;\n",
              "    fill: var(--fill-color);\n",
              "    height: 32px;\n",
              "    padding: 0;\n",
              "    width: 32px;\n",
              "  }\n",
              "\n",
              "  .colab-df-quickchart:hover {\n",
              "    background-color: var(--hover-bg-color);\n",
              "    box-shadow: 0 1px 2px rgba(60, 64, 67, 0.3), 0 1px 3px 1px rgba(60, 64, 67, 0.15);\n",
              "    fill: var(--button-hover-fill-color);\n",
              "  }\n",
              "\n",
              "  .colab-df-quickchart-complete:disabled,\n",
              "  .colab-df-quickchart-complete:disabled:hover {\n",
              "    background-color: var(--disabled-bg-color);\n",
              "    fill: var(--disabled-fill-color);\n",
              "    box-shadow: none;\n",
              "  }\n",
              "\n",
              "  .colab-df-spinner {\n",
              "    border: 2px solid var(--fill-color);\n",
              "    border-color: transparent;\n",
              "    border-bottom-color: var(--fill-color);\n",
              "    animation:\n",
              "      spin 1s steps(1) infinite;\n",
              "  }\n",
              "\n",
              "  @keyframes spin {\n",
              "    0% {\n",
              "      border-color: transparent;\n",
              "      border-bottom-color: var(--fill-color);\n",
              "      border-left-color: var(--fill-color);\n",
              "    }\n",
              "    20% {\n",
              "      border-color: transparent;\n",
              "      border-left-color: var(--fill-color);\n",
              "      border-top-color: var(--fill-color);\n",
              "    }\n",
              "    30% {\n",
              "      border-color: transparent;\n",
              "      border-left-color: var(--fill-color);\n",
              "      border-top-color: var(--fill-color);\n",
              "      border-right-color: var(--fill-color);\n",
              "    }\n",
              "    40% {\n",
              "      border-color: transparent;\n",
              "      border-right-color: var(--fill-color);\n",
              "      border-top-color: var(--fill-color);\n",
              "    }\n",
              "    60% {\n",
              "      border-color: transparent;\n",
              "      border-right-color: var(--fill-color);\n",
              "    }\n",
              "    80% {\n",
              "      border-color: transparent;\n",
              "      border-right-color: var(--fill-color);\n",
              "      border-bottom-color: var(--fill-color);\n",
              "    }\n",
              "    90% {\n",
              "      border-color: transparent;\n",
              "      border-bottom-color: var(--fill-color);\n",
              "    }\n",
              "  }\n",
              "</style>\n",
              "\n",
              "  <script>\n",
              "    async function quickchart(key) {\n",
              "      const quickchartButtonEl =\n",
              "        document.querySelector('#' + key + ' button');\n",
              "      quickchartButtonEl.disabled = true;  // To prevent multiple clicks.\n",
              "      quickchartButtonEl.classList.add('colab-df-spinner');\n",
              "      try {\n",
              "        const charts = await google.colab.kernel.invokeFunction(\n",
              "            'suggestCharts', [key], {});\n",
              "      } catch (error) {\n",
              "        console.error('Error during call to suggestCharts:', error);\n",
              "      }\n",
              "      quickchartButtonEl.classList.remove('colab-df-spinner');\n",
              "      quickchartButtonEl.classList.add('colab-df-quickchart-complete');\n",
              "    }\n",
              "    (() => {\n",
              "      let quickchartButtonEl =\n",
              "        document.querySelector('#df-64841fa6-df25-4e22-a29a-57283175b80f button');\n",
              "      quickchartButtonEl.style.display =\n",
              "        google.colab.kernel.accessAllowed ? 'block' : 'none';\n",
              "    })();\n",
              "  </script>\n",
              "</div>\n",
              "    </div>\n",
              "  </div>\n"
            ]
          },
          "metadata": {},
          "execution_count": 43
        }
      ]
    },
    {
      "cell_type": "markdown",
      "source": [
        "Now, let's work on the function that outputs the top `k` recommendations for a user from the dataset. Don't worry, later in the same notebook we got you a new friend who recommends you a few movies based on your taste."
      ],
      "metadata": {
        "id": "LmUpepsrWWwK"
      }
    },
    {
      "cell_type": "code",
      "source": [
        "# Define a function to recommend movies to a user.\n",
        "\n",
        "def recommend(user_id, num=5):\n",
        "  user_idx = user_movie_matrix.index.get_loc(user_id)\n",
        "  # Get the user's predictions and sort them in descending order.\n",
        "  sorted_predictions = predicted_ratings_df.iloc[user_idx].sort_values(ascending=False).reset_index()\n",
        "  sorted_predictions.columns = ['movieId', 'Predictions']   # Explicitly defining the column names.\n",
        "  # Try commenting out the line above and see what happens! Did you see? Why is it happening? Think!\n",
        "  # Test your debugging skills\n",
        "\n",
        "  # Find out which movies the user has already rated.\n",
        "  user_data = ratings[ratings.userId == user_id]\n",
        "\n",
        "  # Recommend movies the user hasn't rated yet.\n",
        "  recommendations = movies[~movies['movieId'].isin(user_data['movieId'])]\n",
        "  recommendations = recommendations.merge(sorted_predictions, on='movieId')\n",
        "\n",
        "  # Sort the recommendations by the predicted rating.\n",
        "  recommendations = recommendations.sort_values('Predictions', ascending=False).iloc[:num]\n",
        "\n",
        "  return recommendations\n",
        "\n",
        "# Test the recommendation function for a user.\n",
        "recommend(10, 5)"
      ],
      "metadata": {
        "id": "5HlE23Bfz2UK",
        "colab": {
          "base_uri": "https://localhost:8080/",
          "height": 206
        },
        "outputId": "57ba2ee2-a307-4b8f-e6d8-026b081e5681"
      },
      "execution_count": null,
      "outputs": [
        {
          "output_type": "execute_result",
          "data": {
            "text/plain": [
              "      movieId                                              title  \\\n",
              "3158     6539  Pirates of the Caribbean: The Curse of the Bla...   \n",
              "4668    79132                                   Inception (2010)   \n",
              "244       318                   Shawshank Redemption, The (1994)   \n",
              "1086     1721                                     Titanic (1997)   \n",
              "4404    63082                         Slumdog Millionaire (2008)   \n",
              "\n",
              "                                               genres  Predictions  \n",
              "3158                  Action|Adventure|Comedy|Fantasy     1.824642  \n",
              "4668  Action|Crime|Drama|Mystery|Sci-Fi|Thriller|IMAX     1.535875  \n",
              "244                                       Crime|Drama     1.487741  \n",
              "1086                                    Drama|Romance     1.433301  \n",
              "4404                              Crime|Drama|Romance     1.394694  "
            ],
            "text/html": [
              "\n",
              "  <div id=\"df-091c86e8-59c1-4076-9935-fc8a0d8a4921\" class=\"colab-df-container\">\n",
              "    <div>\n",
              "<style scoped>\n",
              "    .dataframe tbody tr th:only-of-type {\n",
              "        vertical-align: middle;\n",
              "    }\n",
              "\n",
              "    .dataframe tbody tr th {\n",
              "        vertical-align: top;\n",
              "    }\n",
              "\n",
              "    .dataframe thead th {\n",
              "        text-align: right;\n",
              "    }\n",
              "</style>\n",
              "<table border=\"1\" class=\"dataframe\">\n",
              "  <thead>\n",
              "    <tr style=\"text-align: right;\">\n",
              "      <th></th>\n",
              "      <th>movieId</th>\n",
              "      <th>title</th>\n",
              "      <th>genres</th>\n",
              "      <th>Predictions</th>\n",
              "    </tr>\n",
              "  </thead>\n",
              "  <tbody>\n",
              "    <tr>\n",
              "      <th>3158</th>\n",
              "      <td>6539</td>\n",
              "      <td>Pirates of the Caribbean: The Curse of the Bla...</td>\n",
              "      <td>Action|Adventure|Comedy|Fantasy</td>\n",
              "      <td>1.824642</td>\n",
              "    </tr>\n",
              "    <tr>\n",
              "      <th>4668</th>\n",
              "      <td>79132</td>\n",
              "      <td>Inception (2010)</td>\n",
              "      <td>Action|Crime|Drama|Mystery|Sci-Fi|Thriller|IMAX</td>\n",
              "      <td>1.535875</td>\n",
              "    </tr>\n",
              "    <tr>\n",
              "      <th>244</th>\n",
              "      <td>318</td>\n",
              "      <td>Shawshank Redemption, The (1994)</td>\n",
              "      <td>Crime|Drama</td>\n",
              "      <td>1.487741</td>\n",
              "    </tr>\n",
              "    <tr>\n",
              "      <th>1086</th>\n",
              "      <td>1721</td>\n",
              "      <td>Titanic (1997)</td>\n",
              "      <td>Drama|Romance</td>\n",
              "      <td>1.433301</td>\n",
              "    </tr>\n",
              "    <tr>\n",
              "      <th>4404</th>\n",
              "      <td>63082</td>\n",
              "      <td>Slumdog Millionaire (2008)</td>\n",
              "      <td>Crime|Drama|Romance</td>\n",
              "      <td>1.394694</td>\n",
              "    </tr>\n",
              "  </tbody>\n",
              "</table>\n",
              "</div>\n",
              "    <div class=\"colab-df-buttons\">\n",
              "\n",
              "  <div class=\"colab-df-container\">\n",
              "    <button class=\"colab-df-convert\" onclick=\"convertToInteractive('df-091c86e8-59c1-4076-9935-fc8a0d8a4921')\"\n",
              "            title=\"Convert this dataframe to an interactive table.\"\n",
              "            style=\"display:none;\">\n",
              "\n",
              "  <svg xmlns=\"http://www.w3.org/2000/svg\" height=\"24px\" viewBox=\"0 -960 960 960\">\n",
              "    <path d=\"M120-120v-720h720v720H120Zm60-500h600v-160H180v160Zm220 220h160v-160H400v160Zm0 220h160v-160H400v160ZM180-400h160v-160H180v160Zm440 0h160v-160H620v160ZM180-180h160v-160H180v160Zm440 0h160v-160H620v160Z\"/>\n",
              "  </svg>\n",
              "    </button>\n",
              "\n",
              "  <style>\n",
              "    .colab-df-container {\n",
              "      display:flex;\n",
              "      gap: 12px;\n",
              "    }\n",
              "\n",
              "    .colab-df-convert {\n",
              "      background-color: #E8F0FE;\n",
              "      border: none;\n",
              "      border-radius: 50%;\n",
              "      cursor: pointer;\n",
              "      display: none;\n",
              "      fill: #1967D2;\n",
              "      height: 32px;\n",
              "      padding: 0 0 0 0;\n",
              "      width: 32px;\n",
              "    }\n",
              "\n",
              "    .colab-df-convert:hover {\n",
              "      background-color: #E2EBFA;\n",
              "      box-shadow: 0px 1px 2px rgba(60, 64, 67, 0.3), 0px 1px 3px 1px rgba(60, 64, 67, 0.15);\n",
              "      fill: #174EA6;\n",
              "    }\n",
              "\n",
              "    .colab-df-buttons div {\n",
              "      margin-bottom: 4px;\n",
              "    }\n",
              "\n",
              "    [theme=dark] .colab-df-convert {\n",
              "      background-color: #3B4455;\n",
              "      fill: #D2E3FC;\n",
              "    }\n",
              "\n",
              "    [theme=dark] .colab-df-convert:hover {\n",
              "      background-color: #434B5C;\n",
              "      box-shadow: 0px 1px 3px 1px rgba(0, 0, 0, 0.15);\n",
              "      filter: drop-shadow(0px 1px 2px rgba(0, 0, 0, 0.3));\n",
              "      fill: #FFFFFF;\n",
              "    }\n",
              "  </style>\n",
              "\n",
              "    <script>\n",
              "      const buttonEl =\n",
              "        document.querySelector('#df-091c86e8-59c1-4076-9935-fc8a0d8a4921 button.colab-df-convert');\n",
              "      buttonEl.style.display =\n",
              "        google.colab.kernel.accessAllowed ? 'block' : 'none';\n",
              "\n",
              "      async function convertToInteractive(key) {\n",
              "        const element = document.querySelector('#df-091c86e8-59c1-4076-9935-fc8a0d8a4921');\n",
              "        const dataTable =\n",
              "          await google.colab.kernel.invokeFunction('convertToInteractive',\n",
              "                                                    [key], {});\n",
              "        if (!dataTable) return;\n",
              "\n",
              "        const docLinkHtml = 'Like what you see? Visit the ' +\n",
              "          '<a target=\"_blank\" href=https://colab.research.google.com/notebooks/data_table.ipynb>data table notebook</a>'\n",
              "          + ' to learn more about interactive tables.';\n",
              "        element.innerHTML = '';\n",
              "        dataTable['output_type'] = 'display_data';\n",
              "        await google.colab.output.renderOutput(dataTable, element);\n",
              "        const docLink = document.createElement('div');\n",
              "        docLink.innerHTML = docLinkHtml;\n",
              "        element.appendChild(docLink);\n",
              "      }\n",
              "    </script>\n",
              "  </div>\n",
              "\n",
              "\n",
              "<div id=\"df-7b946390-6d4b-40d9-878d-71c248c33acf\">\n",
              "  <button class=\"colab-df-quickchart\" onclick=\"quickchart('df-7b946390-6d4b-40d9-878d-71c248c33acf')\"\n",
              "            title=\"Suggest charts\"\n",
              "            style=\"display:none;\">\n",
              "\n",
              "<svg xmlns=\"http://www.w3.org/2000/svg\" height=\"24px\"viewBox=\"0 0 24 24\"\n",
              "     width=\"24px\">\n",
              "    <g>\n",
              "        <path d=\"M19 3H5c-1.1 0-2 .9-2 2v14c0 1.1.9 2 2 2h14c1.1 0 2-.9 2-2V5c0-1.1-.9-2-2-2zM9 17H7v-7h2v7zm4 0h-2V7h2v10zm4 0h-2v-4h2v4z\"/>\n",
              "    </g>\n",
              "</svg>\n",
              "  </button>\n",
              "\n",
              "<style>\n",
              "  .colab-df-quickchart {\n",
              "      --bg-color: #E8F0FE;\n",
              "      --fill-color: #1967D2;\n",
              "      --hover-bg-color: #E2EBFA;\n",
              "      --hover-fill-color: #174EA6;\n",
              "      --disabled-fill-color: #AAA;\n",
              "      --disabled-bg-color: #DDD;\n",
              "  }\n",
              "\n",
              "  [theme=dark] .colab-df-quickchart {\n",
              "      --bg-color: #3B4455;\n",
              "      --fill-color: #D2E3FC;\n",
              "      --hover-bg-color: #434B5C;\n",
              "      --hover-fill-color: #FFFFFF;\n",
              "      --disabled-bg-color: #3B4455;\n",
              "      --disabled-fill-color: #666;\n",
              "  }\n",
              "\n",
              "  .colab-df-quickchart {\n",
              "    background-color: var(--bg-color);\n",
              "    border: none;\n",
              "    border-radius: 50%;\n",
              "    cursor: pointer;\n",
              "    display: none;\n",
              "    fill: var(--fill-color);\n",
              "    height: 32px;\n",
              "    padding: 0;\n",
              "    width: 32px;\n",
              "  }\n",
              "\n",
              "  .colab-df-quickchart:hover {\n",
              "    background-color: var(--hover-bg-color);\n",
              "    box-shadow: 0 1px 2px rgba(60, 64, 67, 0.3), 0 1px 3px 1px rgba(60, 64, 67, 0.15);\n",
              "    fill: var(--button-hover-fill-color);\n",
              "  }\n",
              "\n",
              "  .colab-df-quickchart-complete:disabled,\n",
              "  .colab-df-quickchart-complete:disabled:hover {\n",
              "    background-color: var(--disabled-bg-color);\n",
              "    fill: var(--disabled-fill-color);\n",
              "    box-shadow: none;\n",
              "  }\n",
              "\n",
              "  .colab-df-spinner {\n",
              "    border: 2px solid var(--fill-color);\n",
              "    border-color: transparent;\n",
              "    border-bottom-color: var(--fill-color);\n",
              "    animation:\n",
              "      spin 1s steps(1) infinite;\n",
              "  }\n",
              "\n",
              "  @keyframes spin {\n",
              "    0% {\n",
              "      border-color: transparent;\n",
              "      border-bottom-color: var(--fill-color);\n",
              "      border-left-color: var(--fill-color);\n",
              "    }\n",
              "    20% {\n",
              "      border-color: transparent;\n",
              "      border-left-color: var(--fill-color);\n",
              "      border-top-color: var(--fill-color);\n",
              "    }\n",
              "    30% {\n",
              "      border-color: transparent;\n",
              "      border-left-color: var(--fill-color);\n",
              "      border-top-color: var(--fill-color);\n",
              "      border-right-color: var(--fill-color);\n",
              "    }\n",
              "    40% {\n",
              "      border-color: transparent;\n",
              "      border-right-color: var(--fill-color);\n",
              "      border-top-color: var(--fill-color);\n",
              "    }\n",
              "    60% {\n",
              "      border-color: transparent;\n",
              "      border-right-color: var(--fill-color);\n",
              "    }\n",
              "    80% {\n",
              "      border-color: transparent;\n",
              "      border-right-color: var(--fill-color);\n",
              "      border-bottom-color: var(--fill-color);\n",
              "    }\n",
              "    90% {\n",
              "      border-color: transparent;\n",
              "      border-bottom-color: var(--fill-color);\n",
              "    }\n",
              "  }\n",
              "</style>\n",
              "\n",
              "  <script>\n",
              "    async function quickchart(key) {\n",
              "      const quickchartButtonEl =\n",
              "        document.querySelector('#' + key + ' button');\n",
              "      quickchartButtonEl.disabled = true;  // To prevent multiple clicks.\n",
              "      quickchartButtonEl.classList.add('colab-df-spinner');\n",
              "      try {\n",
              "        const charts = await google.colab.kernel.invokeFunction(\n",
              "            'suggestCharts', [key], {});\n",
              "      } catch (error) {\n",
              "        console.error('Error during call to suggestCharts:', error);\n",
              "      }\n",
              "      quickchartButtonEl.classList.remove('colab-df-spinner');\n",
              "      quickchartButtonEl.classList.add('colab-df-quickchart-complete');\n",
              "    }\n",
              "    (() => {\n",
              "      let quickchartButtonEl =\n",
              "        document.querySelector('#df-7b946390-6d4b-40d9-878d-71c248c33acf button');\n",
              "      quickchartButtonEl.style.display =\n",
              "        google.colab.kernel.accessAllowed ? 'block' : 'none';\n",
              "    })();\n",
              "  </script>\n",
              "</div>\n",
              "    </div>\n",
              "  </div>\n"
            ]
          },
          "metadata": {},
          "execution_count": 44
        }
      ]
    },
    {
      "cell_type": "markdown",
      "source": [
        "Think of the `recommend` function as a user's personal festival assistant, who gives a customized playlist for the user. It's like having a quick chat where you mention your favorite movies, and then the assistant compiles a list of films you're likely to enjoy based on what other like-minded people have enjoyed."
      ],
      "metadata": {
        "id": "90BPGWYEavgw"
      }
    },
    {
      "cell_type": "markdown",
      "source": [
        "When you ask for a recommendation, the system looks into the festival's database, filtering through rows and columns of other users' ratings, considering which films stand out as must-sees for someone with a taste similar to you."
      ],
      "metadata": {
        "id": "3iBhOIhEeVRT"
      }
    },
    {
      "cell_type": "markdown",
      "source": [
        "Imagine standing in front of a grand billboard, with the top movies recommended just for you. Each title is with a score that reflects how well it's expected to stand with your preferences. That's what our `visualize_recommendations` does."
      ],
      "metadata": {
        "id": "9y89eQaneooJ"
      }
    },
    {
      "cell_type": "code",
      "source": [
        "def visualize_recommendations(user_id, k=10):\n",
        "  # This is like shining a spotlight on users top movie picks.\n",
        "  recommendations = recommend(user_id, k)\n",
        "\n",
        "  # Here, we're painting the billboard with the names and scores of users recommendations.\n",
        "  plt.barh(recommendations['title'], recommendations['Predictions'])\n",
        "  plt.xlabel('Prediction Score')\n",
        "  plt.ylabel('Movies')\n",
        "  plt.title(f\"Top {k} movie recommendations for user {user_id}\")\n",
        "\n",
        "  # And we make sure to present them in the descending order.\n",
        "  plt.gca().invert_yaxis()\n",
        "  plt.show()"
      ],
      "metadata": {
        "id": "tu1KniQH8IhT"
      },
      "execution_count": null,
      "outputs": []
    },
    {
      "cell_type": "markdown",
      "source": [
        "This visual display isn't just a fancy thing to do; it's a clear and impactful way to see which films the algorithm predicts you'll love the most."
      ],
      "metadata": {
        "id": "1NMgmVucfhzz"
      }
    },
    {
      "cell_type": "markdown",
      "source": [
        "## Evaluation"
      ],
      "metadata": {
        "id": "HULYLnUu5uZV"
      }
    },
    {
      "cell_type": "markdown",
      "source": [
        "There are several metrics to evaluate the performance of a recommender system:\n",
        "1. RMSE: Root Mean Square Error\n",
        "2. Precision\n",
        "3. Recall\n",
        "4. F1 Score\n",
        "5. NDCG: Normalized Discounted Cumulative Gain"
      ],
      "metadata": {
        "id": "QK44Ob7J5z4w"
      }
    },
    {
      "cell_type": "markdown",
      "source": [
        "When we measure the success of a film, we don't just count the number of sold-out screenings; we look at various aspects that tell us how much the audience enjoyed the film. Each metric we use is like a different critic's review, giving us insights from one's own perspective."
      ],
      "metadata": {
        "id": "ZQsELpvylYFm"
      }
    },
    {
      "cell_type": "markdown",
      "source": [
        "### Root Mean Square Error\n",
        "\n",
        "Imagine if every person walked out of each movie at the festival and rated their satisfaction on a scale. RMSE would be like calculating the average discrepancy between the satisfaction we predicted they would have and the actual ratings they gave after walking out. A lower RMSE means our predictions were close to the real experience."
      ],
      "metadata": {
        "id": "bZvcKD-glsjm"
      }
    },
    {
      "cell_type": "code",
      "source": [
        "from sklearn.metrics import mean_squared_error\n",
        "def rmse(predicted, actual):\n",
        "  # We obtain the predicted ratings matrix values.\n",
        "  predicted = predicted[actual.nonzero()].flatten()  # Ignore zero terms.\n",
        "  # And the actual ratings from the data.\n",
        "  actual = actual[actual.nonzero()].flatten()\n",
        "\n",
        "  # RMSE: Like an accuracy gauge, it tells us how far our movie predictions were from the audience's true ratings.\n",
        "  rmse_ = np.sqrt(mean_squared_error(predicted, actual))\n",
        "  return rmse_\n",
        "\n",
        "train_rmse = rmse(predicted_ratings, train_matrix_csr.toarray())\n",
        "test_rmse = rmse(predicted_ratings, test_matrix_csr.toarray())\n",
        "print(f\"Train RMSE: {train_rmse:.4f}\")\n",
        "print(f\"Test RMSE: {test_rmse:.4f}\")"
      ],
      "metadata": {
        "id": "hMc56slB5PhY",
        "colab": {
          "base_uri": "https://localhost:8080/"
        },
        "outputId": "591312e9-81de-4989-a887-df5d36d16927"
      },
      "execution_count": null,
      "outputs": [
        {
          "output_type": "stream",
          "name": "stdout",
          "text": [
            "Train RMSE: 1.8341\n",
            "Test RMSE: 3.3961\n"
          ]
        }
      ]
    },
    {
      "cell_type": "markdown",
      "source": [
        "### Precision and Recall"
      ],
      "metadata": {
        "id": "eNRRvTssmVvS"
      }
    },
    {
      "cell_type": "markdown",
      "source": [
        "* Precision: Out of the top 'k' recommendations, how many were relevant?\n",
        "* Recall: Out of all the relevant items, how many were found in the top 'k' recommendations?"
      ],
      "metadata": {
        "id": "LpENCBai6K83"
      }
    },
    {
      "cell_type": "markdown",
      "source": [
        "`Precision` would be like looking at the most promoted and hyped-up films of the festival and checking how many lived up to the hype (Liger is an exception!).\n",
        "\n",
        "`Recall`, on the other hand, is like making sure all the hidden gems of the festival were included in those top picks."
      ],
      "metadata": {
        "id": "jmQAwJ-JoAa5"
      }
    },
    {
      "cell_type": "code",
      "source": [
        "# Define a function for precision and recall.\n",
        "def precision_recall(predicted, actual, k=10):\n",
        "  # Lists to store precision and recall values for each user\n",
        "  precision_list = []\n",
        "  recall_list = []\n",
        "\n",
        "  # Loop through each user to calculate their precision and recall\n",
        "  for user_id in range(actual.shape[0]):\n",
        "\n",
        "    # For each user, get their predicted ratings and sort them\n",
        "    user_pred = predicted[user_id, :]\n",
        "    user_actual = actual[user_id, :]\n",
        "\n",
        "    # Select the top 'k' items from their predicted ratings\n",
        "    top_k_pred = user_pred.argsort()[::-1][:k]\n",
        "\n",
        "    # Find which items the user has actually rated (their actual ratings)\n",
        "    actual_rated = user_actual.nonzero()[0]\n",
        "\n",
        "    # Calculate precision: how many of the top 'k' recommended items are relevant (i.e., actually rated by the user)\n",
        "    precision = sum(map(lambda x: x in actual_rated, top_k_pred)) / k\n",
        "\n",
        "    # Calculate recall: how many of the relevant items are in the top 'k' recommendations\n",
        "    recall = sum(map(lambda x: x in top_k_pred, actual_rated)) / len(actual_rated)\n",
        "\n",
        "    # Append the precision and recall for this user to our lists\n",
        "    precision_list.append(precision)\n",
        "    recall_list.append(recall)\n",
        "\n",
        "    # Return the average precision and recall across all users\n",
        "    return np.mean(precision_list), np.mean(recall_list)\n",
        "\n",
        "\n",
        "train_precision, train_recall = precision_recall(predicted_ratings, train_matrix_csr.toarray(), k=10)\n",
        "test_precision, test_recall = precision_recall(predicted_ratings, test_matrix_csr.toarray(), k=10)\n",
        "print(f\"Train Precision: {train_precision:.4f}\")\n",
        "print(f\"Test Precision: {test_precision:.4f}\")\n",
        "print(f\"Train Recall: {train_recall:.4f}\")\n",
        "print(f\"Test Recall: {test_recall:.4f}\")"
      ],
      "metadata": {
        "id": "gFdQPPuP6AGy",
        "colab": {
          "base_uri": "https://localhost:8080/"
        },
        "outputId": "12653ebe-a40a-45d8-8e6c-e4b9d13322b5"
      },
      "execution_count": null,
      "outputs": [
        {
          "output_type": "stream",
          "name": "stdout",
          "text": [
            "Train Precision: 1.0000\n",
            "Test Precision: 0.1000\n",
            "Train Recall: 0.0524\n",
            "Test Recall: 0.0244\n"
          ]
        }
      ]
    },
    {
      "cell_type": "markdown",
      "source": [
        "### F1-score\n",
        "\n"
      ],
      "metadata": {
        "id": "Ym0T1QMfveat"
      }
    },
    {
      "cell_type": "markdown",
      "source": [
        "F1 score is the harmonic mean of precision and recall and a better one to consider, than any other metric, when we have an imbalanced dataset. It is a trade-off between Precision and Recall."
      ],
      "metadata": {
        "id": "SCEKSUsnvnVJ"
      }
    },
    {
      "cell_type": "markdown",
      "source": [
        "The F1 Score combines precision and recall into a single number, like an overall star rating for the festival's recommendation system — balancing the hype against the hidden gems."
      ],
      "metadata": {
        "id": "SmfTw-mNvmIe"
      }
    },
    {
      "cell_type": "code",
      "source": [
        "def f1_score(precision, recall):\n",
        "  if precision + recall == 0:\n",
        "    return 0\n",
        "  return 2 * (precision * recall) / (precision + recall)\n",
        "\n",
        "train_f1 = f1_score(train_precision, train_recall)\n",
        "test_f1 = f1_score(test_precision, test_recall)\n",
        "print(f\"Train F1: {train_f1:.4f}\")\n",
        "print(f\"Test F1: {test_f1:.4f}\")"
      ],
      "metadata": {
        "id": "dfVjJ-hw6eSI",
        "colab": {
          "base_uri": "https://localhost:8080/"
        },
        "outputId": "c43c1daa-1c9b-4cae-8d97-450f75140d15"
      },
      "execution_count": null,
      "outputs": [
        {
          "output_type": "stream",
          "name": "stdout",
          "text": [
            "Train F1: 0.0995\n",
            "Test F1: 0.0392\n"
          ]
        }
      ]
    },
    {
      "cell_type": "markdown",
      "source": [
        "### Normalized Discounted Cumulative Gain (NDCG)"
      ],
      "metadata": {
        "id": "g8Tk1g33wvxG"
      }
    },
    {
      "cell_type": "markdown",
      "source": [
        "NDCG is like giving each film, at the festival, points based on how highly it's rated, but with a twist: points are higher for movies that are watched and rated highly earlier in the festival. This kinda ensures a strong opening lineup for the festival."
      ],
      "metadata": {
        "id": "idS6ADtGw0EV"
      }
    },
    {
      "cell_type": "markdown",
      "source": [
        "Normalized Discounted Cumulative Gain (NDCG) penalizes wrong recommendations that appear earlier in the list more than those that appear later."
      ],
      "metadata": {
        "id": "XAQGLfkn7GZI"
      }
    },
    {
      "cell_type": "markdown",
      "source": [
        "![image.png](data:image/png;base64,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)"
      ],
      "metadata": {
        "id": "N9BgX2mtiq3s"
      }
    },
    {
      "cell_type": "markdown",
      "source": [
        "![image.png](data:image/png;base64,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)"
      ],
      "metadata": {
        "id": "0vlY4ItljRAb"
      }
    },
    {
      "cell_type": "markdown",
      "source": [
        "![image.png](data:image/png;base64,iVBORw0KGgoAAAANSUhEUgAAAR4AAAA+CAYAAAD9EnRUAAAAAXNSR0IArs4c6QAAAARnQU1BAACxjwv8YQUAAAAJcEhZcwAAEnQAABJ0Ad5mH3gAAABfaVRYdFNuaXBNZXRhZGF0YQAAAAAAeyJjbGlwUG9pbnRzIjpbeyJ4IjowLCJ5IjowfSx7IngiOjI4NiwieSI6MH0seyJ4IjoyODYsInkiOjYzfSx7IngiOjAsInkiOjYzfV19404KuQAAHGdJREFUeF7tnQV4VFcThgeHAoXgGkJwCAQLWty9uBWKFncvLT9UgCItVqBoseJQrBQpxd3dgxOCWwiEhP98s/ckN8vK3U12gXJenn1YSXZv9p77nZk5M3NiFPYr94YUCoXCjcTU/lcoFAq3oYRHoVC4HSU8CoXC7SjhUSgUbkcJj0KhcDtKeBQKhdtRy+kKxXtGihTJKU+e3BQ7dix+fP/efTp67ATfB56eGalYUT9as3Y9vXjxQnvWMvl981Jy8X7g9etQOnXqNN0T7yepUqUivQgKou07dmvPuAclPAqFHXLlzEG9enellClSaM9Y59WrELp58xZt376T/ly1VnvWPgkSJKC6n9ekylUqUaqUKShmzJgUGhoqxOI1xYkThwICAmj6jDn83n16d6c4ceNQ5849td+OTL58PtSwQT3yyZubEsSPT2/evBHH9UoIWWx+z3+2bKVp02ZTvXp1qHat6rR6zTpasGCx9tvuQQmPQmEHCE/lyhUofoL45CMskZRCGCAIJ06cogcPHmo/RZQocULyzOhJqVOnpBgxYtC5cxfot99m0pmz57SfsExVITaNG9enNGlSU3BwMB06dIQ2bNxMBw4c5tcLFypArVu3pKRJk4jPe0BZs2YRwraLRowcw69LYCm1b9eKihcvymJ1/cYN2rJlG23e/C9bORC3Vq2+oArly5K/vz95e3tTSEgI/TJuEu3bd0B7F/eghEehMAgu3AnjR1PGjBno3v37NGb0uEgukOTzOjXpiy+aUqJECenChYvUf8C3Vl2iTp3aU7WqFYVQxGU3aObMuRaFCuI3YEBvFidYVYuXLItkpcDK6dL5K3bDnj17TitXrqI/Fi7VXo0Mfq5GjapsVfn7X6FOViwnV6KCywqFQfwKFxBWR1K+H3jnrkXRAXCxYLHAKsqc2YuaNm2gvRKZHj06U/VqVYQLFIf+3bqdvh3yg1XrCM8fE58HtykoKIguXrysvSKOy68g9RTvlSmTJ92//4B+/mWiVdEBu3btoQcPTZbatWs3+H93o4RHoTBIJi8viq/FTK5evaY9a5lDhw7TkydPOK7ikyeP9mwEXzRvwi5PnDix6bhw2SZOnGo3UHxPiAoCxA+FaEjXKH36dNS6VQtKly4dPX8eRIsWLaU9e/bxa9aAYAaJn4XldO36de1Z96KER6EwSAZxkUMoXr58Rf5XrmjPWubMmfMsBCBVqpQcG5JgpQmrSXHjxqVHjx7T6tXr7IoOCAwMpNehryNZKY0a1iMvr0wshgcPHaG16/7WXrHNw4eP37Kc3IkSHoXCAIjveHl58v1nz57R5Uu2hSdZMg+KFcu0HE4xKHxpHFSrXpUDwRCLo0eP0+7de7VXbJMqVSoKFRaPFIsSJYpR0aJ+HKt5/PgJbdu2g583godHEg44uzuoLHFpcBknq1Ch/BQvXjztmcg8ffKM9h84qD2yjD4PwRrmeQ7mIOCWxTszxYzluM6GhYbRpcv+YpaJXpMU3021qpXps8+KU4YM6TkQiQEEMCAxkA4ePEy/z5kfnneB3+nWrSN/J+MnTDE8aKpWrUSlSpUU34EXJU6cOPyCwOcgEHn6zBlatHBZpPhC2zYtxaxcieYvWChm5L+0Zz9ecIH36tmVV5ZOnz5LvfsM1F6xTMGCvtS3Tw8hQMkiBaIRj8FyOGJFT58+o8mTp3F8xwgYx16ZMorzdY7HxMABfahMmc94BQ0CNnDQEO0n7VPEr7BwtV7avG5ciUuFp1Kl8tSpY3v65JME2jORgZk5YeIUm4r/89iRlDt3Tu2RZexF5of+72sqVqyI9shxcIE+evSI9ooLHSsJ+gQsR8FM17JFM17yTJw4kfasKf8DMYEnT59SgvgJKHnyZMIUj8OfNWv2PPbbITply5TiXI7uPfrZNM8hUk0aN6DKlcvzIMfgBMjjeCo+48HDRxRPmPo4HkwMuAiWLFlBS5etYNGpU6cmz+xjxo6nw4eP8e9+zLQQ5wxuDSyXv//eJIR/svaKZWrXrk5tWn9J8ePHo1u3btO3Q77n86ZfUUKcqGevAYbcLHOyZ89KX3/dn9KkTkUhIa9pydIVNG/eH9qr7z+x0qXPPFS7H+1gFo8RMwZdu3qdE6BwoSE4J2FLSMjezl17tGfexiNZUvZFMUsnTCjeT7uA4D9fEX42AnM7d+6mCxcu8fOWSJjwE57ZIVDPg55TcjELSesCz8OyOH/+Ir8ub1evXaOQV6/ExR+PfXFcyNmyZmEBC7x7j27cuMm/7wj16tahfv16Up48ucTfHpcHDKyNhQuX0vc/jKQVK1fTOuGjr1q1ljZt3sLiky1bVh5kOXNkY6sFx33mzFnOzbBG+fJl6etBfXmWxnFDOP2vXKWlS1fS8BGjadGiZfw5iC2sWrXO9Ldly0K5cuUkz4zp2dLB33zz5m2aOWuu9q4fNzWqVyFvYTEivvPv1m2co2MLrFblEOcM4/XSJX9aKc4tqF+vDqVNm4bvY5XKqLVjTv78+ah0qRKcr4PrY+PGTWLMvptAsTO4LY8H0ffvv/uW8xBwMqSA3Llzl0aOHGM3yQr8NPIH8vX1oVOnzvCM44z78+WXzalB/bocJAR79+6nocOG831L4KJEhidyM6SFAitk/IRfwxO87IH36NWrG5UsUZQFFEKAwfj77/M4IGgLmOvly5cJF0qI1bLlK2nOnAX82ByZFwLBxOcEBNyhxYuX098bNmk/YZlWX34h/s7aLDgSiN/YsRO0Rx8vOH/jfvmJl6tx7keOHEsnT53WXrXMpIk/U9as3rykvmLlKpo1ax4/P+23iewy2TuP9pAWGMax3qL6UHBbcFnGF/Dl4IuSJE/uQcVLGHOD8CXDJTl85KjTMZd0adOGiw5O/qXLtoOEMIMXLFjEIgHrCEh3CQPSHhhk3333DZX6rDiLDj5z48Z/qF//wXZFB8AyuXs3wrVDZqv/ZX/tUQQ4lm8G96daNaux6ISFhQlL7gh/jj3RAYuXLKfr1yNWS+D/X7v6bnI83jeQnJckSRK+Hxh4167olCtbmlILFwhAqPbs3s/39cDlxbK4UerUriEm7iFs/ZoTFPTCqugMGtiX/l7/p8XbmtXLeCJ+F7hNeLLnyM6xnsviQj967DhfGAB5DoUKFrB7EWM5EsuSUV0ChOUlef78uXCxbJvMknV/baBt23eEHzdmP/jxtsDf1KljOz52WHiol/nzz9Wcom7Ur4cleFZnDSLWdEAIijmIHWCVA5YRjnHrth3sVhmNR+F4jhw9zhcEgMheumzdff2YyJ49G7v5sCDt5e8AuLgIM8Da2bV7byRrXn6/b8Q/uG1GQUzQwyMphwTMkcv2lli+4k8aPWYc3+ApABzX+vUb6adRYzmu9y5wm/AgByIs7A3dEMoM9waBVEk68VqFCmW1R5bxzuIlTmaiSMlTjoIBAWtF8vjxYzp+/KT2yD7HxIUpTzJcksKFC/J9a0AMfH3zsuhADFBf40zM5Nbt22wpAcxs5qIFN6l0aVP8BxhNSDMHFs+rkBC+/+DBIxVU1oC1bjR/p0yZUlSoUAG+j1qu+fMX8X3JnTuB/H/sWLF5edwIWJVErs6+/RErwDdwrsREBrA0bg0I1T//bKXdu/exGIIXL4LpiPAadu7c4/AYiS7cIjywMuBySAsDsZFzOuVGBa2fXyHtkWUyZsggLvY4UUrx9syYUVhdEcHtK1euOfTFwy3DipAkbZo0kRLD9JiLAS5qrDw4Q9DzF2K2DbXoGiLoWZPdK1NsBinzy5evdGpAoT3Ca/EZphjUu0kse9+A1SqDwc+eP+OFEmvAJWvevBHHAhHMnzJ1xlvnAdYPBANChhiQPXDd1BZu1hVhaS1btlJ7lniFFQs2wMPDg907W6DcA0v7AIWmlqxmd+IW4ZHxHb21cuDAIXoRHMz3QQ7huyLHwRqenp7CRAyJkpvlmQniZcopwkUM68sRYG3ATJVgUKJS2Rzk2cCCk2IQHPySTVtn41JPnj6hUGEtIr5zVTfjQtCxNCtnMlhVSE0wGvQ255mYGEJCXvHtxo0PJ1DpSvQXrK36LFSY9+/XiydITK4TJ0yxeL6REyXdtTy5c/HEYQ2IDlIo4seL+9Zkgvt79uxnEcP5R/W8rXCFb/58vLoLHJ1wXYFbhEfGd/TWCsy/W7oL/9NPP7Waa4OAWuo0qSgoKDhKtSWZvby0e47Fd6wRM2YMi0mJMjNVAuthw8Z/tEeOA5Mcprn5TFVdDFoMTgkCn2iD4CyYOTF4nzx9RhcuRO27+ZDBd4DETkweFSqWC79gEV/j57Qbyh569uxCM2dMpu7dO4kxnJiXxwcMHGJ1lRYX/Nx5f/BqLgSjZcvmvDplDqzYYUMH06diwh43frLFyWT+gkXsvsNCxfI6FjFgdenBOBw0sA9VEn8HJm5nJlxX4NI8HgmaDaURbsnuPXvZ7wWwHNIIMckhRAnuCOIgn4gTfujw0UjuDEAsBQPhTkAgTZ8+W3vWMZBJisEiZwX42nPm/hHJgrEH3Kpy5coIETUNRPzufmG5Ie9HAh8fKxAyWxszElaVkFnqLFmzeFO2bN48+HZrBYBok9C0aUMWbMAxpB27OAjuLHAp8vr40KWLl3iV62Oldq0a1KVLeypd6jPKkD49j02AdhglSxQLvxUXEyWqz4ODX9Gu3Xto7M8T6S/x/dsbU1jVPXf2PGXy8qR06dKKsZmfGjasK8ShPNUUFix67xQo4CvGzDHxnhPE+Lqq/ebbYDwg9onsdxwfxjiSP/F//fp1qWmThiw+SHrcunUHW8kbN26OtLL8LnB5Ho/M38HFat5wCBfPwIF9uXESwEW64I/FnHeiR2Z77tix+63mR0ZBR7YWLRqHu1rbtu10+L3gR3ft2jF8BsTsNenX39h6k+jT2EGAELjhw0dZXI2ICm3atOCERKwKAkfT7xXvBwgvlChejAUsrnCp7t69SydPnOEkRaMrkgDiUq5sGfLJm0u4/ym51AeNwE6dPE3/CCv4XbtW5rhceJBd2a1bZ/El3rNY1mB+oZ44eYr69RvM9yVIHMyVKxvNm7eYU/qdoU+f7jyjAJibzqSY65O2gHkzKFhTMtFMYi9B0VlGjviOzWtJVNLvoxNMNG1at6C0YiZ3FSdPnKbJU6ZpjxQfIi6P8ViK7+jZIy5MmZgHvDJlihShl/GdqOaVREd8BykBUnTA0ydPIwUb9YFIAIHD6kZ0g+8kjbbSInkfAoYAMQnM3t5O3LyEYMPdS5smtc1bliyZtU9TfKi43OJBgWbBggXeatWoZ9iwb6hokcJ8H4EyuEEjfxrLjxHA69ixHd28cYu6duvNzzmKvlIYOGMdWLJmzN01c4sIOT+TJk2NdvcH/nvXLh3C41WWWmEqrFOyZDHtnsIeu3ZZL+COCi4VHlvxHT2I4Ldt+yXn8wB9/ZaM76AzvrN1Q9EV3+ksjkXWayEVYObMObR27Xp+DHp078zJXtJtNFrX4yjNmzemxo0aiL8nDj92lcD9V0HA9V2VCnxIoIXr1KkztEfRi0uFx158R4KZe8zoH4UJbUqowqqALKxDW4ysWTO/8/gO8inQP0cmBGKJvG+/wZGsJiytIp9DgjyOrzp00x45RzsIsnBVV6xYHV6PYy/WZA3z37MFVureRRNwdwDhQeqAwjZhb8I+TOFp164V1f28Fqdm27MwzFdp0HYCs3jPXt0orrhQotIXRlYKA/QAcnQ7D1huyKnAkiVAAeV84daY17lEt/DIplFoCqZ3DZ0VHlh+ZcuW4lYlAHknaBEiLTQsycPafBH8go4eOU7Tps/i5xWK6MalwWUEGWV9lj1QwXv/fkS1LgpCEctImgR7CTlfNxTV+iyA/japU6fm+4hBnTh5xmJxHY4fFlV0kTdvHuGmJmRXTW9Z3bqFDGpTTZUjwGLs0rUXbwSH25IlyyMVKqKso3MX02tKdBSuxGUWj9H4jh7zpfUnT55yduemTVv4PZwhqvEdZAYP/d8g7uIPELex1otHupYyDhSVPinyc/H9IYlM/3koyejbryelSG4SVGesOCDjZ9J9dCb2ZQ7cZvT1QfsRV3H69JkoJUoq3j0uy1zG7oelS3/G9VlGM4TRTc3XNx935wPI/kXd0M6de3mwOQOyiGXsCNYIlu+PH7ftkkhwEfXt0527AEIMsaSP2NBWcYFaAp0JIZzoy2siBpceONMZrkOHtpQ7dy5Omly+YpX2rAkkJaJNQmqtuhnCAWtFtj0wCmIdsCwB3MetW3c6/T1LIIpftmzGXRbRsc8VNxwz+hR9jGBCKlggP6cU4LuAu43CYAlKJpBVba1kQwIvwM+vMIcg8D5JhNuNcSXB51SpXJEu+18xdO06isssHhnfQTGoIwl0o0f/SHl9IvYhMhq/sMaUyePY5QOOWAYQnT69u4X3uIHozJ+/0O5+2O3bt2axQ6wKMRNnVuNkN0DEuX4cPtqixYQtb5s3gyVnEmlLiZe2iC6r6b8Czveon36gDBki+jWZg3azv06OnLiIEhlsGyyz2W3x8uVL7i6wRYwJfba7PSASDRvWY4ta9s9GCgVRmBCeuOFbJWMLZfR/uh0QSIMHv21P4G+Mrv3Zo4rLLB4EP5G6jfos9JY1CrYFQdWu3Anh1q0AbnbuDIjvoLZK9nk2Wp8Fa21A/97cSwcnBxflzFlzDM2ycMXyilkHTZswQGCVIGHRVk9oPc2bN6F6dWvR48dPadr0mXT27HntlcigoVoRv0Lclxl4iAEJCxFN1oxQS4gjxEe6WahGd7YO7r8AOgbinKHQNra4CCHIEHW4+ydPnuZVzCNHjr1lvaLWKrYYqxhbiAOiYVhoaBhb1Whve/36Tb4h5SGxsCqw2wmKoXPlzEknTpzk7oG2wHXUp08PPlcQGxSFou0vSnUWLlpG9+89oEKFCoqxXlhYMIW4tTCs+sOHj2rvYAKLHgP696KSJYvz8e7ff1CIzGwaPWY89+A+d+48+fj4cCuXggV82co/cdzUz9wVRLvwQFWR8FesmB935MeF6EgSEi7yAvnz8SBAIBeN2FF24AwIChfI7ytEzHRxoZOfrSbpyNXp8FUbLtiT7S4weMaN/9Xw3kdYgRIHzm4SXEYMXmyyj50bL9rocYNZDXlA1apVEabzfS4JsNXeAuKJNIV8eX04DgShhvkNkbUn9MhhQYtUWcgKULzrqkH2IYDCZLSixXn2K1yQCy5hDaz/exNbgmhBYcllhlWKCz0o6DkV05rrw2L45tvvadv2nfx+uMHCQUpEfPGdo6NhxozpORMehZuWwPv0F5NfrVo4T3F5l5Fh341gC1rvWmFM4ZpBWANjCE2+NohjvqLLmEcf7mZNG3D7VuzPPkaIDTYW0BeK3rodQP5iMoMLjyRZhCX0Rd3RTbS4Wggk9+7VjX3FWLFihye2AYgHij+x9SqqtI3MqnJpHb8za/Ycw/s6wcWpW7e2+IJNFdu46KXlBBDHwGxkCYiTDEDjmCGYa9b85XTzLmRcY2tZGe/BIMasiQGIdph4f4AlcwgeZi0sb58ULtPESb9Z7OViCQwUmPqYeQGOHcWB28SA3rFzT/j7YFBWrFiOG8ejZwxcR7Q6LSZmSvFbUcqT+i+BC15mqKPwduLEybR9h31B1i9i2AvSDxrUj92mYOF6mSehAhzDwIF9WAAxwWDXEXudK2XtnvmCBvZnr1ihPI9vtMO115kSe4ehtw8mUFe63tGynI4ZHScKX5hedADcDcysUO3QUGNBKrm0bq/jmzloDwmTGceBm150AAaFfM38BsFEvxW05YAp26JlO6dFB2zYsJmGDRvO5jlEB8eCmQ6zz/x5M2n1qiX017oV3MAb7iB6Sc8Q/nW//t8YFh2AmbD/gG/EYN/BAo/vG50WkeuDHQ3WrV0uPmspfyZiR2nTpOUWHUPE4ETVPI7znjDXP+b+O3qc7dSH2BDiLXCH7PWMOnz4CIsOMvX18UxJxw5tWXQAtn4y0i434M4d/v92wJ1w0Ymu/dldgUsTCBUmsNJQVVhA3sK/T548ObugyG/CwL7sf5VFw6grZwusRFSoUE64l3k53iAnAQQ1EcPB4Nu6dbtDwvaxoU/OdKSzgNx40kiQXl87aJ4hDku5XdtWnJKBfK2hw0YYOl9wn+sJa3+NsJ5mzPidY0KIDSFkgGOyt3GmRNZG7t93MMqpFbZwaQKhwgQSFkeNHkcdO/Wgho2+oLr1mlL9Bs2o/VddacSI0dEiOgADdPbsubzLaOMmLflzcGvStBX17fc1zZ27QImOHWRjd8Q47G19JMFFnkrrKWXEUoBlFDOmyRrXW+WwvCtXqsCiAxcL1o7R84WYKKyt8+dMixH6/dmPifFndIyZ78/uKpTwKBQauPBlY3esRBptneKZKSMlSmhKGjWyGQHifvHiRwT2JcjU99ZafiDUYGk/Lmug8yEntgrXEHFD33x52O1GsPngwUPaT9kH1vcE8T5oROZKlPAoFBr6+I4jpTVZvL05hmkkvgOwYhY3jskN1veiQhqH7NBw+/Ztu0mAetDhUm5XU8SvcHhLXHQ0xPNGgYWFYLpc/HAVSngUCo1MXl7hOV+ONFaDkMC6MLrZJHpow8XiFcjrERaSXJnEYoSt1At74Hhkftbt2wGG/w53ooRHodDQx3eM7sTgaHxH3z0SK1sXLpoSS/E+n2jZz9hUUS9IjoIkXAABex92lLCEEh6FQuCu+A52j0jmkZTvYzdQS6UTL4Nf8kqUUbCiNeTbgdqjCJC+8vhRxI69epDVv2jhHIt7quM2fdok/k5chRIehUKAlAdk9gJXxnewVRMSW7HJI0RHukHInSEtsSUsLJSLo40AcShRvGi4a6UHm0BiM0hL4O+b9OtU3lN93vyF4ZtrIgER6QB43pUumhIehUKA5E7UWQFH4iLofGA0vtOoUT3eMRfFwyhP0Rcco+eStHIgJkY7JDZoUJcFE1saS+5qgWFb+7Pj70PQGeKHpX38LEBwGUml0b0dkzlKeBQKgdxBBPEdozuDIC6T1MOYlYS6wTq1a3IOD2rpzKvcwbnz51mUkOmPZER7YNm8YoVydPjIUd6wT4ICVWSx4+8xsj+7M7lLUUUJj+KjBxaGl5dp9xDsT+9/2Z/v2yNbtmz0qdb0zdYqWLOmDbldBZL8Dh48wo3dLP3s5k3/cnU83KaiRfxYWKwB17B9u9Zc5oPqcj2wZFC8Cuztz45NNTNnNuUOORLbiipu2cJYoXgfQb5LzlzZqWTJElzGgJ40D8WFfE5cfCikhfXB3QZ0IBsYDbRy5sxO5cqV4q25kWWMthLolimbleXOlUO4QfW42wEKeRHDQZIfYifWWmEgdyYkJIQ7G0Ck0DoDgWb90jpEslHDutROiE5gYCDvq26e3YxK+8C7d7lzAZIV8X6IK128eImPVYJWGWg4lyxZEuEuxmTRc3Rbb2dRtVqKjxI0eOvZowt3BLAELj6504keFHDWrl3DYjDXHAScIQ6o+UI8x2hSHoSqbZuW3PUBIPsYLVCQ+wPhk4FpDgrbiEWZrKJWHIfC8aI7w/37j+jly2CuGUTO0sVLl7irJqrrIbqjRv2i/bZrUcKjULynoF0K3C1PT08OYKNoFPEhR/dCx3vo92d//Ogxb2q55d9tLg8iW0MJj0KhcDsquKxQKNyOEh6FQuF2lPAoFAq3o4RHoVC4HSU8CoXC7SjhUSgUbobo/8zZ1S3n03CNAAAAAElFTkSuQmCC)"
      ],
      "metadata": {
        "id": "x3zkEXNOjYCO"
      }
    },
    {
      "cell_type": "code",
      "source": [
        "def ndcg(predicted, actual, k=10):\n",
        "  ndcg_list = []\n",
        "\n",
        "  # Loop over each user\n",
        "  for user_idx in range(actual.shape[0]):\n",
        "    # Get the predicted ratings for this user and sort them by descending order while preserving indices\n",
        "    user_pred = predicted[user_idx]\n",
        "    sorted_pred_indices = np.argsort(user_pred)[::-1]\n",
        "\n",
        "    # Get the actual ratings for this user\n",
        "    user_actual = actual[user_idx]\n",
        "\n",
        "    # Determine the indices where the actual ratings are non-zero (i.e., the items the user has rated)\n",
        "    actual_rated_indices = user_actual.nonzero()[0]\n",
        "\n",
        "    # Intersect the top K predictions with the actual rated indices\n",
        "    top_k_pred_indices = np.intersect1d(sorted_pred_indices[:k], actual_rated_indices, assume_unique=True)\n",
        "\n",
        "    # Calculate DCG for the top K predicted indices\n",
        "    dcg = np.sum((2 ** user_actual[top_k_pred_indices] - 1) / np.log2(1 + np.arange(1, len(top_k_pred_indices) + 1)))\n",
        "\n",
        "    # Calculate IDCG using the actual ratings at the predicted indices, sorted in descending order\n",
        "    idcg_ratings = np.sort(user_actual[actual_rated_indices])[::-1]\n",
        "    idcg = np.sum((2 ** idcg_ratings[:k] - 1) / np.log2(1 + np.arange(1, len(idcg_ratings[:k]) + 1)))\n",
        "\n",
        "    # Calculate NDCG\n",
        "    ndcg_value = dcg / idcg if idcg > 0 else 0\n",
        "    ndcg_list.append(ndcg_value)\n",
        "\n",
        "  return np.mean(ndcg_list)\n",
        "\n",
        "\n",
        "# Calculate NDCG for the train and test sets\n",
        "train_ndcg = ndcg(predicted_ratings, train_matrix_csr.toarray(), k=10)\n",
        "test_ndcg = ndcg(predicted_ratings, test_matrix_csr.toarray(), k=10)\n",
        "\n",
        "# Output the NDCG results\n",
        "print(f\"Train NDCG: {train_ndcg:.4f}\")\n",
        "print(f\"Test NDCG: {test_ndcg:.4f}\")"
      ],
      "metadata": {
        "id": "59xjTJNh7BG1",
        "colab": {
          "base_uri": "https://localhost:8080/"
        },
        "outputId": "e414e394-8b6c-4a89-80f8-6326e39f835f"
      },
      "execution_count": null,
      "outputs": [
        {
          "output_type": "stream",
          "name": "stdout",
          "text": [
            "Train NDCG: 0.6520\n",
            "Test NDCG: 0.0152\n"
          ]
        }
      ]
    },
    {
      "cell_type": "markdown",
      "source": [
        "Different metrics have their own significance:\n",
        "- RMSE gives an idea of the magnitude of error.\n",
        "- Precision and Recall provide insights into the quality of the top-k recommendations.\n",
        "- MAP gives an overall precision score across users.\n",
        "- NDCG weighs errors in the top recommendations more heavily than errors in lower recommendations.\n",
        "\n",
        "The choice of metric depends on one's objective and the nature of the recommendation system."
      ],
      "metadata": {
        "id": "MVc5SAM7fVPx"
      }
    },
    {
      "cell_type": "markdown",
      "source": [
        "## Deep Dive into SVD with K"
      ],
      "metadata": {
        "id": "yagXF09029q0"
      }
    },
    {
      "cell_type": "markdown",
      "source": [
        "Okay! Now, we are not noobs anymore! Right!\n",
        "\n",
        "Yeah! So, imagine, now, we are organizing a movie festival. Our aim is to create a lineup that captures the very essence of cinematic art. This is similar to how we use Singular Value Decomposition (SVD) in recommendation systems."
      ],
      "metadata": {
        "id": "xFBznbO5RB3K"
      }
    },
    {
      "cell_type": "markdown",
      "source": [
        "In SVD:\n",
        "> U -> Heart of the matrix (Left Singular Vectors)\n",
        "\n",
        "> S -> Essence of the matrix (Singular Values)\n",
        "\n",
        "> VT -> Spirit of the matrix (Right Singular Vectors)"
      ],
      "metadata": {
        "id": "vcTBemfJ3cLq"
      }
    },
    {
      "cell_type": "markdown",
      "source": [
        "* 'k' represents the number of singular values we consider.\n",
        "* Higher 'k' means we consider more singular values, leading to better approximation but more complexity.\n",
        "* Lower 'k' simplifies the matrix but might lose some information."
      ],
      "metadata": {
        "id": "t8mXTRT03q8e"
      }
    },
    {
      "cell_type": "markdown",
      "source": [
        "In our festival analogy:\n",
        "\n",
        "> U represents the heart of the festival - it's the audience and their preferences.\n",
        "\n",
        "> S captures the essence - these are the key themes or genres that really define the cinematic experience.\n",
        "\n",
        "> VT acts as the spirit - these are the movies themselves and how they relate to one another."
      ],
      "metadata": {
        "id": "kAy6uYTzRlR8"
      }
    },
    {
      "cell_type": "markdown",
      "source": [
        "The 'k' is like our spotlight, focusing on the number of themes we want to highlight at our festival. A high 'k' means we're trying to showcase a diverse array of genres, but that might make the festival too complex for our audience to enjoy. A lower 'k' simplifies things but risks losing the richness of our cinematic collection."
      ],
      "metadata": {
        "id": "GwKmsidOSB5B"
      }
    },
    {
      "cell_type": "code",
      "source": [
        "# Printing the maximum value of k\n",
        "print(min(train_matrix_csr.shape) - 1) # Should always be less than the minimum dimension of the training matrix.\n",
        "\n",
        "# Performing SVD with the maximum k posiible\n",
        "U, S, VT = svds(train_matrix_csr, k=min(train_matrix_csr.shape) - 1)"
      ],
      "metadata": {
        "id": "nO6g2zm5m5BE",
        "colab": {
          "base_uri": "https://localhost:8080/"
        },
        "outputId": "9d8c3c5c-3a31-4f48-b23c-636b4fb7af28"
      },
      "execution_count": null,
      "outputs": [
        {
          "output_type": "stream",
          "name": "stdout",
          "text": [
            "287\n"
          ]
        }
      ]
    },
    {
      "cell_type": "markdown",
      "source": [
        "Here, `train_matrix_csr.shape` returns the shape(dimensions) of the `train_matrix_csr` which will, typically, have dimensions like:\n",
        "`(number_of_users, number_of_movies)`"
      ],
      "metadata": {
        "id": "tpwB3s0po0BF"
      }
    },
    {
      "cell_type": "code",
      "source": [
        "# Plotting the singular values to understand the distribution of 'energy' or importance across them.\n",
        "# Think of these like the popularity of movie genres at our festival.\n",
        "plt.plot(S)\n",
        "plt.title(\"Singular values of user_movie_matrix\")\n",
        "plt.xlabel(\"Singular value index\")\n",
        "plt.ylabel(\"Magnitude / Importance\")\n",
        "plt.show()"
      ],
      "metadata": {
        "id": "4ozX-T9d3Ygi",
        "colab": {
          "base_uri": "https://localhost:8080/",
          "height": 472
        },
        "outputId": "ca0bbe73-c81b-4b5a-90f8-49b5b03f2056"
      },
      "execution_count": null,
      "outputs": [
        {
          "output_type": "display_data",
          "data": {
            "text/plain": [
              "<Figure size 640x480 with 1 Axes>"
            ],
            "image/png": "[encoded data removed]"
          },
          "metadata": {}
        }
      ]
    },
    {
      "cell_type": "code",
      "source": [
        "# Reverse the order of singular values to get the indexex in descending order of importance\n",
        "S_reverse = S[::-1]\n",
        "\n",
        "# Plot the singular values to understand their distribution of 'energy' or importance\n",
        "plt.plot(S_reverse)\n",
        "plt.title(\"Singular values of user_movie_matrix\")\n",
        "plt.xlabel(\"Singular value index\")\n",
        "plt.ylabel(\"Magnitude / Importance\")\n",
        "plt.show()"
      ],
      "metadata": {
        "colab": {
          "base_uri": "https://localhost:8080/",
          "height": 472
        },
        "id": "mis9z5Fsq_zO",
        "outputId": "d2fdfa9e-5afe-44f1-dfbd-3be18fd7ed92"
      },
      "execution_count": null,
      "outputs": [
        {
          "output_type": "display_data",
          "data": {
            "text/plain": [
              "<Figure size 640x480 with 1 Axes>"
            ],
            "image/png": "[encoded data removed]"
          },
          "metadata": {}
        }
      ]
    },
    {
      "cell_type": "code",
      "source": [
        "# Calculating cumulative sum of singular values to determine how many are needed to capture a substantial fraction of the total 'energy'.\n",
        "cumulative_energy = np.cumsum(S_reverse) / np.sum(S_reverse)\n",
        "plt.plot(cumulative_energy)\n",
        "plt.title(\"Cumulative energy of singular values\")\n",
        "plt.xlabel(\"Number of singular values\")\n",
        "plt.ylabel(\"Cumulative energy\")\n",
        "plt.show()"
      ],
      "metadata": {
        "id": "tgCV0Q1932XT",
        "colab": {
          "base_uri": "https://localhost:8080/",
          "height": 472
        },
        "outputId": "d75cc3ed-021f-4b3f-d9dd-774dc9961351"
      },
      "execution_count": null,
      "outputs": [
        {
          "output_type": "display_data",
          "data": {
            "text/plain": [
              "<Figure size 640x480 with 1 Axes>"
            ],
            "image/png": "[encoded data removed]"
          },
          "metadata": {}
        }
      ]
    },
    {
      "cell_type": "code",
      "source": [
        "# Determining 'optimal_k' such that 95% of the energy is retained.\n",
        "optimal_k = np.argmax(cumulative_energy >= 0.95) + 1\n",
        "\n",
        "# Ensuring the chosen 'k' does not exceed the dimensions of the actual matrix.\n",
        "optimal_k = min(optimal_k, min(train_matrix_csr.shape) - 1)\n",
        "\n",
        "print(f\"Optimal number of dimensions (k) capturing 95% energy: {optimal_k}\")"
      ],
      "metadata": {
        "id": "dnIdo0-Mlof2",
        "colab": {
          "base_uri": "https://localhost:8080/"
        },
        "outputId": "1f9e4572-949c-480e-b2f0-8b1b64446a87"
      },
      "execution_count": null,
      "outputs": [
        {
          "output_type": "stream",
          "name": "stdout",
          "text": [
            "Optimal number of dimensions (k) capturing 95% energy: 245\n"
          ]
        }
      ]
    },
    {
      "cell_type": "code",
      "source": [
        "# Performing SVD with the determined 'optimal_k' to approximate the original matrix.\n",
        "U_k, S_k, VT_k = svds(user_movie_matrix_csr, k=optimal_k)\n",
        "approximation = np.dot(U_k, np.dot(np.diag(S_k), VT_k))\n",
        "approximation_error = np.linalg.norm(user_movie_matrix - approximation, 'fro')  # Frobenius norm (fro) is a way to measure the magnitude of the difference between two matrices.\n",
        "f\"Approximation error using {optimal_k} dimensions: {approximation_error:.2f}\""
      ],
      "metadata": {
        "id": "IaSfVAn93_ZU",
        "colab": {
          "base_uri": "https://localhost:8080/",
          "height": 36
        },
        "outputId": "7953e7c8-0112-4a86-daf2-1c4aed16f3e2"
      },
      "execution_count": null,
      "outputs": [
        {
          "output_type": "execute_result",
          "data": {
            "text/plain": [
              "'Approximation error using 245 dimensions: 75.92'"
            ],
            "application/vnd.google.colaboratory.intrinsic+json": {
              "type": "string"
            }
          },
          "metadata": {},
          "execution_count": 55
        }
      ]
    },
    {
      "cell_type": "code",
      "source": [
        "# Initialize lists to store errors\n",
        "errors_train = []\n",
        "errors_test = []\n",
        "k_values = range(10, min(min(train_matrix_csr.shape), 800), 10)"
      ],
      "metadata": {
        "id": "QJca6jax7Uyl"
      },
      "execution_count": null,
      "outputs": []
    },
    {
      "cell_type": "code",
      "source": [
        "# Loop through each k value and compute SVD and errors for both train and test set\n",
        "for k in k_values:\n",
        "  # Perform SVD on the training data\n",
        "  U_train, S_train, VT_train = svds(train_matrix_csr, k=k)\n",
        "  approximation_train = U_train @ np.diag(S_train) @ VT_train # Another way to compute dot product\n",
        "  error_train = np.linalg.norm(train_matrix_csr - approximation_train, 'fro')\n",
        "\n",
        "  # For the test set, we recompute SVD for the same 'k'\n",
        "  U_test, S_test, VT_test = svds(test_matrix_csr, k=min(k, test_matrix_csr.shape[0] - 1))\n",
        "  approximation_test = U_test @ np.diag(S_test) @ VT_test\n",
        "  error_test = np.linalg.norm(test_matrix_csr - approximation_test, 'fro')\n",
        "\n",
        "  # Append the errors to the lists\n",
        "  errors_train.append(error_train)\n",
        "  errors_test.append(error_test)\n",
        "\n",
        "plt.plot(k_values, errors_train, label='Training Error')\n",
        "plt.plot(k_values, errors_test, label='Testing Error')\n",
        "plt.title(\"Change in error with 'k'\")\n",
        "plt.xlabel(\"Number of dimensions (k)\")\n",
        "plt.ylabel(\"Frobenius Norm Error\")\n",
        "plt.legend()\n",
        "plt.show()"
      ],
      "metadata": {
        "id": "-LheaG127hae",
        "colab": {
          "base_uri": "https://localhost:8080/",
          "height": 472
        },
        "outputId": "8e47522f-5e02-4814-8c06-5445815065c2"
      },
      "execution_count": null,
      "outputs": [
        {
          "output_type": "display_data",
          "data": {
            "text/plain": [
              "<Figure size 640x480 with 1 Axes>"
            ],
            "image/png": "[encoded data removed]"
          },
          "metadata": {}
        }
      ]
    },
    {
      "cell_type": "markdown",
      "source": [
        "Overfitting occurs when our model tries to fit the training data too closely, capturing even the noise. It can happen if we consider too many singular values (large k).\n",
        "\n",
        "Underfitting, on the other hand, occurs when our model is too simple to capture underlying patterns. It can occur with a very small k."
      ],
      "metadata": {
        "id": "LIaUr-Y6-reQ"
      }
    },
    {
      "cell_type": "markdown",
      "source": [
        "Alright! Now, let us present you our recommeneder system. But, for you, this is your new friend Om Root, and he recommends you your must-watch 10 movies based on your ratings for the following 12 movies:\n",
        "\n",
        "1. Forrest Gump (1994)\n",
        "2. Blade Runner (1982)\n",
        "3. Fight Club (1999)\n",
        "4. Into the Wild (2007)\n",
        "5. WALL·E (2008)\n",
        "6. Toy Story 3 (2010)\n",
        "7. Inception (2010)\n",
        "8. Life of Pi (2012)\n",
        "9. Guardians of the Galaxy (2014)\n",
        "10. The Matrix (1999)\n",
        "11. The Dark Knight (2008)\n",
        "12. The Shining (1980)\n",
        "\n",
        "Edit the array `your_ratings` by putting your ratings for each movie above in the same order."
      ],
      "metadata": {
        "id": "81RjqRkwx6ua"
      }
    },
    {
      "cell_type": "code",
      "source": [
        "your_ratings = [0, 0, 0, 0, 0, 0, 0, 0, 0, 0, 0, 0] # Enter your ratings here, inside the array for ecah movie in the same order mentioned above in the markdown."
      ],
      "metadata": {
        "id": "RpoojP6fyo5z"
      },
      "execution_count": null,
      "outputs": []
    },
    {
      "cell_type": "code",
      "source": [
        "def add_ratings(ratings, ids, matrix):\n",
        "  scaled_ratings = [r / 2 for r in ratings]  # Scale ratings from 1-10 to 1-5\n",
        "  new_id = matrix.index.max() + 1  # New user ID\n",
        "  new_row = pd.DataFrame(0, index=[new_id], columns=matrix.columns)\n",
        "  for m_id, r in zip(ids, scaled_ratings):\n",
        "      if m_id in new_row.columns:\n",
        "          new_row.at[new_id, m_id] = r\n",
        "  updated_matrix = pd.concat([matrix, new_row])\n",
        "  return updated_matrix.fillna(0)"
      ],
      "metadata": {
        "id": "GIow4I6Q1uxo"
      },
      "execution_count": null,
      "outputs": []
    },
    {
      "cell_type": "code",
      "source": [
        "import hashlib\n",
        "\n",
        "def hash_ratings(ratings):\n",
        "  ratings_str = ''.join(map(str, ratings))\n",
        "  return int(hashlib.sha256(ratings_str.encode('utf-8')).hexdigest(), 16)"
      ],
      "metadata": {
        "id": "WiC_qBjM9x0T"
      },
      "execution_count": null,
      "outputs": []
    },
    {
      "cell_type": "code",
      "source": [
        "from sklearn.decomposition import TruncatedSVD\n",
        "\n",
        "def recommend_svd(ratings, ids, matrix, df, n=10, sensitivity=50):\n",
        "\n",
        "  seed = hash_ratings(ratings) % (2**32)\n",
        "  np.random.seed(seed)\n",
        "\n",
        "  # Normalize user ratings before adding to the matrix\n",
        "  mean_rating = sum(ratings) / len(ratings)\n",
        "  normalized_ratings = [(r - mean_rating) for r in ratings]\n",
        "\n",
        "  # Add normalized user ratings to the matrix\n",
        "  updated_matrix = add_ratings(normalized_ratings, ids, matrix)\n",
        "  sparse_matrix = csr_matrix(updated_matrix)\n",
        "\n",
        "  # Perform SVD\n",
        "  svd = TruncatedSVD(n_components=sensitivity, random_state=42)\n",
        "  matrix_svd = svd.fit_transform(sparse_matrix)\n",
        "  reconstructed = np.dot(matrix_svd, svd.components_)\n",
        "\n",
        "  # Predict ratings for the new user\n",
        "  predicted = reconstructed[-1, :]\n",
        "\n",
        "  # Exclude movies the user has already rated\n",
        "  movie_indices = [matrix.columns.get_loc(m_id) for m_id in ids if m_id in matrix.columns]\n",
        "  predicted[movie_indices] = 0\n",
        "\n",
        "  # Consider a larger pool of top recommendations\n",
        "  top_indices = predicted.argsort()[-(n*5):][::-1]\n",
        "\n",
        "  # Map the top indices to the actual movie IDs\n",
        "  top_movie_ids = [matrix.columns[i] for i in top_indices if i < len(matrix.columns)]\n",
        "\n",
        "\n",
        "  rec_indices = np.random.choice(top_indices[:len(top_movie_ids)], size=n, replace=False)\n",
        "  rec_movie_ids = [matrix.columns[i] for i in rec_indices]\n",
        "\n",
        "  # Get the recommended movie details\n",
        "  recs = df[df['movieId'].isin(rec_movie_ids)]\n",
        "  print(\"Hello, I'm Om Root, a self acclaimed visionary director.\\nThanks for giving your ratings for the selected movies.\\nI strongly recommend you to watch Aadhipurush. It is one of the best movies with an extremely awesome VFX. \\nAnyways, by analyzing your taste, these are your Top 10 recommendations. \\n\")\n",
        "  return recs[['movieId', 'title']]\n",
        "\n",
        "\n",
        "# Define movie IDs for the rated movies\n",
        "ids = [356, 541, 2959, 55247, 60069, 78499, 79132, 97938, 112852, 2571, 58559, 1258]\n",
        "\n",
        "# Get recommendations\n",
        "recs = recommend_svd(your_ratings, ids, user_movie_matrix, movies, n=10)\n",
        "recs\n"
      ],
      "metadata": {
        "id": "U38FubkcufNb",
        "colab": {
          "base_uri": "https://localhost:8080/",
          "height": 454
        },
        "outputId": "15139bd8-e280-46a4-bfd7-8ed2e5f03754"
      },
      "execution_count": null,
      "outputs": [
        {
          "output_type": "stream",
          "name": "stdout",
          "text": [
            "Hello, I'm Om Root, a self acclaimed visionary director.\n",
            "Thanks for giving your ratings for the selected movies.\n",
            "I strongly recommend you to watch Aadhipurush. It is one of the best movies with an extremely awesome VFX. \n",
            "Anyways, by analyzing your taste, these are your Top 10 recommendations. \n",
            "\n"
          ]
        },
        {
          "output_type": "execute_result",
          "data": {
            "text/plain": [
              "      movieId                                      title\n",
              "907      1206                 Clockwork Orange, A (1971)\n",
              "2097     2791                           Airplane! (1980)\n",
              "2265     3006                        Insider, The (1999)\n",
              "4935     7438                   Kill Bill: Vol. 2 (2004)\n",
              "6170    44665                 Lucky Number Slevin (2006)\n",
              "6648    56782                 There Will Be Blood (2007)\n",
              "6743    59315                            Iron Man (2008)\n",
              "6797    60684                            Watchmen (2009)\n",
              "7014    68237                                Moon (2009)\n",
              "7770    91542  Sherlock Holmes: A Game of Shadows (2011)"
            ],
            "text/html": [
              "\n",
              "  <div id=\"df-24807cf3-25cb-4f97-a675-a561ff7c0aa8\" class=\"colab-df-container\">\n",
              "    <div>\n",
              "<style scoped>\n",
              "    .dataframe tbody tr th:only-of-type {\n",
              "        vertical-align: middle;\n",
              "    }\n",
              "\n",
              "    .dataframe tbody tr th {\n",
              "        vertical-align: top;\n",
              "    }\n",
              "\n",
              "    .dataframe thead th {\n",
              "        text-align: right;\n",
              "    }\n",
              "</style>\n",
              "<table border=\"1\" class=\"dataframe\">\n",
              "  <thead>\n",
              "    <tr style=\"text-align: right;\">\n",
              "      <th></th>\n",
              "      <th>movieId</th>\n",
              "      <th>title</th>\n",
              "    </tr>\n",
              "  </thead>\n",
              "  <tbody>\n",
              "    <tr>\n",
              "      <th>907</th>\n",
              "      <td>1206</td>\n",
              "      <td>Clockwork Orange, A (1971)</td>\n",
              "    </tr>\n",
              "    <tr>\n",
              "      <th>2097</th>\n",
              "      <td>2791</td>\n",
              "      <td>Airplane! (1980)</td>\n",
              "    </tr>\n",
              "    <tr>\n",
              "      <th>2265</th>\n",
              "      <td>3006</td>\n",
              "      <td>Insider, The (1999)</td>\n",
              "    </tr>\n",
              "    <tr>\n",
              "      <th>4935</th>\n",
              "      <td>7438</td>\n",
              "      <td>Kill Bill: Vol. 2 (2004)</td>\n",
              "    </tr>\n",
              "    <tr>\n",
              "      <th>6170</th>\n",
              "      <td>44665</td>\n",
              "      <td>Lucky Number Slevin (2006)</td>\n",
              "    </tr>\n",
              "    <tr>\n",
              "      <th>6648</th>\n",
              "      <td>56782</td>\n",
              "      <td>There Will Be Blood (2007)</td>\n",
              "    </tr>\n",
              "    <tr>\n",
              "      <th>6743</th>\n",
              "      <td>59315</td>\n",
              "      <td>Iron Man (2008)</td>\n",
              "    </tr>\n",
              "    <tr>\n",
              "      <th>6797</th>\n",
              "      <td>60684</td>\n",
              "      <td>Watchmen (2009)</td>\n",
              "    </tr>\n",
              "    <tr>\n",
              "      <th>7014</th>\n",
              "      <td>68237</td>\n",
              "      <td>Moon (2009)</td>\n",
              "    </tr>\n",
              "    <tr>\n",
              "      <th>7770</th>\n",
              "      <td>91542</td>\n",
              "      <td>Sherlock Holmes: A Game of Shadows (2011)</td>\n",
              "    </tr>\n",
              "  </tbody>\n",
              "</table>\n",
              "</div>\n",
              "    <div class=\"colab-df-buttons\">\n",
              "\n",
              "  <div class=\"colab-df-container\">\n",
              "    <button class=\"colab-df-convert\" onclick=\"convertToInteractive('df-24807cf3-25cb-4f97-a675-a561ff7c0aa8')\"\n",
              "            title=\"Convert this dataframe to an interactive table.\"\n",
              "            style=\"display:none;\">\n",
              "\n",
              "  <svg xmlns=\"http://www.w3.org/2000/svg\" height=\"24px\" viewBox=\"0 -960 960 960\">\n",
              "    <path d=\"M120-120v-720h720v720H120Zm60-500h600v-160H180v160Zm220 220h160v-160H400v160Zm0 220h160v-160H400v160ZM180-400h160v-160H180v160Zm440 0h160v-160H620v160ZM180-180h160v-160H180v160Zm440 0h160v-160H620v160Z\"/>\n",
              "  </svg>\n",
              "    </button>\n",
              "\n",
              "  <style>\n",
              "    .colab-df-container {\n",
              "      display:flex;\n",
              "      gap: 12px;\n",
              "    }\n",
              "\n",
              "    .colab-df-convert {\n",
              "      background-color: #E8F0FE;\n",
              "      border: none;\n",
              "      border-radius: 50%;\n",
              "      cursor: pointer;\n",
              "      display: none;\n",
              "      fill: #1967D2;\n",
              "      height: 32px;\n",
              "      padding: 0 0 0 0;\n",
              "      width: 32px;\n",
              "    }\n",
              "\n",
              "    .colab-df-convert:hover {\n",
              "      background-color: #E2EBFA;\n",
              "      box-shadow: 0px 1px 2px rgba(60, 64, 67, 0.3), 0px 1px 3px 1px rgba(60, 64, 67, 0.15);\n",
              "      fill: #174EA6;\n",
              "    }\n",
              "\n",
              "    .colab-df-buttons div {\n",
              "      margin-bottom: 4px;\n",
              "    }\n",
              "\n",
              "    [theme=dark] .colab-df-convert {\n",
              "      background-color: #3B4455;\n",
              "      fill: #D2E3FC;\n",
              "    }\n",
              "\n",
              "    [theme=dark] .colab-df-convert:hover {\n",
              "      background-color: #434B5C;\n",
              "      box-shadow: 0px 1px 3px 1px rgba(0, 0, 0, 0.15);\n",
              "      filter: drop-shadow(0px 1px 2px rgba(0, 0, 0, 0.3));\n",
              "      fill: #FFFFFF;\n",
              "    }\n",
              "  </style>\n",
              "\n",
              "    <script>\n",
              "      const buttonEl =\n",
              "        document.querySelector('#df-24807cf3-25cb-4f97-a675-a561ff7c0aa8 button.colab-df-convert');\n",
              "      buttonEl.style.display =\n",
              "        google.colab.kernel.accessAllowed ? 'block' : 'none';\n",
              "\n",
              "      async function convertToInteractive(key) {\n",
              "        const element = document.querySelector('#df-24807cf3-25cb-4f97-a675-a561ff7c0aa8');\n",
              "        const dataTable =\n",
              "          await google.colab.kernel.invokeFunction('convertToInteractive',\n",
              "                                                    [key], {});\n",
              "        if (!dataTable) return;\n",
              "\n",
              "        const docLinkHtml = 'Like what you see? Visit the ' +\n",
              "          '<a target=\"_blank\" href=https://colab.research.google.com/notebooks/data_table.ipynb>data table notebook</a>'\n",
              "          + ' to learn more about interactive tables.';\n",
              "        element.innerHTML = '';\n",
              "        dataTable['output_type'] = 'display_data';\n",
              "        await google.colab.output.renderOutput(dataTable, element);\n",
              "        const docLink = document.createElement('div');\n",
              "        docLink.innerHTML = docLinkHtml;\n",
              "        element.appendChild(docLink);\n",
              "      }\n",
              "    </script>\n",
              "  </div>\n",
              "\n",
              "\n",
              "<div id=\"df-15ae6367-b151-4373-9c9b-49cfdb7f1fdb\">\n",
              "  <button class=\"colab-df-quickchart\" onclick=\"quickchart('df-15ae6367-b151-4373-9c9b-49cfdb7f1fdb')\"\n",
              "            title=\"Suggest charts\"\n",
              "            style=\"display:none;\">\n",
              "\n",
              "<svg xmlns=\"http://www.w3.org/2000/svg\" height=\"24px\"viewBox=\"0 0 24 24\"\n",
              "     width=\"24px\">\n",
              "    <g>\n",
              "        <path d=\"M19 3H5c-1.1 0-2 .9-2 2v14c0 1.1.9 2 2 2h14c1.1 0 2-.9 2-2V5c0-1.1-.9-2-2-2zM9 17H7v-7h2v7zm4 0h-2V7h2v10zm4 0h-2v-4h2v4z\"/>\n",
              "    </g>\n",
              "</svg>\n",
              "  </button>\n",
              "\n",
              "<style>\n",
              "  .colab-df-quickchart {\n",
              "      --bg-color: #E8F0FE;\n",
              "      --fill-color: #1967D2;\n",
              "      --hover-bg-color: #E2EBFA;\n",
              "      --hover-fill-color: #174EA6;\n",
              "      --disabled-fill-color: #AAA;\n",
              "      --disabled-bg-color: #DDD;\n",
              "  }\n",
              "\n",
              "  [theme=dark] .colab-df-quickchart {\n",
              "      --bg-color: #3B4455;\n",
              "      --fill-color: #D2E3FC;\n",
              "      --hover-bg-color: #434B5C;\n",
              "      --hover-fill-color: #FFFFFF;\n",
              "      --disabled-bg-color: #3B4455;\n",
              "      --disabled-fill-color: #666;\n",
              "  }\n",
              "\n",
              "  .colab-df-quickchart {\n",
              "    background-color: var(--bg-color);\n",
              "    border: none;\n",
              "    border-radius: 50%;\n",
              "    cursor: pointer;\n",
              "    display: none;\n",
              "    fill: var(--fill-color);\n",
              "    height: 32px;\n",
              "    padding: 0;\n",
              "    width: 32px;\n",
              "  }\n",
              "\n",
              "  .colab-df-quickchart:hover {\n",
              "    background-color: var(--hover-bg-color);\n",
              "    box-shadow: 0 1px 2px rgba(60, 64, 67, 0.3), 0 1px 3px 1px rgba(60, 64, 67, 0.15);\n",
              "    fill: var(--button-hover-fill-color);\n",
              "  }\n",
              "\n",
              "  .colab-df-quickchart-complete:disabled,\n",
              "  .colab-df-quickchart-complete:disabled:hover {\n",
              "    background-color: var(--disabled-bg-color);\n",
              "    fill: var(--disabled-fill-color);\n",
              "    box-shadow: none;\n",
              "  }\n",
              "\n",
              "  .colab-df-spinner {\n",
              "    border: 2px solid var(--fill-color);\n",
              "    border-color: transparent;\n",
              "    border-bottom-color: var(--fill-color);\n",
              "    animation:\n",
              "      spin 1s steps(1) infinite;\n",
              "  }\n",
              "\n",
              "  @keyframes spin {\n",
              "    0% {\n",
              "      border-color: transparent;\n",
              "      border-bottom-color: var(--fill-color);\n",
              "      border-left-color: var(--fill-color);\n",
              "    }\n",
              "    20% {\n",
              "      border-color: transparent;\n",
              "      border-left-color: var(--fill-color);\n",
              "      border-top-color: var(--fill-color);\n",
              "    }\n",
              "    30% {\n",
              "      border-color: transparent;\n",
              "      border-left-color: var(--fill-color);\n",
              "      border-top-color: var(--fill-color);\n",
              "      border-right-color: var(--fill-color);\n",
              "    }\n",
              "    40% {\n",
              "      border-color: transparent;\n",
              "      border-right-color: var(--fill-color);\n",
              "      border-top-color: var(--fill-color);\n",
              "    }\n",
              "    60% {\n",
              "      border-color: transparent;\n",
              "      border-right-color: var(--fill-color);\n",
              "    }\n",
              "    80% {\n",
              "      border-color: transparent;\n",
              "      border-right-color: var(--fill-color);\n",
              "      border-bottom-color: var(--fill-color);\n",
              "    }\n",
              "    90% {\n",
              "      border-color: transparent;\n",
              "      border-bottom-color: var(--fill-color);\n",
              "    }\n",
              "  }\n",
              "</style>\n",
              "\n",
              "  <script>\n",
              "    async function quickchart(key) {\n",
              "      const quickchartButtonEl =\n",
              "        document.querySelector('#' + key + ' button');\n",
              "      quickchartButtonEl.disabled = true;  // To prevent multiple clicks.\n",
              "      quickchartButtonEl.classList.add('colab-df-spinner');\n",
              "      try {\n",
              "        const charts = await google.colab.kernel.invokeFunction(\n",
              "            'suggestCharts', [key], {});\n",
              "      } catch (error) {\n",
              "        console.error('Error during call to suggestCharts:', error);\n",
              "      }\n",
              "      quickchartButtonEl.classList.remove('colab-df-spinner');\n",
              "      quickchartButtonEl.classList.add('colab-df-quickchart-complete');\n",
              "    }\n",
              "    (() => {\n",
              "      let quickchartButtonEl =\n",
              "        document.querySelector('#df-15ae6367-b151-4373-9c9b-49cfdb7f1fdb button');\n",
              "      quickchartButtonEl.style.display =\n",
              "        google.colab.kernel.accessAllowed ? 'block' : 'none';\n",
              "    })();\n",
              "  </script>\n",
              "</div>\n",
              "    </div>\n",
              "  </div>\n"
            ]
          },
          "metadata": {},
          "execution_count": 61
        }
      ]
    },
    {
      "cell_type": "markdown",
      "source": [
        "**Challenges in Recommender systems:**\n",
        "\n",
        "1. Scalability: Dealing with large datasets.\n",
        "2. Diversity: Ensuring a diverse set of recommendations.\n",
        "3. Serendipity: Surprise recommendations.\n",
        "4. Temporal Dynamics: Changing user preferences over time.\n",
        "5. Privacy Concerns: Ensuring user data protection."
      ],
      "metadata": {
        "id": "44qIPXd9feeg"
      }
    },
    {
      "cell_type": "markdown",
      "source": [
        "The cold start problem arises when we have new users or new items in our system for which we don't have enough data to make meaningful recommendations. There are several strategies to handle this, including:\n",
        "1. Content-Based Recommendations\n",
        "2. Hybrid Models\n",
        "3. Asking new users to rate a few items before making recommendations\n",
        "4. Using demographic or profile data"
      ],
      "metadata": {
        "id": "aHBxQVfGfHIT"
      }
    },
    {
      "cell_type": "markdown",
      "source": [
        "Hybrid models combine collaborative and content-based filtering to provide recommendations. This approach allows us to exploit the benefits of both techniques:\n",
        "\n",
        "1. **Collaborative Filtering**: Predicts a user's interests by collecting preferences from many users (collaborating).\n",
        "2. **Content-based Filtering**: Recommends items by comparing the content of the items and a user profile, with content described in terms of several descriptors.\n",
        "\n",
        "By combining these methods, we can overcome challenges such as the cold start problem and provide more accurate and personalized recommendations."
      ],
      "metadata": {
        "id": "dDYfEhl8fMRu"
      }
    },
    {
      "cell_type": "markdown",
      "source": [
        "Deep Learning has paved the way for sophisticated models in the domain of recommendation systems:\n",
        "\n",
        "1. **Neural Collaborative Filtering**: An approach that leverages neural networks to learn the implicit relationship between users and items.\n",
        "2. **AutoEncoders for Recommendations**: These can be used to learn a dense representation of users and items, and the decoder part can reconstruct the unseen data.\n",
        "3. **RNN-based Recommendations**: If the sequence of user interactions matters (like watching a series of videos or reading a series of articles), RNNs can be very effective.\n",
        "4. **Embeddings**: Word2Vec or similar embeddings can be used to understand the content of items (like the plot of a movie or a book) and recommend similar items.\n",
        "\n",
        "Deep learning allows for more complex and nuanced patterns to be recognized, making recommendations even more personalized."
      ],
      "metadata": {
        "id": "IAYa9oR4f448"
      }
    },
    {
      "cell_type": "markdown",
      "source": [
        "Reinforcement Learning (RL) is about agents who take actions in an environment to maximize cumulative rewards. This paradigm can also be applied to recommender systems:\n",
        "\n",
        "1. **Agent**: The recommender system.\n",
        "2. **Environment**: The users.\n",
        "3. **Actions**: The items to recommend.\n",
        "4. **Rewards**: User feedback on recommendations.\n",
        "\n",
        "The idea is for the recommender system to recommend items in such a way that cumulative user satisfaction (or another relevant metric) is maximized over time. This approach allows for a more dynamic and adaptive system that can adjust to changing user preferences.\n"
      ],
      "metadata": {
        "id": "_gIiltAJf_Zo"
      }
    },
    {
      "cell_type": "markdown",
      "source": [
        "Recommender systems are everywhere, from e-commerce to content streaming platforms.\n",
        "\n",
        "Imagine the future! How will recommender systems evolve in the next 5-10 years? Think about advancements in technology, changing user behavior, and more.\n",
        "\n",
        "Share your thoughts, discuss with peers, and let's predict the future together!"
      ],
      "metadata": {
        "id": "sHhJ6m9MgK_4"
      }
    }
  ]
}